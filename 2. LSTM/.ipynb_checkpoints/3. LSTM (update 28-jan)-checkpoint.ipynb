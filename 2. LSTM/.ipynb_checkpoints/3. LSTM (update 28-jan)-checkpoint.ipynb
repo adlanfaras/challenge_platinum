{
 "cells": [
  {
   "cell_type": "markdown",
   "id": "05700517-9c11-4cc2-a4e3-161f37e35712",
   "metadata": {},
   "source": [
    "# Prepare Dataset"
   ]
  },
  {
   "cell_type": "code",
   "execution_count": 1,
   "id": "798c750d-692a-40f4-9dc6-d0ed0ab84463",
   "metadata": {},
   "outputs": [],
   "source": [
    "import pandas as pd\n",
    "import re"
   ]
  },
  {
   "cell_type": "code",
   "execution_count": 2,
   "id": "613b6078-76be-4f5a-9a33-210901332dbf",
   "metadata": {},
   "outputs": [],
   "source": [
    "# Load dataset\n",
    "\n",
    "df = pd.read_csv(\"train_preprocess.tsv.txt\" ,encoding=\"latin1\",sep='\\t',header=None,names=[\"Text\",\"Label\"])"
   ]
  },
  {
   "cell_type": "code",
   "execution_count": 4,
   "id": "7abcf5f3-6808-4a1c-b314-5d91280bbcc3",
   "metadata": {},
   "outputs": [
    {
     "data": {
      "text/html": [
       "<div>\n",
       "<style scoped>\n",
       "    .dataframe tbody tr th:only-of-type {\n",
       "        vertical-align: middle;\n",
       "    }\n",
       "\n",
       "    .dataframe tbody tr th {\n",
       "        vertical-align: top;\n",
       "    }\n",
       "\n",
       "    .dataframe thead th {\n",
       "        text-align: right;\n",
       "    }\n",
       "</style>\n",
       "<table border=\"1\" class=\"dataframe\">\n",
       "  <thead>\n",
       "    <tr style=\"text-align: right;\">\n",
       "      <th></th>\n",
       "      <th>Text</th>\n",
       "      <th>Label</th>\n",
       "    </tr>\n",
       "  </thead>\n",
       "  <tbody>\n",
       "    <tr>\n",
       "      <th>0</th>\n",
       "      <td>warung ini dimiliki oleh pengusaha pabrik tahu...</td>\n",
       "      <td>positive</td>\n",
       "    </tr>\n",
       "    <tr>\n",
       "      <th>1</th>\n",
       "      <td>mohon ulama lurus dan k212 mmbri hujjah partai...</td>\n",
       "      <td>neutral</td>\n",
       "    </tr>\n",
       "    <tr>\n",
       "      <th>2</th>\n",
       "      <td>lokasi strategis di jalan sumatera bandung . t...</td>\n",
       "      <td>positive</td>\n",
       "    </tr>\n",
       "    <tr>\n",
       "      <th>3</th>\n",
       "      <td>betapa bahagia nya diri ini saat unboxing pake...</td>\n",
       "      <td>positive</td>\n",
       "    </tr>\n",
       "    <tr>\n",
       "      <th>4</th>\n",
       "      <td>duh . jadi mahasiswa jangan sombong dong . kas...</td>\n",
       "      <td>negative</td>\n",
       "    </tr>\n",
       "  </tbody>\n",
       "</table>\n",
       "</div>"
      ],
      "text/plain": [
       "                                                Text     Label\n",
       "0  warung ini dimiliki oleh pengusaha pabrik tahu...  positive\n",
       "1  mohon ulama lurus dan k212 mmbri hujjah partai...   neutral\n",
       "2  lokasi strategis di jalan sumatera bandung . t...  positive\n",
       "3  betapa bahagia nya diri ini saat unboxing pake...  positive\n",
       "4  duh . jadi mahasiswa jangan sombong dong . kas...  negative"
      ]
     },
     "execution_count": 4,
     "metadata": {},
     "output_type": "execute_result"
    }
   ],
   "source": [
    "df.head()"
   ]
  },
  {
   "cell_type": "code",
   "execution_count": 5,
   "id": "b24b18ba-5a5c-42ba-a864-31b441a076d9",
   "metadata": {},
   "outputs": [
    {
     "data": {
      "text/plain": [
       "(11000, 2)"
      ]
     },
     "execution_count": 5,
     "metadata": {},
     "output_type": "execute_result"
    }
   ],
   "source": [
    "df.shape"
   ]
  },
  {
   "cell_type": "code",
   "execution_count": 6,
   "id": "ee8fdf1a-d482-4981-b2f4-84b90c41093c",
   "metadata": {},
   "outputs": [
    {
     "data": {
      "text/plain": [
       "Text     0\n",
       "Label    0\n",
       "dtype: int64"
      ]
     },
     "execution_count": 6,
     "metadata": {},
     "output_type": "execute_result"
    }
   ],
   "source": [
    "df.isnull().sum()"
   ]
  },
  {
   "cell_type": "code",
   "execution_count": 7,
   "id": "ff46e36e-ec40-4c0c-9c23-b1b163dc0507",
   "metadata": {},
   "outputs": [
    {
     "name": "stdout",
     "output_type": "stream",
     "text": [
      "Terdapat 0 duplicated data\n",
      "Duplicated data sudah dihapus\n"
     ]
    }
   ],
   "source": [
    "# Hapus Duplicate Data\n",
    "\n",
    "df = df.drop_duplicates()\n",
    "print('Terdapat {} duplicated data'.format(df.duplicated().sum()))\n",
    "print('Duplicated data sudah dihapus')"
   ]
  },
  {
   "cell_type": "markdown",
   "id": "3903cb98-c44a-4dab-b91d-d7e75a2cc1a0",
   "metadata": {},
   "source": [
    "## Text Processing / Text Normalization"
   ]
  },
  {
   "cell_type": "code",
   "execution_count": 8,
   "id": "e2fa2a7e-a7ef-4042-9c36-b958e9521544",
   "metadata": {},
   "outputs": [],
   "source": [
    "df_alay = pd.read_csv('new_kamusalay.csv', encoding='ISO-8859-1', header=None)\n",
    "df_alay = df_alay.rename(columns={0: 'alay', 1: 'formal'})"
   ]
  },
  {
   "cell_type": "code",
   "execution_count": 9,
   "id": "7f060a18-c534-460b-bc02-4c2ef6404271",
   "metadata": {},
   "outputs": [
    {
     "data": {
      "text/html": [
       "<div>\n",
       "<style scoped>\n",
       "    .dataframe tbody tr th:only-of-type {\n",
       "        vertical-align: middle;\n",
       "    }\n",
       "\n",
       "    .dataframe tbody tr th {\n",
       "        vertical-align: top;\n",
       "    }\n",
       "\n",
       "    .dataframe thead th {\n",
       "        text-align: right;\n",
       "    }\n",
       "</style>\n",
       "<table border=\"1\" class=\"dataframe\">\n",
       "  <thead>\n",
       "    <tr style=\"text-align: right;\">\n",
       "      <th></th>\n",
       "      <th>alay</th>\n",
       "      <th>formal</th>\n",
       "    </tr>\n",
       "  </thead>\n",
       "  <tbody>\n",
       "    <tr>\n",
       "      <th>0</th>\n",
       "      <td>anakjakartaasikasik</td>\n",
       "      <td>anak jakarta asyik asyik</td>\n",
       "    </tr>\n",
       "    <tr>\n",
       "      <th>1</th>\n",
       "      <td>pakcikdahtua</td>\n",
       "      <td>pak cik sudah tua</td>\n",
       "    </tr>\n",
       "    <tr>\n",
       "      <th>2</th>\n",
       "      <td>pakcikmudalagi</td>\n",
       "      <td>pak cik muda lagi</td>\n",
       "    </tr>\n",
       "    <tr>\n",
       "      <th>3</th>\n",
       "      <td>t3tapjokowi</td>\n",
       "      <td>tetap jokowi</td>\n",
       "    </tr>\n",
       "    <tr>\n",
       "      <th>4</th>\n",
       "      <td>3x</td>\n",
       "      <td>tiga kali</td>\n",
       "    </tr>\n",
       "  </tbody>\n",
       "</table>\n",
       "</div>"
      ],
      "text/plain": [
       "                  alay                    formal\n",
       "0  anakjakartaasikasik  anak jakarta asyik asyik\n",
       "1         pakcikdahtua         pak cik sudah tua\n",
       "2       pakcikmudalagi         pak cik muda lagi\n",
       "3          t3tapjokowi              tetap jokowi\n",
       "4                   3x                 tiga kali"
      ]
     },
     "execution_count": 9,
     "metadata": {},
     "output_type": "execute_result"
    }
   ],
   "source": [
    "df_alay.head()"
   ]
  },
  {
   "cell_type": "code",
   "execution_count": 10,
   "id": "17731424-e491-4299-98ca-bcdb875f49c2",
   "metadata": {},
   "outputs": [
    {
     "name": "stderr",
     "output_type": "stream",
     "text": [
      "[nltk_data] Downloading package stopwords to\n",
      "[nltk_data]     C:\\Users\\admin\\AppData\\Roaming\\nltk_data...\n",
      "[nltk_data]   Package stopwords is already up-to-date!\n"
     ]
    }
   ],
   "source": [
    "import nltk\n",
    "nltk.download('stopwords')\n",
    "from nltk.corpus import stopwords\n",
    "list_stopwords = set(stopwords.words('indonesian'))\n",
    "\n",
    "def data_cleaning (text):\n",
    "    text = re.sub ('\\\\n','', text)\n",
    "    text = re.sub ('RT',' ', text)\n",
    "    text = re.sub ('USER', ' ', text)\n",
    "    text = re.sub ('user', ' ', text)\n",
    "    text = re.sub ('(http|https):\\/\\/s+', ' ', text)\n",
    "    text = re.sub ('[^0-9a-zA-Z]+', ' ', text)\n",
    "    text = re.sub ('x[a-z0-9]{2}', ' ', text)\n",
    "    text = re.sub (\"\\d+\", ' ', text)\n",
    "    text = re.sub ('  +', '', text)\n",
    "    return text\n",
    "\n",
    "def case_folding (text):\n",
    "    return text.lower()\n",
    "\n",
    "def alay_normalization(text):\n",
    "    res = ''\n",
    "    for item in text.split():\n",
    "        if item in df_alay['alay'].values:\n",
    "            res += df_alay[df_alay['alay'] == item]['formal'].iloc[0]\n",
    "        else:\n",
    "            res += item\n",
    "        res += ' '\n",
    "    return res\n",
    "\n",
    "def stopword_removal(text):\n",
    "    resp = ''\n",
    "    for item in text.split():\n",
    "        if item not in list_stopwords:\n",
    "            resp += item\n",
    "        resp +=' '\n",
    "    clean = re.sub('  +', ' ', resp)\n",
    "    return clean\n",
    "\n",
    "def cleansing(text):\n",
    "    text = data_cleaning(text)\n",
    "    text = case_folding(text)\n",
    "    text = alay_normalization(text)\n",
    "    text = stopword_removal(text)\n",
    "    return text"
   ]
  },
  {
   "cell_type": "code",
   "execution_count": 11,
   "id": "8eba5e73-f25d-4831-a645-2107c2b05aa4",
   "metadata": {},
   "outputs": [],
   "source": [
    "# Apply cleansing\n",
    "df['Text_clean'] = df['Text'].apply(cleansing)"
   ]
  },
  {
   "cell_type": "code",
   "execution_count": 12,
   "id": "22b6a6d9-0813-417e-95f6-a0387594d69c",
   "metadata": {},
   "outputs": [
    {
     "data": {
      "text/html": [
       "<div>\n",
       "<style scoped>\n",
       "    .dataframe tbody tr th:only-of-type {\n",
       "        vertical-align: middle;\n",
       "    }\n",
       "\n",
       "    .dataframe tbody tr th {\n",
       "        vertical-align: top;\n",
       "    }\n",
       "\n",
       "    .dataframe thead th {\n",
       "        text-align: right;\n",
       "    }\n",
       "</style>\n",
       "<table border=\"1\" class=\"dataframe\">\n",
       "  <thead>\n",
       "    <tr style=\"text-align: right;\">\n",
       "      <th></th>\n",
       "      <th>Text</th>\n",
       "      <th>Label</th>\n",
       "      <th>Text_clean</th>\n",
       "    </tr>\n",
       "  </thead>\n",
       "  <tbody>\n",
       "    <tr>\n",
       "      <th>0</th>\n",
       "      <td>warung ini dimiliki oleh pengusaha pabrik tahu...</td>\n",
       "      <td>positive</td>\n",
       "      <td>warung dimiliki pengusaha pabrik puluhan terke...</td>\n",
       "    </tr>\n",
       "    <tr>\n",
       "      <th>1</th>\n",
       "      <td>mohon ulama lurus dan k212 mmbri hujjah partai...</td>\n",
       "      <td>neutral</td>\n",
       "      <td>mohon ulama lurus kmmbri hujjah partai diwlh s...</td>\n",
       "    </tr>\n",
       "    <tr>\n",
       "      <th>2</th>\n",
       "      <td>lokasi strategis di jalan sumatera bandung . t...</td>\n",
       "      <td>positive</td>\n",
       "      <td>lokasi strategis jalan sumatra bandung nya nya...</td>\n",
       "    </tr>\n",
       "    <tr>\n",
       "      <th>3</th>\n",
       "      <td>betapa bahagia nya diri ini saat unboxing pake...</td>\n",
       "      <td>positive</td>\n",
       "      <td>betapa bahagia nya unbo paket barang nya bagus...</td>\n",
       "    </tr>\n",
       "    <tr>\n",
       "      <th>4</th>\n",
       "      <td>duh . jadi mahasiswa jangan sombong dong . kas...</td>\n",
       "      <td>negative</td>\n",
       "      <td>aduh mahasiswa sombong kasih kartu kuning bela...</td>\n",
       "    </tr>\n",
       "  </tbody>\n",
       "</table>\n",
       "</div>"
      ],
      "text/plain": [
       "                                                Text     Label  \\\n",
       "0  warung ini dimiliki oleh pengusaha pabrik tahu...  positive   \n",
       "1  mohon ulama lurus dan k212 mmbri hujjah partai...   neutral   \n",
       "2  lokasi strategis di jalan sumatera bandung . t...  positive   \n",
       "3  betapa bahagia nya diri ini saat unboxing pake...  positive   \n",
       "4  duh . jadi mahasiswa jangan sombong dong . kas...  negative   \n",
       "\n",
       "                                          Text_clean  \n",
       "0  warung dimiliki pengusaha pabrik puluhan terke...  \n",
       "1  mohon ulama lurus kmmbri hujjah partai diwlh s...  \n",
       "2  lokasi strategis jalan sumatra bandung nya nya...  \n",
       "3  betapa bahagia nya unbo paket barang nya bagus...  \n",
       "4  aduh mahasiswa sombong kasih kartu kuning bela...  "
      ]
     },
     "execution_count": 12,
     "metadata": {},
     "output_type": "execute_result"
    }
   ],
   "source": [
    "df.head()"
   ]
  },
  {
   "cell_type": "code",
   "execution_count": 13,
   "id": "48091b44-2c00-497c-8413-1374a1cff8e4",
   "metadata": {},
   "outputs": [],
   "source": [
    "import sqlite3\n",
    "\n",
    "# Membuat koneksi ke database SQLite\n",
    "conn = sqlite3.connect('database.db')"
   ]
  },
  {
   "cell_type": "code",
   "execution_count": 14,
   "id": "9157baa6-f45d-4895-a1d5-4cdb25383ff6",
   "metadata": {},
   "outputs": [
    {
     "data": {
      "text/plain": [
       "10933"
      ]
     },
     "execution_count": 14,
     "metadata": {},
     "output_type": "execute_result"
    }
   ],
   "source": [
    "# Menyimpan DataFrame ke dalam tabel 'tabel_cleansed' dalam database\n",
    "df.to_sql('tabel_cleansed', con=conn, index=False, if_exists='replace')"
   ]
  },
  {
   "cell_type": "code",
   "execution_count": 15,
   "id": "6d4c9f42-226b-4bb0-92a3-87beb49aee4a",
   "metadata": {},
   "outputs": [
    {
     "name": "stdout",
     "output_type": "stream",
     "text": [
      "DataFrame yang telah di-cleansing berhasil disimpan ke dalam tabel 'tabel_cleansed' di database.\n"
     ]
    }
   ],
   "source": [
    "print(\"DataFrame yang telah di-cleansing berhasil disimpan ke dalam tabel 'tabel_cleansed' di database.\")"
   ]
  },
  {
   "cell_type": "code",
   "execution_count": 16,
   "id": "a45a2ddc-7fda-44c6-a255-a667f6d9eb0e",
   "metadata": {},
   "outputs": [],
   "source": [
    "# Close the database\n",
    "\n",
    "conn.commit()\n",
    "conn.close()"
   ]
  },
  {
   "cell_type": "code",
   "execution_count": 17,
   "id": "b34481ec-31ca-4d88-bba1-d35452f67e0b",
   "metadata": {},
   "outputs": [
    {
     "data": {
      "text/html": [
       "<div>\n",
       "<style scoped>\n",
       "    .dataframe tbody tr th:only-of-type {\n",
       "        vertical-align: middle;\n",
       "    }\n",
       "\n",
       "    .dataframe tbody tr th {\n",
       "        vertical-align: top;\n",
       "    }\n",
       "\n",
       "    .dataframe thead th {\n",
       "        text-align: right;\n",
       "    }\n",
       "</style>\n",
       "<table border=\"1\" class=\"dataframe\">\n",
       "  <thead>\n",
       "    <tr style=\"text-align: right;\">\n",
       "      <th></th>\n",
       "      <th>Text</th>\n",
       "      <th>Label</th>\n",
       "      <th>Text_clean</th>\n",
       "    </tr>\n",
       "  </thead>\n",
       "  <tbody>\n",
       "    <tr>\n",
       "      <th>0</th>\n",
       "      <td>warung ini dimiliki oleh pengusaha pabrik tahu...</td>\n",
       "      <td>positive</td>\n",
       "      <td>warung dimiliki pengusaha pabrik puluhan terke...</td>\n",
       "    </tr>\n",
       "    <tr>\n",
       "      <th>1</th>\n",
       "      <td>mohon ulama lurus dan k212 mmbri hujjah partai...</td>\n",
       "      <td>neutral</td>\n",
       "      <td>mohon ulama lurus kmmbri hujjah partai diwlh s...</td>\n",
       "    </tr>\n",
       "    <tr>\n",
       "      <th>2</th>\n",
       "      <td>lokasi strategis di jalan sumatera bandung . t...</td>\n",
       "      <td>positive</td>\n",
       "      <td>lokasi strategis jalan sumatra bandung nya nya...</td>\n",
       "    </tr>\n",
       "    <tr>\n",
       "      <th>3</th>\n",
       "      <td>betapa bahagia nya diri ini saat unboxing pake...</td>\n",
       "      <td>positive</td>\n",
       "      <td>betapa bahagia nya unbo paket barang nya bagus...</td>\n",
       "    </tr>\n",
       "    <tr>\n",
       "      <th>4</th>\n",
       "      <td>duh . jadi mahasiswa jangan sombong dong . kas...</td>\n",
       "      <td>negative</td>\n",
       "      <td>aduh mahasiswa sombong kasih kartu kuning bela...</td>\n",
       "    </tr>\n",
       "  </tbody>\n",
       "</table>\n",
       "</div>"
      ],
      "text/plain": [
       "                                                Text     Label  \\\n",
       "0  warung ini dimiliki oleh pengusaha pabrik tahu...  positive   \n",
       "1  mohon ulama lurus dan k212 mmbri hujjah partai...   neutral   \n",
       "2  lokasi strategis di jalan sumatera bandung . t...  positive   \n",
       "3  betapa bahagia nya diri ini saat unboxing pake...  positive   \n",
       "4  duh . jadi mahasiswa jangan sombong dong . kas...  negative   \n",
       "\n",
       "                                          Text_clean  \n",
       "0  warung dimiliki pengusaha pabrik puluhan terke...  \n",
       "1  mohon ulama lurus kmmbri hujjah partai diwlh s...  \n",
       "2  lokasi strategis jalan sumatra bandung nya nya...  \n",
       "3  betapa bahagia nya unbo paket barang nya bagus...  \n",
       "4  aduh mahasiswa sombong kasih kartu kuning bela...  "
      ]
     },
     "execution_count": 17,
     "metadata": {},
     "output_type": "execute_result"
    }
   ],
   "source": [
    "# Load dataset from database\n",
    "\n",
    "db = sqlite3.connect('database.db', check_same_thread = False)\n",
    "q_data = 'SELECT * FROM tabel_cleansed'\n",
    "data = pd.read_sql_query(q_data, db)\n",
    "data.head()"
   ]
  },
  {
   "cell_type": "markdown",
   "id": "9f85b6ac-6ea9-4f64-9097-4841e2921ee3",
   "metadata": {},
   "source": [
    "## Feature-Label Classification"
   ]
  },
  {
   "cell_type": "code",
   "execution_count": 18,
   "id": "f5ba81b0-5da6-48b8-a79e-356251cda089",
   "metadata": {},
   "outputs": [
    {
     "name": "stdout",
     "output_type": "stream",
     "text": [
      "Pos: 6383, Neu: 1138, Neg: 3412\n",
      "Total data: 10933\n"
     ]
    }
   ],
   "source": [
    "neg = df.loc[df.Label == 'negative'].Text_clean.tolist()\n",
    "neu = df.loc[df.Label == 'neutral'].Text_clean.tolist()\n",
    "pos = df.loc[df.Label == 'positive'].Text_clean.tolist()\n",
    "\n",
    "neg_label = df.loc[df.Label == 'negative'].Label.tolist()\n",
    "neu_label = df.loc[df.Label == 'neutral'].Label.tolist()\n",
    "pos_label = df.loc[df.Label == 'positive'].Label.tolist()\n",
    "\n",
    "total_data = pos + neu + neg\n",
    "labels = pos_label + neu_label + neg_label\n",
    "\n",
    "print(\"Pos: %s, Neu: %s, Neg: %s\" % (len(pos), len(neu), len(neg)))\n",
    "print(\"Total data: %s\" % len(total_data))"
   ]
  },
  {
   "cell_type": "markdown",
   "id": "6971b63f-52c6-40ef-aceb-681fcc0885c8",
   "metadata": {},
   "source": [
    "# Feature Extraction"
   ]
  },
  {
   "cell_type": "code",
   "execution_count": 19,
   "id": "c461484a-4878-47de-afaf-f50fcdcaacd7",
   "metadata": {},
   "outputs": [
    {
     "name": "stdout",
     "output_type": "stream",
     "text": [
      "WARNING:tensorflow:From C:\\Users\\admin\\AppData\\Local\\Programs\\Python\\Python311\\Lib\\site-packages\\keras\\src\\losses.py:2976: The name tf.losses.sparse_softmax_cross_entropy is deprecated. Please use tf.compat.v1.losses.sparse_softmax_cross_entropy instead.\n",
      "\n"
     ]
    }
   ],
   "source": [
    "import pickle\n",
    "from tensorflow.keras.preprocessing.text import Tokenizer\n",
    "from tensorflow.keras.preprocessing.sequence import pad_sequences\n",
    "from collections import defaultdict"
   ]
  },
  {
   "cell_type": "code",
   "execution_count": 20,
   "id": "2ae6eb8e-a790-4308-bb02-48be29810c96",
   "metadata": {},
   "outputs": [
    {
     "name": "stdout",
     "output_type": "stream",
     "text": [
      "tokenizer.pickle has created!\n",
      "x_pad_sequences.pickle has created!\n"
     ]
    }
   ],
   "source": [
    "# Tokenizer and pad sequence\n",
    "\n",
    "max_features = 100000\n",
    "tokenizer = Tokenizer(num_words=max_features, split=' ', lower=True)\n",
    "tokenizer.fit_on_texts(total_data)\n",
    "with open('tokenizer.pickle', 'wb') as handle:\n",
    "    pickle.dump(tokenizer, handle, protocol=pickle.HIGHEST_PROTOCOL)\n",
    "    print(\"tokenizer.pickle has created!\")\n",
    "\n",
    "X = tokenizer.texts_to_sequences(total_data)\n",
    "\n",
    "vocab_size = len(tokenizer.word_index)\n",
    "maxlen = max(len(x) for x in X)\n",
    "\n",
    "X = pad_sequences(X)\n",
    "with open('x_pad_sequences.pickle', 'wb') as handle:\n",
    "    pickle.dump(X, handle, protocol=pickle.HIGHEST_PROTOCOL)\n",
    "    print(\"x_pad_sequences.pickle has created!\")"
   ]
  },
  {
   "cell_type": "code",
   "execution_count": 21,
   "id": "83fb5fd9-9edd-4ef7-a7f2-330990ac2807",
   "metadata": {},
   "outputs": [
    {
     "name": "stdout",
     "output_type": "stream",
     "text": [
      "y_labels.pickle has created!\n"
     ]
    }
   ],
   "source": [
    "# Feature extraction for labels\n",
    "\n",
    "Y = pd.get_dummies(labels)\n",
    "Y = Y.values\n",
    "\n",
    "with open('y_labels.pickle', 'wb') as handle:\n",
    "    pickle.dump(Y, handle, protocol=pickle.HIGHEST_PROTOCOL)\n",
    "    print(\"y_labels.pickle has created!\")"
   ]
  },
  {
   "cell_type": "markdown",
   "id": "8ded70fb-86b9-459b-8a74-816a477c5769",
   "metadata": {},
   "source": [
    "# Split traning and testing dataset"
   ]
  },
  {
   "cell_type": "code",
   "execution_count": 22,
   "id": "1236880a-8ec5-4e18-9f8a-1e5cb97a537a",
   "metadata": {},
   "outputs": [],
   "source": [
    "from imblearn.over_sampling import SMOTE\n",
    "from imblearn.keras import balanced_batch_generator\n",
    "from sklearn.model_selection import train_test_split\n",
    "from tensorflow.keras.models import Sequential\n",
    "import numpy as np\n",
    "import tensorflow as tf\n",
    "from tensorflow.keras import layers\n",
    "from tensorflow.keras.models import Sequential\n",
    "from tensorflow.keras.layers import Dense, Embedding, LSTM, SpatialDropout1D, SimpleRNN, Activation\n",
    "from tensorflow.keras import optimizers\n",
    "from tensorflow.keras.callbacks import EarlyStopping, TensorBoard\n",
    "from tensorflow.keras.layers import Flatten\n",
    "from tensorflow.keras import backend as K\n",
    "from sklearn.model_selection import KFold\n",
    "from sklearn.metrics import accuracy_score\n",
    "from sklearn.metrics import classification_report\n",
    "from sklearn.model_selection import KFold"
   ]
  },
  {
   "cell_type": "code",
   "execution_count": 23,
   "id": "3c4bb265-06ab-4828-a94c-b60b890af78e",
   "metadata": {},
   "outputs": [],
   "source": [
    "# Split train-test data with proportion 80:20\n",
    "\n",
    "file = open(\"x_pad_sequences.pickle\",'rb')\n",
    "X = pickle.load(file)\n",
    "file.close()\n",
    "\n",
    "file = open(\"y_labels.pickle\",'rb')\n",
    "Y = pickle.load(file)\n",
    "file.close()\n",
    "\n",
    "X_train, X_test, y_train, y_test = train_test_split(X, Y, test_size=0.2, random_state=42)"
   ]
  },
  {
   "cell_type": "code",
   "execution_count": 24,
   "id": "74052454-56a0-4c7c-a723-e73dc80d5d50",
   "metadata": {},
   "outputs": [],
   "source": [
    "# Apply oversampling using SMOTE\n",
    "sm = SMOTE(sampling_strategy='auto', random_state=42)\n",
    "X_train_resampled, y_train_resampled = sm.fit_resample(X_train, y_train)"
   ]
  },
  {
   "cell_type": "markdown",
   "id": "51d2ce35-fb6b-4759-ab8c-7a5992ea7c2b",
   "metadata": {},
   "source": [
    "# Model Training"
   ]
  },
  {
   "cell_type": "markdown",
   "id": "f3fd6e1b-3e57-40e0-b6b2-e72022fe1fda",
   "metadata": {},
   "source": [
    "### Training"
   ]
  },
  {
   "cell_type": "code",
   "execution_count": 25,
   "id": "cd6dd667-54ff-4914-8c69-0efb465a4f46",
   "metadata": {},
   "outputs": [
    {
     "name": "stdout",
     "output_type": "stream",
     "text": [
      "WARNING:tensorflow:From C:\\Users\\admin\\AppData\\Local\\Programs\\Python\\Python311\\Lib\\site-packages\\keras\\src\\backend.py:873: The name tf.get_default_graph is deprecated. Please use tf.compat.v1.get_default_graph instead.\n",
      "\n",
      "WARNING:tensorflow:From C:\\Users\\admin\\AppData\\Local\\Programs\\Python\\Python311\\Lib\\site-packages\\keras\\src\\optimizers\\__init__.py:309: The name tf.train.Optimizer is deprecated. Please use tf.compat.v1.train.Optimizer instead.\n",
      "\n",
      "Model: \"sequential\"\n",
      "_________________________________________________________________\n",
      " Layer (type)                Output Shape              Param #   \n",
      "=================================================================\n",
      " embedding (Embedding)       (None, 58, 100)           10000000  \n",
      "                                                                 \n",
      " lstm (LSTM)                 (None, 64)                42240     \n",
      "                                                                 \n",
      " dense (Dense)               (None, 3)                 195       \n",
      "                                                                 \n",
      "=================================================================\n",
      "Total params: 10042435 (38.31 MB)\n",
      "Trainable params: 10042435 (38.31 MB)\n",
      "Non-trainable params: 0 (0.00 Byte)\n",
      "_________________________________________________________________\n",
      "None\n",
      "Epoch 1/50\n",
      "WARNING:tensorflow:From C:\\Users\\admin\\AppData\\Local\\Programs\\Python\\Python311\\Lib\\site-packages\\keras\\src\\utils\\tf_utils.py:492: The name tf.ragged.RaggedTensorValue is deprecated. Please use tf.compat.v1.ragged.RaggedTensorValue instead.\n",
      "\n",
      "WARNING:tensorflow:From C:\\Users\\admin\\AppData\\Local\\Programs\\Python\\Python311\\Lib\\site-packages\\keras\\src\\engine\\base_layer_utils.py:384: The name tf.executing_eagerly_outside_functions is deprecated. Please use tf.compat.v1.executing_eagerly_outside_functions instead.\n",
      "\n",
      "480/480 [==============================] - 121s 239ms/step - loss: 0.7115 - accuracy: 0.6826 - val_loss: 0.5009 - val_accuracy: 0.8240\n",
      "Epoch 2/50\n",
      "480/480 [==============================] - 112s 233ms/step - loss: 0.4383 - accuracy: 0.8225 - val_loss: 0.4616 - val_accuracy: 0.8313\n",
      "Epoch 3/50\n",
      "480/480 [==============================] - 122s 254ms/step - loss: 0.2914 - accuracy: 0.8867 - val_loss: 0.5072 - val_accuracy: 0.8130\n",
      "Epoch 4/50\n",
      "480/480 [==============================] - 129s 270ms/step - loss: 0.2101 - accuracy: 0.9186 - val_loss: 0.5871 - val_accuracy: 0.7988\n",
      "Epoch 4: early stopping\n"
     ]
    }
   ],
   "source": [
    "embed_dim = 100\n",
    "units = 64\n",
    "\n",
    "max_features = 100000\n",
    "\n",
    "model = Sequential()\n",
    "model.add(Embedding(max_features, embed_dim, input_length=X.shape[1]))\n",
    "model.add(LSTM(units, dropout=0.5))\n",
    "model.add(Dense(3,activation='softmax'))\n",
    "\n",
    "adam = optimizers.Adam(learning_rate=0.0005)\n",
    "model.compile(optimizer='adam', loss='categorical_crossentropy', metrics=['accuracy'])\n",
    "print(model.summary())\n",
    "\n",
    "es = EarlyStopping(monitor='val_loss', mode='min', verbose=1, patience=2)\n",
    "history = model.fit(X_train_resampled, y_train_resampled, epochs=50, batch_size=32, validation_data=(X_test, y_test), verbose=1, callbacks=es)"
   ]
  },
  {
   "cell_type": "markdown",
   "id": "2d00936e-9a92-4e36-b1b5-afb13e3809b7",
   "metadata": {},
   "source": [
    "### Evaluasi"
   ]
  },
  {
   "cell_type": "code",
   "execution_count": 26,
   "id": "5e07cf2c-490f-4578-bf36-5c14dc7ac5a7",
   "metadata": {},
   "outputs": [
    {
     "name": "stdout",
     "output_type": "stream",
     "text": [
      "69/69 [==============================] - 3s 17ms/step\n",
      "Testing selesai\n",
      "              precision    recall  f1-score   support\n",
      "\n",
      "           0       0.70      0.81      0.75       681\n",
      "           1       0.61      0.80      0.70       235\n",
      "           2       0.92      0.79      0.85      1271\n",
      "\n",
      "    accuracy                           0.80      2187\n",
      "   macro avg       0.75      0.80      0.77      2187\n",
      "weighted avg       0.82      0.80      0.80      2187\n",
      "\n"
     ]
    }
   ],
   "source": [
    "from sklearn import metrics\n",
    "\n",
    "predictions = model.predict(X_test)\n",
    "y_pred = predictions\n",
    "matrix_test = metrics.classification_report(y_test.argmax(axis=1), y_pred.argmax(axis=1))\n",
    "print(\"Testing selesai\")\n",
    "print(matrix_test)"
   ]
  },
  {
   "cell_type": "markdown",
   "id": "21c31775-a659-488c-853f-9d45ebbf3827",
   "metadata": {},
   "source": [
    "### Cross validation"
   ]
  },
  {
   "cell_type": "code",
   "execution_count": 28,
   "id": "11e552db-775b-408a-9e6f-351a48f49978",
   "metadata": {},
   "outputs": [
    {
     "name": "stdout",
     "output_type": "stream",
     "text": [
      "Epoch 1/50\n",
      "274/274 [==============================] - 68s 239ms/step - loss: 0.6506 - accuracy: 0.7395 - val_loss: 0.6054 - val_accuracy: 0.7321\n",
      "Epoch 2/50\n",
      "274/274 [==============================] - 63s 230ms/step - loss: 0.3933 - accuracy: 0.8412 - val_loss: 0.4566 - val_accuracy: 0.8217\n",
      "Epoch 3/50\n",
      "274/274 [==============================] - 70s 254ms/step - loss: 0.2355 - accuracy: 0.9139 - val_loss: 0.4735 - val_accuracy: 0.8276\n",
      "Epoch 4/50\n",
      "274/274 [==============================] - 82s 300ms/step - loss: 0.1480 - accuracy: 0.9450 - val_loss: 0.5617 - val_accuracy: 0.8070\n",
      "Epoch 4: early stopping\n",
      "69/69 [==============================] - 3s 17ms/step\n",
      "Training ke- 1\n",
      "              precision    recall  f1-score   support\n",
      "\n",
      "           0       0.68      0.83      0.74       681\n",
      "           1       0.76      0.50      0.60       235\n",
      "           2       0.90      0.85      0.88      1271\n",
      "\n",
      "    accuracy                           0.81      2187\n",
      "   macro avg       0.78      0.73      0.74      2187\n",
      "weighted avg       0.82      0.81      0.81      2187\n",
      "\n",
      "======================================================\n",
      "Epoch 1/50\n",
      "274/274 [==============================] - 89s 304ms/step - loss: 0.6682 - accuracy: 0.7203 - val_loss: 0.4290 - val_accuracy: 0.8519\n",
      "Epoch 2/50\n",
      "274/274 [==============================] - 85s 311ms/step - loss: 0.3947 - accuracy: 0.8492 - val_loss: 0.2473 - val_accuracy: 0.9113\n",
      "Epoch 3/50\n",
      "274/274 [==============================] - 74s 271ms/step - loss: 0.2383 - accuracy: 0.9131 - val_loss: 0.2038 - val_accuracy: 0.9255\n",
      "Epoch 4/50\n",
      "274/274 [==============================] - 74s 269ms/step - loss: 0.1565 - accuracy: 0.9435 - val_loss: 0.1650 - val_accuracy: 0.9465\n",
      "Epoch 5/50\n",
      "274/274 [==============================] - 72s 262ms/step - loss: 0.1073 - accuracy: 0.9607 - val_loss: 0.1962 - val_accuracy: 0.9360\n",
      "Epoch 6/50\n",
      "274/274 [==============================] - 73s 268ms/step - loss: 0.0810 - accuracy: 0.9706 - val_loss: 0.1494 - val_accuracy: 0.9538\n",
      "Epoch 7/50\n",
      "274/274 [==============================] - 72s 264ms/step - loss: 0.0620 - accuracy: 0.9768 - val_loss: 0.1756 - val_accuracy: 0.9538\n",
      "Epoch 8/50\n",
      "274/274 [==============================] - 76s 279ms/step - loss: 0.0473 - accuracy: 0.9836 - val_loss: 0.2004 - val_accuracy: 0.9456\n",
      "Epoch 8: early stopping\n",
      "69/69 [==============================] - 6s 21ms/step\n",
      "Training ke- 2\n",
      "              precision    recall  f1-score   support\n",
      "\n",
      "           0       0.90      0.94      0.92       668\n",
      "           1       0.98      0.93      0.96       198\n",
      "           2       0.97      0.95      0.96      1321\n",
      "\n",
      "    accuracy                           0.95      2187\n",
      "   macro avg       0.95      0.94      0.94      2187\n",
      "weighted avg       0.95      0.95      0.95      2187\n",
      "\n",
      "======================================================\n",
      "Epoch 1/50\n",
      "274/274 [==============================] - 109s 326ms/step - loss: 0.6507 - accuracy: 0.7406 - val_loss: 0.4753 - val_accuracy: 0.8253\n",
      "Epoch 2/50\n",
      "274/274 [==============================] - 97s 353ms/step - loss: 0.3882 - accuracy: 0.8527 - val_loss: 0.2918 - val_accuracy: 0.8971\n",
      "Epoch 3/50\n",
      "274/274 [==============================] - 87s 317ms/step - loss: 0.2413 - accuracy: 0.9107 - val_loss: 0.2373 - val_accuracy: 0.9118\n",
      "Epoch 4/50\n",
      "274/274 [==============================] - 85s 312ms/step - loss: 0.1580 - accuracy: 0.9420 - val_loss: 0.1769 - val_accuracy: 0.9383\n",
      "Epoch 5/50\n",
      "274/274 [==============================] - 78s 285ms/step - loss: 0.1135 - accuracy: 0.9578 - val_loss: 0.2214 - val_accuracy: 0.9236\n",
      "Epoch 6/50\n",
      "274/274 [==============================] - 72s 264ms/step - loss: 0.0814 - accuracy: 0.9702 - val_loss: 0.2067 - val_accuracy: 0.9310\n",
      "Epoch 6: early stopping\n",
      "69/69 [==============================] - 2s 15ms/step\n",
      "Training ke- 3\n",
      "              precision    recall  f1-score   support\n",
      "\n",
      "           0       0.85      0.96      0.90       679\n",
      "           1       0.97      0.92      0.94       241\n",
      "           2       0.98      0.92      0.95      1267\n",
      "\n",
      "    accuracy                           0.93      2187\n",
      "   macro avg       0.93      0.93      0.93      2187\n",
      "weighted avg       0.94      0.93      0.93      2187\n",
      "\n",
      "======================================================\n",
      "Epoch 1/50\n",
      "274/274 [==============================] - 69s 239ms/step - loss: 0.6522 - accuracy: 0.7343 - val_loss: 0.4782 - val_accuracy: 0.8024\n",
      "Epoch 2/50\n",
      "274/274 [==============================] - 65s 236ms/step - loss: 0.3912 - accuracy: 0.8490 - val_loss: 0.2706 - val_accuracy: 0.9016\n",
      "Epoch 3/50\n",
      "274/274 [==============================] - 64s 235ms/step - loss: 0.2410 - accuracy: 0.9091 - val_loss: 0.1833 - val_accuracy: 0.9373\n",
      "Epoch 4/50\n",
      "274/274 [==============================] - 66s 241ms/step - loss: 0.1490 - accuracy: 0.9455 - val_loss: 0.1739 - val_accuracy: 0.9364\n",
      "Epoch 5/50\n",
      "274/274 [==============================] - 66s 240ms/step - loss: 0.1039 - accuracy: 0.9632 - val_loss: 0.1417 - val_accuracy: 0.9488\n",
      "Epoch 6/50\n",
      "274/274 [==============================] - 67s 246ms/step - loss: 0.0786 - accuracy: 0.9716 - val_loss: 0.1449 - val_accuracy: 0.9515\n",
      "Epoch 7/50\n",
      "274/274 [==============================] - 65s 238ms/step - loss: 0.0606 - accuracy: 0.9779 - val_loss: 0.1410 - val_accuracy: 0.9556\n",
      "Epoch 8/50\n",
      "274/274 [==============================] - 65s 237ms/step - loss: 0.0483 - accuracy: 0.9801 - val_loss: 0.1752 - val_accuracy: 0.9488\n",
      "Epoch 9/50\n",
      "274/274 [==============================] - 64s 234ms/step - loss: 0.0453 - accuracy: 0.9822 - val_loss: 0.1590 - val_accuracy: 0.9538\n",
      "Epoch 9: early stopping\n",
      "69/69 [==============================] - 2s 13ms/step\n",
      "Training ke- 4\n",
      "              precision    recall  f1-score   support\n",
      "\n",
      "           0       0.92      0.95      0.94       708\n",
      "           1       0.97      0.90      0.94       214\n",
      "           2       0.97      0.96      0.97      1264\n",
      "\n",
      "    accuracy                           0.95      2186\n",
      "   macro avg       0.96      0.94      0.95      2186\n",
      "weighted avg       0.95      0.95      0.95      2186\n",
      "\n",
      "======================================================\n",
      "Epoch 1/50\n",
      "274/274 [==============================] - 67s 233ms/step - loss: 0.6517 - accuracy: 0.7381 - val_loss: 0.4337 - val_accuracy: 0.8225\n",
      "Epoch 2/50\n",
      "274/274 [==============================] - 63s 230ms/step - loss: 0.3855 - accuracy: 0.8549 - val_loss: 0.2900 - val_accuracy: 0.8980\n",
      "Epoch 3/50\n",
      "274/274 [==============================] - 64s 233ms/step - loss: 0.2336 - accuracy: 0.9161 - val_loss: 0.2408 - val_accuracy: 0.9172\n",
      "Epoch 4/50\n",
      "274/274 [==============================] - 72s 261ms/step - loss: 0.1482 - accuracy: 0.9498 - val_loss: 0.1887 - val_accuracy: 0.9360\n",
      "Epoch 5/50\n",
      "274/274 [==============================] - 62s 224ms/step - loss: 0.1095 - accuracy: 0.9585 - val_loss: 0.1616 - val_accuracy: 0.9488\n",
      "Epoch 6/50\n",
      "274/274 [==============================] - 57s 207ms/step - loss: 0.0841 - accuracy: 0.9670 - val_loss: 0.1841 - val_accuracy: 0.9456\n",
      "Epoch 7/50\n",
      "274/274 [==============================] - 59s 213ms/step - loss: 0.0632 - accuracy: 0.9754 - val_loss: 0.1697 - val_accuracy: 0.9533\n",
      "Epoch 7: early stopping\n",
      "69/69 [==============================] - 1s 12ms/step\n",
      "Training ke- 5\n",
      "              precision    recall  f1-score   support\n",
      "\n",
      "           0       0.93      0.93      0.93       676\n",
      "           1       0.96      0.90      0.93       250\n",
      "           2       0.96      0.97      0.97      1260\n",
      "\n",
      "    accuracy                           0.95      2186\n",
      "   macro avg       0.95      0.94      0.94      2186\n",
      "weighted avg       0.95      0.95      0.95      2186\n",
      "\n",
      "======================================================\n",
      "\n",
      "\n",
      "\n",
      "\n",
      "Rata-rata Accuracy:  0.9181442282873388\n"
     ]
    }
   ],
   "source": [
    "kf = KFold(n_splits=5, random_state=42, shuffle=True)\n",
    "accuracies = []\n",
    "\n",
    "y = Y\n",
    "\n",
    "embed_dim = 100\n",
    "units = 64\n",
    "\n",
    "for iteration, data in enumerate(kf.split(X), start=1):\n",
    "    data_train = X_train_resampled[data[0]]\n",
    "    target_train = y_train_resampled[data[0]]\n",
    "\n",
    "    data_test = X[data[1]]\n",
    "    target_test = y[data[1]]\n",
    "    \n",
    "    model = Sequential()\n",
    "    model.add(Embedding(max_features, embed_dim, input_length=X.shape[1]))\n",
    "    model.add(LSTM(units, dropout=0.5))\n",
    "    model.add(Dense(3, activation='softmax'))\n",
    "\n",
    "    adam = optimizers.Adam(learning_rate = 0.0005)\n",
    "    model.compile(optimizer='adam', loss='categorical_crossentropy', metrics=['accuracy'])\n",
    "\n",
    "    es = EarlyStopping(monitor='val_loss', mode='min', verbose=1, patience=2)\n",
    "    history = model.fit(data_train, target_train, epochs=50, batch_size=32, validation_data=(data_test, target_test), verbose=1, callbacks=[es])\n",
    "\n",
    "    predictions = model.predict(data_test)\n",
    "    y_pred = predictions\n",
    "\n",
    "    accuracy = accuracy_score(target_test.argmax(axis=1), y_pred.argmax(axis=1))\n",
    "\n",
    "    print(\"Training ke-\", iteration)\n",
    "    print(classification_report(target_test.argmax(axis=1), y_pred.argmax(axis=1)))\n",
    "    print(\"======================================================\")\n",
    "\n",
    "    accuracies.append(accuracy)\n",
    "\n",
    "average_accuracy = np.mean(accuracies)\n",
    "\n",
    "print(\"\\n\\n\\n\\nRata-rata Accuracy: \", average_accuracy)"
   ]
  },
  {
   "cell_type": "markdown",
   "id": "778ed926-c63b-4747-94aa-a7f554ddc8ed",
   "metadata": {},
   "source": [
    "### Evaluation Visualization"
   ]
  },
  {
   "cell_type": "code",
   "execution_count": 29,
   "id": "0101d244-89be-49b4-8a9e-d8e6fc774330",
   "metadata": {},
   "outputs": [
    {
     "data": {
      "image/png": "[encoded data removed]",
      "text/plain": [
       "<Figure size 1200x500 with 2 Axes>"
      ]
     },
     "metadata": {},
     "output_type": "display_data"
    }
   ],
   "source": [
    "import matplotlib.pyplot as plt\n",
    "plt.style.use('ggplot')\n",
    "\n",
    "def plot_history(history):\n",
    "    acc = history.history['accuracy']\n",
    "    val_acc = history.history['val_accuracy']\n",
    "    loss = history.history['loss']\n",
    "    val_loss = history.history['val_loss']\n",
    "    x = range(1, len(acc) + 1)\n",
    "\n",
    "    plt.figure(figsize=(12, 5))\n",
    "    plt.subplot(1, 2, 1)\n",
    "    plt.plot(x, acc, 'b', label='Training acc')\n",
    "    plt.plot(x, val_acc, 'r', label='Validation acc')\n",
    "    plt.title('Training and validation accuracy')\n",
    "    plt.legend()\n",
    "    plt.subplot(1, 2, 2)\n",
    "    plt.plot(x, loss, 'b', label='Training loss')\n",
    "    plt.plot(x, val_loss, 'r', label='Validation loss')\n",
    "    plt.title('Training and validation loss')\n",
    "    plt.legend()\n",
    "\n",
    "%matplotlib inline\n",
    "plot_history(history)"
   ]
  },
  {
   "cell_type": "code",
   "execution_count": 49,
   "id": "78b9e2db-ecf5-492f-9dd4-8fe9ab7bca86",
   "metadata": {},
   "outputs": [
    {
     "name": "stdout",
     "output_type": "stream",
     "text": [
      "69/69 [==============================] - 1s 11ms/step\n"
     ]
    },
    {
     "data": {
      "image/png": "[encoded data removed]",
      "text/plain": [
       "<Figure size 640x480 with 2 Axes>"
      ]
     },
     "metadata": {},
     "output_type": "display_data"
    }
   ],
   "source": [
    "from sklearn.metrics import classification_report, confusion_matrix, ConfusionMatrixDisplay\n",
    "sentiment = ['Negative', 'Neutral', 'Positive']\n",
    "prediction = model.predict(X_test)\n",
    "y_pred = prediction\n",
    "cm = confusion_matrix(y_test.argmax(axis=1), y_pred.argmax(axis=1))\n",
    "\n",
    "disp = ConfusionMatrixDisplay(confusion_matrix=cm,\n",
    "                              display_labels=sentiment)\n",
    "\n",
    "disp.plot()\n",
    "plt.grid(False)\n",
    "plt.show()"
   ]
  },
  {
   "cell_type": "code",
   "execution_count": 30,
   "id": "ef70e022-c672-4bb7-bc26-5e7f1b1abc91",
   "metadata": {},
   "outputs": [
    {
     "name": "stderr",
     "output_type": "stream",
     "text": [
      "C:\\Users\\admin\\AppData\\Local\\Programs\\Python\\Python311\\Lib\\site-packages\\keras\\src\\engine\\training.py:3103: UserWarning: You are saving your model as an HDF5 file via `model.save()`. This file format is considered legacy. We recommend using instead the native Keras format, e.g. `model.save('my_model.keras')`.\n",
      "  saving_api.save_model(\n"
     ]
    },
    {
     "name": "stdout",
     "output_type": "stream",
     "text": [
      "Model has created!\n"
     ]
    }
   ],
   "source": [
    "model.save('model_lstm.h5')\n",
    "print(\"Model has created!\")"
   ]
  },
  {
   "cell_type": "markdown",
   "id": "00541235-f37e-461a-9b9c-075492871cc4",
   "metadata": {},
   "source": [
    "# Prediction"
   ]
  },
  {
   "cell_type": "code",
   "execution_count": 32,
   "id": "be27f540-2058-4b61-9230-d733c296ce81",
   "metadata": {},
   "outputs": [],
   "source": [
    "import re \n",
    "from keras.models import load_model\n",
    "import numpy as np\n",
    "import pickle\n",
    "from tensorflow.keras.preprocessing.sequence import pad_sequences"
   ]
  },
  {
   "cell_type": "code",
   "execution_count": 33,
   "id": "88d4df23-a675-4c27-a188-25a4cd2aa39e",
   "metadata": {},
   "outputs": [
    {
     "name": "stdout",
     "output_type": "stream",
     "text": [
      "1/1 [==============================] - 1s 810ms/step\n",
      "Text: makanannya minumannya enak \n",
      "Sentiment: positive\n"
     ]
    }
   ],
   "source": [
    "input_text = \"\"\"\n",
    "Makanannya dan minumannya enak  \"\"\"\n",
    "\n",
    "sentiment = ['negative', 'neutral', 'positive']\n",
    "\n",
    "text = [cleansing(input_text)]\n",
    "predicted = tokenizer.texts_to_sequences(text)\n",
    "guess = pad_sequences(predicted, maxlen=X.shape[1])\n",
    "\n",
    "model = load_model('model_lstm.h5')\n",
    "prediction = model.predict(guess)\n",
    "polarity = np.argmax(prediction[0])\n",
    "hasil = sentiment[polarity]\n",
    "\n",
    "print(\"Text: %s\" % text[0])\n",
    "print(\"Sentiment: %s\" % sentiment[polarity])"
   ]
  },
  {
   "cell_type": "code",
   "execution_count": 34,
   "id": "49fada72-7d3d-43f5-98df-7d8ca86f9a78",
   "metadata": {},
   "outputs": [
    {
     "name": "stdout",
     "output_type": "stream",
     "text": [
      "1/1 [==============================] - 1s 625ms/step\n",
      "Text: presiden benera bacot \n",
      "Sentiment: negative\n"
     ]
    }
   ],
   "source": [
    "input_text = \"\"\"\n",
    "presiden tidak ada yang benera, bacot lah  \"\"\"\n",
    "\n",
    "sentiment = ['negative', 'neutral', 'positive']\n",
    "\n",
    "text = [cleansing(input_text)]\n",
    "predicted = tokenizer.texts_to_sequences(text)\n",
    "guess = pad_sequences(predicted, maxlen=X.shape[1])\n",
    "\n",
    "model = load_model('model_lstm.h5')\n",
    "prediction = model.predict(guess)\n",
    "polarity = np.argmax(prediction[0])\n",
    "hasil = sentiment[polarity]\n",
    "\n",
    "print(\"Text: %s\" % text[0])\n",
    "print(\"Sentiment: %s\" % sentiment[polarity])"
   ]
  },
  {
   "cell_type": "markdown",
   "id": "103fa932-0f5f-459b-8499-860f178d7ebb",
   "metadata": {},
   "source": [
    "# **Prediksi Data Tweet**"
   ]
  },
  {
   "cell_type": "code",
   "execution_count": 39,
   "id": "a54d20bc-9164-458f-89d0-24a83b9952e6",
   "metadata": {},
   "outputs": [],
   "source": [
    "data_twt = 'Data Tweet/data.csv'\n",
    "df_tweet = pd.read_csv(data_twt, encoding='latin-1')"
   ]
  },
  {
   "cell_type": "code",
   "execution_count": 40,
   "id": "05a5488f-b662-45ce-99dd-087f43033f0f",
   "metadata": {},
   "outputs": [
    {
     "data": {
      "text/html": [
       "<div>\n",
       "<style scoped>\n",
       "    .dataframe tbody tr th:only-of-type {\n",
       "        vertical-align: middle;\n",
       "    }\n",
       "\n",
       "    .dataframe tbody tr th {\n",
       "        vertical-align: top;\n",
       "    }\n",
       "\n",
       "    .dataframe thead th {\n",
       "        text-align: right;\n",
       "    }\n",
       "</style>\n",
       "<table border=\"1\" class=\"dataframe\">\n",
       "  <thead>\n",
       "    <tr style=\"text-align: right;\">\n",
       "      <th></th>\n",
       "      <th>Tweet</th>\n",
       "    </tr>\n",
       "  </thead>\n",
       "  <tbody>\n",
       "    <tr>\n",
       "      <th>0</th>\n",
       "      <td>- disaat semua cowok berusaha melacak perhatia...</td>\n",
       "    </tr>\n",
       "    <tr>\n",
       "      <th>1</th>\n",
       "      <td>RT USER: USER siapa yang telat ngasih tau elu?...</td>\n",
       "    </tr>\n",
       "    <tr>\n",
       "      <th>2</th>\n",
       "      <td>41. Kadang aku berfikir, kenapa aku tetap perc...</td>\n",
       "    </tr>\n",
       "    <tr>\n",
       "      <th>3</th>\n",
       "      <td>USER USER AKU ITU AKU\\n\\nKU TAU MATAMU SIPIT T...</td>\n",
       "    </tr>\n",
       "    <tr>\n",
       "      <th>4</th>\n",
       "      <td>USER USER Kaum cebong kapir udah keliatan dong...</td>\n",
       "    </tr>\n",
       "  </tbody>\n",
       "</table>\n",
       "</div>"
      ],
      "text/plain": [
       "                                               Tweet\n",
       "0  - disaat semua cowok berusaha melacak perhatia...\n",
       "1  RT USER: USER siapa yang telat ngasih tau elu?...\n",
       "2  41. Kadang aku berfikir, kenapa aku tetap perc...\n",
       "3  USER USER AKU ITU AKU\\n\\nKU TAU MATAMU SIPIT T...\n",
       "4  USER USER Kaum cebong kapir udah keliatan dong..."
      ]
     },
     "execution_count": 40,
     "metadata": {},
     "output_type": "execute_result"
    }
   ],
   "source": [
    "df_predict = df_tweet[['Tweet']].copy()\n",
    "df_predict.head()"
   ]
  },
  {
   "cell_type": "code",
   "execution_count": 42,
   "id": "d8d853f4-84b3-4cc8-9678-4ccf1b0666c6",
   "metadata": {},
   "outputs": [],
   "source": [
    "sentiment = ['negative', 'neutral', 'positive']\n",
    "\n",
    "def get_sent(sent):\n",
    "    if sent==0:\n",
    "        sent='negative'\n",
    "    elif sent==1:\n",
    "        sent='neutral'\n",
    "    else: sent='positive'\n",
    "    return sent\n",
    "\n",
    "file_tokenizer = open('tokenizer.pickle', 'rb')\n",
    "file_sequencer = open('x_pad_sequences.pickle', 'rb')\n",
    "load_tokenizer = pickle.load(file_tokenizer)\n",
    "load_sequencer = pickle.load(file_sequencer)\n",
    "file_sequencer.close()\n",
    "model_lstm = load_model('model_lstm.h5')"
   ]
  },
  {
   "cell_type": "code",
   "execution_count": 43,
   "id": "60dee045-3221-4170-a6d5-bfaadbe575e5",
   "metadata": {},
   "outputs": [
    {
     "name": "stdout",
     "output_type": "stream",
     "text": [
      "412/412 [==============================] - 5s 11ms/step\n"
     ]
    }
   ],
   "source": [
    "data_pre = df_predict['Tweet']\n",
    "\n",
    "data_processed= []\n",
    "for text in data_pre:\n",
    "  text = cleansing(text)\n",
    "  data_processed.append(text)\n",
    "    \n",
    "feature = load_tokenizer.texts_to_sequences(data_processed)\n",
    "sequences= pad_sequences(feature, maxlen=load_sequencer.shape[1])\n",
    "\n",
    "prediction = model_lstm.predict(sequences)\n",
    "get_sentiment = np.argmax(prediction, axis=1)\n",
    "get_sentiment = get_sentiment.reshape(-1,1)\n",
    "\n",
    "get= []\n",
    "for text in get_sentiment:\n",
    "    sent= get_sent(text)\n",
    "    get.append(sent)"
   ]
  },
  {
   "cell_type": "code",
   "execution_count": 44,
   "id": "f5a9745f-dfe8-4254-afc1-170947d2955a",
   "metadata": {},
   "outputs": [],
   "source": [
    "df_predict['Text_Clean']= data_processed\n",
    "df_predict['Sentiment']= get"
   ]
  },
  {
   "cell_type": "code",
   "execution_count": 45,
   "id": "0abfdd4e-34f4-4339-8b14-d1ca51938aa9",
   "metadata": {},
   "outputs": [
    {
     "data": {
      "text/html": [
       "<div>\n",
       "<style scoped>\n",
       "    .dataframe tbody tr th:only-of-type {\n",
       "        vertical-align: middle;\n",
       "    }\n",
       "\n",
       "    .dataframe tbody tr th {\n",
       "        vertical-align: top;\n",
       "    }\n",
       "\n",
       "    .dataframe thead th {\n",
       "        text-align: right;\n",
       "    }\n",
       "</style>\n",
       "<table border=\"1\" class=\"dataframe\">\n",
       "  <thead>\n",
       "    <tr style=\"text-align: right;\">\n",
       "      <th></th>\n",
       "      <th>Tweet</th>\n",
       "      <th>Text_Clean</th>\n",
       "      <th>Sentiment</th>\n",
       "    </tr>\n",
       "  </thead>\n",
       "  <tbody>\n",
       "    <tr>\n",
       "      <th>0</th>\n",
       "      <td>- disaat semua cowok berusaha melacak perhatia...</td>\n",
       "      <td>cowok berusaha melacak perhatian gue lantas r...</td>\n",
       "      <td>neutral</td>\n",
       "    </tr>\n",
       "    <tr>\n",
       "      <th>1</th>\n",
       "      <td>RT USER: USER siapa yang telat ngasih tau elu?...</td>\n",
       "      <td>telat tau edan sarap gue bergaul cigax jifla ...</td>\n",
       "      <td>negative</td>\n",
       "    </tr>\n",
       "    <tr>\n",
       "      <th>2</th>\n",
       "      <td>41. Kadang aku berfikir, kenapa aku tetap perc...</td>\n",
       "      <td>kadang berpikir percaya tuhan jatuh berkali ka...</td>\n",
       "      <td>negative</td>\n",
       "    </tr>\n",
       "    <tr>\n",
       "      <th>3</th>\n",
       "      <td>USER USER AKU ITU AKU\\n\\nKU TAU MATAMU SIPIT T...</td>\n",
       "      <td>ku tau matamu sipit</td>\n",
       "      <td>negative</td>\n",
       "    </tr>\n",
       "    <tr>\n",
       "      <th>4</th>\n",
       "      <td>USER USER Kaum cebong kapir udah keliatan dong...</td>\n",
       "      <td>kaum cebong kafir dongoknya dungu haha</td>\n",
       "      <td>negative</td>\n",
       "    </tr>\n",
       "    <tr>\n",
       "      <th>...</th>\n",
       "      <td>...</td>\n",
       "      <td>...</td>\n",
       "      <td>...</td>\n",
       "    </tr>\n",
       "    <tr>\n",
       "      <th>13164</th>\n",
       "      <td>USER jangan asal ngomong ndasmu. congor lu yg ...</td>\n",
       "      <td>berbicara ndasmu congor sekateanjyng</td>\n",
       "      <td>negative</td>\n",
       "    </tr>\n",
       "    <tr>\n",
       "      <th>13165</th>\n",
       "      <td>USER Kasur mana enak kunyuk'</td>\n",
       "      <td>kasur enak kunyuk</td>\n",
       "      <td>negative</td>\n",
       "    </tr>\n",
       "    <tr>\n",
       "      <th>13166</th>\n",
       "      <td>USER Hati hati bisu :( .g\\n\\nlagi bosan huft \\...</td>\n",
       "      <td>hati hati bisu bosan duh</td>\n",
       "      <td>negative</td>\n",
       "    </tr>\n",
       "    <tr>\n",
       "      <th>13167</th>\n",
       "      <td>USER USER USER USER Bom yang real mudah terdet...</td>\n",
       "      <td>bom real mudah terdeteksi bom terkubur dahsyat...</td>\n",
       "      <td>negative</td>\n",
       "    </tr>\n",
       "    <tr>\n",
       "      <th>13168</th>\n",
       "      <td>USER Mana situ ngasih(\": itu cuma foto ya kuti...</td>\n",
       "      <td>situ foto ya kutil onta</td>\n",
       "      <td>negative</td>\n",
       "    </tr>\n",
       "  </tbody>\n",
       "</table>\n",
       "<p>13169 rows × 3 columns</p>\n",
       "</div>"
      ],
      "text/plain": [
       "                                                   Tweet  \\\n",
       "0      - disaat semua cowok berusaha melacak perhatia...   \n",
       "1      RT USER: USER siapa yang telat ngasih tau elu?...   \n",
       "2      41. Kadang aku berfikir, kenapa aku tetap perc...   \n",
       "3      USER USER AKU ITU AKU\\n\\nKU TAU MATAMU SIPIT T...   \n",
       "4      USER USER Kaum cebong kapir udah keliatan dong...   \n",
       "...                                                  ...   \n",
       "13164  USER jangan asal ngomong ndasmu. congor lu yg ...   \n",
       "13165                       USER Kasur mana enak kunyuk'   \n",
       "13166  USER Hati hati bisu :( .g\\n\\nlagi bosan huft \\...   \n",
       "13167  USER USER USER USER Bom yang real mudah terdet...   \n",
       "13168  USER Mana situ ngasih(\": itu cuma foto ya kuti...   \n",
       "\n",
       "                                              Text_Clean Sentiment  \n",
       "0       cowok berusaha melacak perhatian gue lantas r...   neutral  \n",
       "1       telat tau edan sarap gue bergaul cigax jifla ...  negative  \n",
       "2      kadang berpikir percaya tuhan jatuh berkali ka...  negative  \n",
       "3                                   ku tau matamu sipit   negative  \n",
       "4                kaum cebong kafir dongoknya dungu haha   negative  \n",
       "...                                                  ...       ...  \n",
       "13164              berbicara ndasmu congor sekateanjyng   negative  \n",
       "13165                                 kasur enak kunyuk   negative  \n",
       "13166                          hati hati bisu bosan duh   negative  \n",
       "13167  bom real mudah terdeteksi bom terkubur dahsyat...  negative  \n",
       "13168                           situ foto ya kutil onta   negative  \n",
       "\n",
       "[13169 rows x 3 columns]"
      ]
     },
     "execution_count": 45,
     "metadata": {},
     "output_type": "execute_result"
    }
   ],
   "source": [
    "df_predict"
   ]
  },
  {
   "cell_type": "code",
   "execution_count": 46,
   "id": "c89c8954-37ed-44e2-8a65-13a2e592d3df",
   "metadata": {},
   "outputs": [
    {
     "name": "stderr",
     "output_type": "stream",
     "text": [
      "C:\\Users\\admin\\AppData\\Local\\Temp\\ipykernel_9172\\2427684101.py:6: FutureWarning: \n",
      "\n",
      "Passing `palette` without assigning `hue` is deprecated and will be removed in v0.14.0. Assign the `x` variable to `hue` and set `legend=False` for the same effect.\n",
      "\n",
      "  ax = sns.countplot(x='Sentiment', data=df_predict, palette=color_palette)\n",
      "C:\\Users\\admin\\AppData\\Local\\Temp\\ipykernel_9172\\2427684101.py:6: UserWarning: The palette list has more values (8) than needed (3), which may not be intended.\n",
      "  ax = sns.countplot(x='Sentiment', data=df_predict, palette=color_palette)\n"
     ]
    },
    {
     "data": {
      "text/plain": [
       "<function matplotlib.pyplot.show(close=None, block=None)>"
      ]
     },
     "execution_count": 46,
     "metadata": {},
     "output_type": "execute_result"
    },
    {
     "data": {
      "image/png": "[encoded data removed]",
      "text/plain": [
       "<Figure size 800x600 with 1 Axes>"
      ]
     },
     "metadata": {},
     "output_type": "display_data"
    }
   ],
   "source": [
    "import seaborn as sns\n",
    "import matplotlib.pyplot as plt\n",
    "\n",
    "color_palette = sns.color_palette(\"Set2\")\n",
    "plt.figure(figsize=(8, 6))\n",
    "ax = sns.countplot(x='Sentiment', data=df_predict, palette=color_palette)\n",
    "\n",
    "# Menambahkan label angka pada setiap bar\n",
    "for p in ax.patches:\n",
    "    ax.annotate(f'{p.get_height()}', (p.get_x() + p.get_width() / 2., p.get_height()),\n",
    "                ha='center', va='center', xytext=(0, 10), textcoords='offset points')\n",
    "\n",
    "# Menambahkan label sumbu dan judul\n",
    "plt.xlabel('Sentiment')\n",
    "plt.ylabel('Jumlah')\n",
    "plt.title('Countplot Sentiment')\n",
    "\n",
    "# Menampilkan plot\n",
    "plt.show"
   ]
  }
 ],
 "metadata": {
  "kernelspec": {
   "display_name": "Python 3 (ipykernel)",
   "language": "python",
   "name": "python3"
  },
  "language_info": {
   "codemirror_mode": {
    "name": "ipython",
    "version": 3
   },
   "file_extension": ".py",
   "mimetype": "text/x-python",
   "name": "python",
   "nbconvert_exporter": "python",
   "pygments_lexer": "ipython3",
   "version": "3.11.6"
  }
 },
 "nbformat": 4,
 "nbformat_minor": 5
}
