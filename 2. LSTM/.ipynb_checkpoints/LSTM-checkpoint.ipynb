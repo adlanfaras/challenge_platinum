{
 "cells": [
  {
   "cell_type": "code",
   "execution_count": 1,
   "id": "48091b44-2c00-497c-8413-1374a1cff8e4",
   "metadata": {},
   "outputs": [],
   "source": [
    "import sqlite3\n",
    "\n",
    "# Membuat koneksi ke database SQLite\n",
    "conn = sqlite3.connect('database.db')"
   ]
  },
  {
   "cell_type": "code",
   "execution_count": 2,
   "id": "b34481ec-31ca-4d88-bba1-d35452f67e0b",
   "metadata": {},
   "outputs": [
    {
     "data": {
      "text/html": [
       "<div>\n",
       "<style scoped>\n",
       "    .dataframe tbody tr th:only-of-type {\n",
       "        vertical-align: middle;\n",
       "    }\n",
       "\n",
       "    .dataframe tbody tr th {\n",
       "        vertical-align: top;\n",
       "    }\n",
       "\n",
       "    .dataframe thead th {\n",
       "        text-align: right;\n",
       "    }\n",
       "</style>\n",
       "<table border=\"1\" class=\"dataframe\">\n",
       "  <thead>\n",
       "    <tr style=\"text-align: right;\">\n",
       "      <th></th>\n",
       "      <th>Text</th>\n",
       "      <th>Label</th>\n",
       "      <th>Text_clean</th>\n",
       "    </tr>\n",
       "  </thead>\n",
       "  <tbody>\n",
       "    <tr>\n",
       "      <th>0</th>\n",
       "      <td>warung ini dimiliki oleh pengusaha pabrik tahu...</td>\n",
       "      <td>positive</td>\n",
       "      <td>warung dimiliki pengusaha pabrik puluhan terke...</td>\n",
       "    </tr>\n",
       "    <tr>\n",
       "      <th>1</th>\n",
       "      <td>mohon ulama lurus dan k212 mmbri hujjah partai...</td>\n",
       "      <td>neutral</td>\n",
       "      <td>mohon ulama lurus kmmbri hujjah partai diwlh s...</td>\n",
       "    </tr>\n",
       "    <tr>\n",
       "      <th>2</th>\n",
       "      <td>lokasi strategis di jalan sumatera bandung . t...</td>\n",
       "      <td>positive</td>\n",
       "      <td>lokasi strategis jalan sumatra bandung nya nya...</td>\n",
       "    </tr>\n",
       "    <tr>\n",
       "      <th>3</th>\n",
       "      <td>betapa bahagia nya diri ini saat unboxing pake...</td>\n",
       "      <td>positive</td>\n",
       "      <td>betapa bahagia nya unbo paket barang nya bagus...</td>\n",
       "    </tr>\n",
       "    <tr>\n",
       "      <th>4</th>\n",
       "      <td>duh . jadi mahasiswa jangan sombong dong . kas...</td>\n",
       "      <td>negative</td>\n",
       "      <td>aduh mahasiswa sombong kasih kartu kuning bela...</td>\n",
       "    </tr>\n",
       "  </tbody>\n",
       "</table>\n",
       "</div>"
      ],
      "text/plain": [
       "                                                Text     Label  \\\n",
       "0  warung ini dimiliki oleh pengusaha pabrik tahu...  positive   \n",
       "1  mohon ulama lurus dan k212 mmbri hujjah partai...   neutral   \n",
       "2  lokasi strategis di jalan sumatera bandung . t...  positive   \n",
       "3  betapa bahagia nya diri ini saat unboxing pake...  positive   \n",
       "4  duh . jadi mahasiswa jangan sombong dong . kas...  negative   \n",
       "\n",
       "                                          Text_clean  \n",
       "0  warung dimiliki pengusaha pabrik puluhan terke...  \n",
       "1  mohon ulama lurus kmmbri hujjah partai diwlh s...  \n",
       "2  lokasi strategis jalan sumatra bandung nya nya...  \n",
       "3  betapa bahagia nya unbo paket barang nya bagus...  \n",
       "4  aduh mahasiswa sombong kasih kartu kuning bela...  "
      ]
     },
     "execution_count": 2,
     "metadata": {},
     "output_type": "execute_result"
    }
   ],
   "source": [
    "# Load dataset from database\n",
    "import pandas as pd\n",
    "\n",
    "db = sqlite3.connect('database.db', check_same_thread = False)\n",
    "q_data = 'SELECT * FROM tabel_cleansed'\n",
    "data = pd.read_sql_query(q_data, db)\n",
    "data.head()"
   ]
  },
  {
   "cell_type": "markdown",
   "id": "9f85b6ac-6ea9-4f64-9097-4841e2921ee3",
   "metadata": {},
   "source": [
    "## Feature-Label Classification"
   ]
  },
  {
   "cell_type": "code",
   "execution_count": 3,
   "id": "f5ba81b0-5da6-48b8-a79e-356251cda089",
   "metadata": {},
   "outputs": [
    {
     "name": "stdout",
     "output_type": "stream",
     "text": [
      "Pos: 6383, Neu: 1138, Neg: 3412\n",
      "Total data: 10933\n"
     ]
    }
   ],
   "source": [
    "neg = data.loc[data.Label == 'negative'].Text_clean.tolist()\n",
    "neu = data.loc[data.Label == 'neutral'].Text_clean.tolist()\n",
    "pos = data.loc[data.Label == 'positive'].Text_clean.tolist()\n",
    "\n",
    "neg_label = data.loc[data.Label == 'negative'].Label.tolist()\n",
    "neu_label = data.loc[data.Label == 'neutral'].Label.tolist()\n",
    "pos_label = data.loc[data.Label == 'positive'].Label.tolist()\n",
    "\n",
    "total_data = pos + neu + neg\n",
    "labels = pos_label + neu_label + neg_label\n",
    "\n",
    "print(\"Pos: %s, Neu: %s, Neg: %s\" % (len(pos), len(neu), len(neg)))\n",
    "print(\"Total data: %s\" % len(total_data))"
   ]
  },
  {
   "cell_type": "markdown",
   "id": "6971b63f-52c6-40ef-aceb-681fcc0885c8",
   "metadata": {},
   "source": [
    "# Feature Extraction"
   ]
  },
  {
   "cell_type": "code",
   "execution_count": 4,
   "id": "c461484a-4878-47de-afaf-f50fcdcaacd7",
   "metadata": {},
   "outputs": [
    {
     "name": "stdout",
     "output_type": "stream",
     "text": [
      "WARNING:tensorflow:From C:\\Users\\admin\\AppData\\Local\\Programs\\Python\\Python311\\Lib\\site-packages\\keras\\src\\losses.py:2976: The name tf.losses.sparse_softmax_cross_entropy is deprecated. Please use tf.compat.v1.losses.sparse_softmax_cross_entropy instead.\n",
      "\n"
     ]
    }
   ],
   "source": [
    "import pickle\n",
    "from tensorflow.keras.preprocessing.text import Tokenizer\n",
    "from tensorflow.keras.preprocessing.sequence import pad_sequences\n",
    "from collections import defaultdict"
   ]
  },
  {
   "cell_type": "code",
   "execution_count": 5,
   "id": "2ae6eb8e-a790-4308-bb02-48be29810c96",
   "metadata": {},
   "outputs": [
    {
     "name": "stdout",
     "output_type": "stream",
     "text": [
      "tokenizer.pickle has created!\n",
      "x_pad_sequences.pickle has created!\n"
     ]
    }
   ],
   "source": [
    "# Tokenizer and pad sequence\n",
    "\n",
    "max_features = 100000\n",
    "tokenizer = Tokenizer(num_words=max_features, split=' ', lower=True)\n",
    "tokenizer.fit_on_texts(total_data)\n",
    "with open('tokenizer.pickle', 'wb') as handle:\n",
    "    pickle.dump(tokenizer, handle, protocol=pickle.HIGHEST_PROTOCOL)\n",
    "    print(\"tokenizer.pickle has created!\")\n",
    "\n",
    "X = tokenizer.texts_to_sequences(total_data)\n",
    "\n",
    "vocab_size = len(tokenizer.word_index)\n",
    "maxlen = max(len(x) for x in X)\n",
    "\n",
    "X = pad_sequences(X)\n",
    "with open('x_pad_sequences.pickle', 'wb') as handle:\n",
    "    pickle.dump(X, handle, protocol=pickle.HIGHEST_PROTOCOL)\n",
    "    print(\"x_pad_sequences.pickle has created!\")"
   ]
  },
  {
   "cell_type": "code",
   "execution_count": 6,
   "id": "83fb5fd9-9edd-4ef7-a7f2-330990ac2807",
   "metadata": {},
   "outputs": [
    {
     "name": "stdout",
     "output_type": "stream",
     "text": [
      "y_labels.pickle has created!\n"
     ]
    }
   ],
   "source": [
    "# Feature extraction for labels\n",
    "\n",
    "Y = pd.get_dummies(labels,  dtype=int)\n",
    "Y = Y.values\n",
    "\n",
    "with open('y_labels.pickle', 'wb') as handle:\n",
    "    pickle.dump(Y, handle, protocol=pickle.HIGHEST_PROTOCOL)\n",
    "    print(\"y_labels.pickle has created!\")"
   ]
  },
  {
   "cell_type": "markdown",
   "id": "8ded70fb-86b9-459b-8a74-816a477c5769",
   "metadata": {},
   "source": [
    "# Split traning and testing dataset"
   ]
  },
  {
   "cell_type": "code",
   "execution_count": 7,
   "id": "1236880a-8ec5-4e18-9f8a-1e5cb97a537a",
   "metadata": {},
   "outputs": [],
   "source": [
    "from imblearn.over_sampling import SMOTE\n",
    "from imblearn.keras import balanced_batch_generator\n",
    "from sklearn.model_selection import train_test_split\n",
    "from tensorflow.keras.models import Sequential\n",
    "import numpy as np\n",
    "import tensorflow as tf\n",
    "from tensorflow.keras import layers\n",
    "from tensorflow.keras.models import Sequential\n",
    "from tensorflow.keras.layers import Dense, Embedding, LSTM, SpatialDropout1D, SimpleRNN, Activation\n",
    "from tensorflow.keras import optimizers\n",
    "from tensorflow.keras.callbacks import EarlyStopping, TensorBoard\n",
    "from tensorflow.keras.layers import Flatten\n",
    "from tensorflow.keras import backend as K\n",
    "from sklearn.model_selection import KFold\n",
    "from sklearn.metrics import accuracy_score\n",
    "from sklearn.metrics import classification_report\n",
    "from sklearn.model_selection import KFold\n",
    "from keras import regularizers"
   ]
  },
  {
   "cell_type": "code",
   "execution_count": 8,
   "id": "3c4bb265-06ab-4828-a94c-b60b890af78e",
   "metadata": {},
   "outputs": [],
   "source": [
    "# Split train-test data with proportion 80:20\n",
    "\n",
    "file = open(\"x_pad_sequences.pickle\",'rb')\n",
    "X = pickle.load(file)\n",
    "file.close()\n",
    "\n",
    "file = open(\"y_labels.pickle\",'rb')\n",
    "Y = pickle.load(file)\n",
    "file.close()\n",
    "\n",
    "X_train, X_test, y_train, y_test = train_test_split(X, Y, test_size=0.2, random_state=42)"
   ]
  },
  {
   "cell_type": "markdown",
   "id": "51d2ce35-fb6b-4759-ab8c-7a5992ea7c2b",
   "metadata": {},
   "source": [
    "# Model Training"
   ]
  },
  {
   "cell_type": "markdown",
   "id": "f3fd6e1b-3e57-40e0-b6b2-e72022fe1fda",
   "metadata": {},
   "source": [
    "### Training"
   ]
  },
  {
   "cell_type": "code",
   "execution_count": 9,
   "id": "102ec077-14c6-438f-95e3-584a5001f98b",
   "metadata": {},
   "outputs": [
    {
     "name": "stdout",
     "output_type": "stream",
     "text": [
      "WARNING:tensorflow:From C:\\Users\\admin\\AppData\\Local\\Programs\\Python\\Python311\\Lib\\site-packages\\keras\\src\\backend.py:873: The name tf.get_default_graph is deprecated. Please use tf.compat.v1.get_default_graph instead.\n",
      "\n",
      "Model: \"sequential\"\n",
      "_________________________________________________________________\n",
      " Layer (type)                Output Shape              Param #   \n",
      "=================================================================\n",
      " embedding (Embedding)       (None, 58, 100)           10000000  \n",
      "                                                                 \n",
      " lstm (LSTM)                 (None, 64)                42240     \n",
      "                                                                 \n",
      " dense (Dense)               (None, 3)                 195       \n",
      "                                                                 \n",
      "=================================================================\n",
      "Total params: 10042435 (38.31 MB)\n",
      "Trainable params: 10042435 (38.31 MB)\n",
      "Non-trainable params: 0 (0.00 Byte)\n",
      "_________________________________________________________________\n",
      "None\n",
      "Epoch 1/10\n",
      "WARNING:tensorflow:From C:\\Users\\admin\\AppData\\Local\\Programs\\Python\\Python311\\Lib\\site-packages\\keras\\src\\utils\\tf_utils.py:492: The name tf.ragged.RaggedTensorValue is deprecated. Please use tf.compat.v1.ragged.RaggedTensorValue instead.\n",
      "\n",
      "WARNING:tensorflow:From C:\\Users\\admin\\AppData\\Local\\Programs\\Python\\Python311\\Lib\\site-packages\\keras\\src\\engine\\base_layer_utils.py:384: The name tf.executing_eagerly_outside_functions is deprecated. Please use tf.compat.v1.executing_eagerly_outside_functions instead.\n",
      "\n",
      "137/137 [==============================] - 46s 287ms/step - loss: 0.9034 - accuracy: 0.7007 - val_loss: 0.6708 - val_accuracy: 0.7769\n",
      "Epoch 2/10\n",
      "137/137 [==============================] - 41s 298ms/step - loss: 0.5473 - accuracy: 0.7959 - val_loss: 0.5062 - val_accuracy: 0.8061\n",
      "Epoch 3/10\n",
      "137/137 [==============================] - 39s 282ms/step - loss: 0.3737 - accuracy: 0.8733 - val_loss: 0.4353 - val_accuracy: 0.8487\n",
      "Epoch 4/10\n",
      "137/137 [==============================] - 37s 272ms/step - loss: 0.2657 - accuracy: 0.9253 - val_loss: 0.4434 - val_accuracy: 0.8473\n",
      "Epoch 4: early stopping\n"
     ]
    }
   ],
   "source": [
    "embed_dim = 100\n",
    "units = 64\n",
    "\n",
    "model = Sequential()\n",
    "model.add(Embedding(max_features, embed_dim, input_length=X.shape[1]))\n",
    "model.add(LSTM(units, dropout=0.2, recurrent_dropout=0.2, kernel_regularizer=regularizers.l2(0.002)))\n",
    "model.add(Dense(3,activation='softmax'))\n",
    "\n",
    "adam = optimizers.Adam(learning_rate = 0.0005)\n",
    "model.compile(loss = 'categorical_crossentropy', optimizer = adam, metrics = ['accuracy'])\n",
    "print(model.summary())\n",
    "\n",
    "es = EarlyStopping(monitor='val_loss', mode='min', verbose=1)\n",
    "history = model.fit(X_train, y_train, epochs=10, batch_size=64, validation_data=(X_test, y_test), verbose=1, callbacks=[es])"
   ]
  },
  {
   "cell_type": "markdown",
   "id": "2d00936e-9a92-4e36-b1b5-afb13e3809b7",
   "metadata": {},
   "source": [
    "### Evaluasi"
   ]
  },
  {
   "cell_type": "code",
   "execution_count": 10,
   "id": "cc8d6d82-5ff8-4011-b972-52c175ce8329",
   "metadata": {},
   "outputs": [
    {
     "name": "stdout",
     "output_type": "stream",
     "text": [
      "69/69 [==============================] - 1s 12ms/step\n",
      "Testing selesai\n",
      "              precision    recall  f1-score   support\n",
      "\n",
      "           0       0.74      0.86      0.79       681\n",
      "           1       0.80      0.58      0.67       235\n",
      "           2       0.92      0.89      0.91      1271\n",
      "\n",
      "    accuracy                           0.85      2187\n",
      "   macro avg       0.82      0.78      0.79      2187\n",
      "weighted avg       0.85      0.85      0.85      2187\n",
      "\n"
     ]
    }
   ],
   "source": [
    "from sklearn import metrics\n",
    "from sklearn.metrics import classification_report, accuracy_score, confusion_matrix\n",
    "\n",
    "predictions = model.predict(X_test)\n",
    "y_pred = predictions\n",
    "y_pred_classes = np.argmax(y_pred, axis=1)\n",
    "Y_test_classes = np.argmax(y_test, axis=1)\n",
    "matrix_test = metrics.classification_report(Y_test_classes, y_pred_classes)\n",
    "print(\"Testing selesai\")\n",
    "print(matrix_test)"
   ]
  },
  {
   "cell_type": "code",
   "execution_count": 11,
   "id": "e061a542-8c18-45e7-9c33-73d37342b440",
   "metadata": {},
   "outputs": [
    {
     "name": "stdout",
     "output_type": "stream",
     "text": [
      "69/69 [==============================] - 1s 12ms/step\n"
     ]
    },
    {
     "data": {
      "image/png": "[encoded data removed]",
      "text/plain": [
       "<Figure size 640x480 with 2 Axes>"
      ]
     },
     "metadata": {},
     "output_type": "display_data"
    }
   ],
   "source": [
    "import seaborn as sns\n",
    "import matplotlib.pyplot as plt\n",
    "from sklearn.metrics import classification_report, confusion_matrix, ConfusionMatrixDisplay\n",
    "\n",
    "sentiment = ['Negative', 'Neutral', 'Positive']\n",
    "prediction = model.predict(X_test)\n",
    "y_pred = prediction\n",
    "cm = confusion_matrix(y_test.argmax(axis=1), y_pred.argmax(axis=1))\n",
    "\n",
    "disp = ConfusionMatrixDisplay(confusion_matrix=cm,\n",
    "                              display_labels=sentiment)\n",
    "\n",
    "disp.plot()\n",
    "plt.grid(False)\n",
    "plt.show()"
   ]
  },
  {
   "cell_type": "markdown",
   "id": "21c31775-a659-488c-853f-9d45ebbf3827",
   "metadata": {},
   "source": [
    "### Cross validation"
   ]
  },
  {
   "cell_type": "code",
   "execution_count": 12,
   "id": "11e552db-775b-408a-9e6f-351a48f49978",
   "metadata": {},
   "outputs": [
    {
     "name": "stdout",
     "output_type": "stream",
     "text": [
      "Epoch 1/10\n",
      "137/137 [==============================] - 43s 283ms/step - loss: 0.9013 - accuracy: 0.6901 - val_loss: 0.6469 - val_accuracy: 0.7677\n",
      "Epoch 2/10\n",
      "137/137 [==============================] - 38s 279ms/step - loss: 0.5424 - accuracy: 0.7999 - val_loss: 0.5023 - val_accuracy: 0.8089\n",
      "Epoch 3/10\n",
      "137/137 [==============================] - 38s 274ms/step - loss: 0.3717 - accuracy: 0.8794 - val_loss: 0.4458 - val_accuracy: 0.8395\n",
      "Epoch 4/10\n",
      "137/137 [==============================] - 37s 273ms/step - loss: 0.2681 - accuracy: 0.9251 - val_loss: 0.4381 - val_accuracy: 0.8418\n",
      "Epoch 5/10\n",
      "137/137 [==============================] - 38s 275ms/step - loss: 0.2041 - accuracy: 0.9485 - val_loss: 0.4576 - val_accuracy: 0.8386\n",
      "Epoch 5: early stopping\n",
      "69/69 [==============================] - 1s 13ms/step\n",
      "Training ke- 1\n",
      "              precision    recall  f1-score   support\n",
      "\n",
      "           0       0.75      0.82      0.78       681\n",
      "           1       0.77      0.60      0.68       235\n",
      "           2       0.90      0.89      0.90      1271\n",
      "\n",
      "    accuracy                           0.84      2187\n",
      "   macro avg       0.81      0.77      0.78      2187\n",
      "weighted avg       0.84      0.84      0.84      2187\n",
      "\n",
      "======================================================\n",
      "Epoch 1/10\n",
      "137/137 [==============================] - 50s 336ms/step - loss: 0.9061 - accuracy: 0.6967 - val_loss: 0.6578 - val_accuracy: 0.7677\n",
      "Epoch 2/10\n",
      "137/137 [==============================] - 44s 322ms/step - loss: 0.5556 - accuracy: 0.7966 - val_loss: 0.5127 - val_accuracy: 0.8038\n",
      "Epoch 3/10\n",
      "137/137 [==============================] - 38s 274ms/step - loss: 0.3889 - accuracy: 0.8701 - val_loss: 0.4414 - val_accuracy: 0.8377\n",
      "Epoch 4/10\n",
      "137/137 [==============================] - 37s 273ms/step - loss: 0.2815 - accuracy: 0.9226 - val_loss: 0.4316 - val_accuracy: 0.8381\n",
      "Epoch 5/10\n",
      "137/137 [==============================] - 37s 274ms/step - loss: 0.2103 - accuracy: 0.9439 - val_loss: 0.4435 - val_accuracy: 0.8455\n",
      "Epoch 5: early stopping\n",
      "69/69 [==============================] - 1s 11ms/step\n",
      "Training ke- 2\n",
      "              precision    recall  f1-score   support\n",
      "\n",
      "           0       0.77      0.80      0.79       681\n",
      "           1       0.77      0.60      0.67       235\n",
      "           2       0.90      0.92      0.91      1271\n",
      "\n",
      "    accuracy                           0.85      2187\n",
      "   macro avg       0.81      0.77      0.79      2187\n",
      "weighted avg       0.84      0.85      0.84      2187\n",
      "\n",
      "======================================================\n",
      "Epoch 1/10\n",
      "137/137 [==============================] - 42s 276ms/step - loss: 0.9121 - accuracy: 0.6868 - val_loss: 0.6630 - val_accuracy: 0.7654\n",
      "Epoch 2/10\n",
      "137/137 [==============================] - 37s 272ms/step - loss: 0.5707 - accuracy: 0.7906 - val_loss: 0.5287 - val_accuracy: 0.7901\n",
      "Epoch 3/10\n",
      "137/137 [==============================] - 37s 271ms/step - loss: 0.4035 - accuracy: 0.8620 - val_loss: 0.4609 - val_accuracy: 0.8294\n",
      "Epoch 4/10\n",
      "137/137 [==============================] - 38s 276ms/step - loss: 0.2857 - accuracy: 0.9206 - val_loss: 0.4433 - val_accuracy: 0.8427\n",
      "Epoch 5/10\n",
      "137/137 [==============================] - 37s 273ms/step - loss: 0.2183 - accuracy: 0.9429 - val_loss: 0.4490 - val_accuracy: 0.8450\n",
      "Epoch 5: early stopping\n",
      "69/69 [==============================] - 1s 12ms/step\n",
      "Training ke- 3\n",
      "              precision    recall  f1-score   support\n",
      "\n",
      "           0       0.80      0.78      0.79       681\n",
      "           1       0.70      0.69      0.69       235\n",
      "           2       0.90      0.91      0.90      1271\n",
      "\n",
      "    accuracy                           0.84      2187\n",
      "   macro avg       0.80      0.79      0.79      2187\n",
      "weighted avg       0.84      0.84      0.84      2187\n",
      "\n",
      "======================================================\n",
      "Epoch 1/10\n",
      "137/137 [==============================] - 43s 284ms/step - loss: 0.9049 - accuracy: 0.6981 - val_loss: 0.6553 - val_accuracy: 0.7691\n",
      "Epoch 2/10\n",
      "137/137 [==============================] - 39s 284ms/step - loss: 0.5475 - accuracy: 0.8023 - val_loss: 0.5111 - val_accuracy: 0.7997\n",
      "Epoch 3/10\n",
      "137/137 [==============================] - 40s 289ms/step - loss: 0.3758 - accuracy: 0.8740 - val_loss: 0.4571 - val_accuracy: 0.8308\n",
      "Epoch 4/10\n",
      "137/137 [==============================] - 39s 283ms/step - loss: 0.2665 - accuracy: 0.9239 - val_loss: 0.4349 - val_accuracy: 0.8459\n",
      "Epoch 5/10\n",
      "137/137 [==============================] - 40s 291ms/step - loss: 0.2011 - accuracy: 0.9449 - val_loss: 0.4644 - val_accuracy: 0.8432\n",
      "Epoch 5: early stopping\n",
      "69/69 [==============================] - 1s 12ms/step\n",
      "Training ke- 4\n",
      "              precision    recall  f1-score   support\n",
      "\n",
      "           0       0.74      0.86      0.80       681\n",
      "           1       0.75      0.59      0.66       235\n",
      "           2       0.92      0.88      0.90      1271\n",
      "\n",
      "    accuracy                           0.84      2187\n",
      "   macro avg       0.80      0.78      0.79      2187\n",
      "weighted avg       0.85      0.84      0.84      2187\n",
      "\n",
      "======================================================\n",
      "Epoch 1/10\n",
      "137/137 [==============================] - 46s 305ms/step - loss: 0.9088 - accuracy: 0.6921 - val_loss: 0.6526 - val_accuracy: 0.7695\n",
      "Epoch 2/10\n",
      "137/137 [==============================] - 40s 293ms/step - loss: 0.5509 - accuracy: 0.7934 - val_loss: 0.5082 - val_accuracy: 0.7952\n",
      "Epoch 3/10\n",
      "137/137 [==============================] - 40s 290ms/step - loss: 0.3833 - accuracy: 0.8715 - val_loss: 0.4415 - val_accuracy: 0.8386\n",
      "Epoch 4/10\n",
      "137/137 [==============================] - 38s 281ms/step - loss: 0.2763 - accuracy: 0.9235 - val_loss: 0.4382 - val_accuracy: 0.8409\n",
      "Epoch 5/10\n",
      "137/137 [==============================] - 39s 283ms/step - loss: 0.2076 - accuracy: 0.9464 - val_loss: 0.4372 - val_accuracy: 0.8482\n",
      "Epoch 6/10\n",
      "137/137 [==============================] - 39s 282ms/step - loss: 0.1686 - accuracy: 0.9586 - val_loss: 0.4560 - val_accuracy: 0.8418\n",
      "Epoch 6: early stopping\n",
      "69/69 [==============================] - 1s 13ms/step\n",
      "Training ke- 5\n",
      "              precision    recall  f1-score   support\n",
      "\n",
      "           0       0.75      0.83      0.79       681\n",
      "           1       0.78      0.58      0.67       235\n",
      "           2       0.91      0.90      0.90      1271\n",
      "\n",
      "    accuracy                           0.84      2187\n",
      "   macro avg       0.81      0.77      0.79      2187\n",
      "weighted avg       0.84      0.84      0.84      2187\n",
      "\n",
      "======================================================\n",
      "\n",
      "\n",
      "\n",
      "Rata-rata Accuracy:  84.27983539094652\n"
     ]
    }
   ],
   "source": [
    "kf = KFold(n_splits=5,random_state=42,shuffle=True)\n",
    "\n",
    "accuracies = []\n",
    "\n",
    "y = Y\n",
    "\n",
    "embed_dim = 100\n",
    "units = 64\n",
    "\n",
    "for iteration, data in enumerate(kf.split(X), start=1):\n",
    "\n",
    "    data_train   = X[data[0]]\n",
    "    target_train = y[data[0]]\n",
    "\n",
    "    data_test    = X[data[1]]\n",
    "    target_test  = y[data[1]]\n",
    "\n",
    "\n",
    "    model = Sequential()\n",
    "    model.add(Embedding(max_features, embed_dim, input_length=X.shape[1]))\n",
    "    model.add(LSTM(units, dropout=0.2, recurrent_dropout=0.2, kernel_regularizer=regularizers.l2(0.002)))\n",
    "    model.add(Dense(3,activation='softmax'))\n",
    "\n",
    "    adam = optimizers.Adam(learning_rate = 0.0005)\n",
    "    model.compile(loss = 'categorical_crossentropy', optimizer = adam, metrics = ['accuracy'])\n",
    "\n",
    "    es = EarlyStopping(monitor='val_loss', mode='min', verbose=1)\n",
    "    history = model.fit(X_train, y_train, epochs=10, batch_size=64, validation_data=(X_test, y_test), verbose=1, callbacks=[es])\n",
    "\n",
    "    predictions = model.predict(X_test)\n",
    "    y_pred = predictions\n",
    "\n",
    "    # for the current fold only    \n",
    "    accuracy = accuracy_score(y_test.argmax(axis=1), y_pred.argmax(axis=1))\n",
    "\n",
    "    print(\"Training ke-\", iteration)\n",
    "    print(classification_report(y_test.argmax(axis=1), y_pred.argmax(axis=1)))\n",
    "    print(\"======================================================\")\n",
    "\n",
    "    accuracies.append(accuracy)\n",
    "\n",
    "# this is the average accuracy over all folds\n",
    "average_accuracy = np.mean(accuracies)\n",
    "\n",
    "print()\n",
    "print()\n",
    "print()\n",
    "print(\"Rata-rata Accuracy: \", average_accuracy *100)"
   ]
  },
  {
   "cell_type": "markdown",
   "id": "778ed926-c63b-4747-94aa-a7f554ddc8ed",
   "metadata": {},
   "source": [
    "### Evaluation Visualization"
   ]
  },
  {
   "cell_type": "code",
   "execution_count": 13,
   "id": "0101d244-89be-49b4-8a9e-d8e6fc774330",
   "metadata": {},
   "outputs": [
    {
     "data": {
      "image/png": "[encoded data removed]",
      "text/plain": [
       "<Figure size 1200x500 with 2 Axes>"
      ]
     },
     "metadata": {},
     "output_type": "display_data"
    }
   ],
   "source": [
    "import matplotlib.pyplot as plt\n",
    "plt.style.use('ggplot')\n",
    "\n",
    "def plot_history(history):\n",
    "    acc = history.history['accuracy']\n",
    "    val_acc = history.history['val_accuracy']\n",
    "    loss = history.history['loss']\n",
    "    val_loss = history.history['val_loss']\n",
    "    x = range(1, len(acc) + 1)\n",
    "\n",
    "    plt.figure(figsize=(12, 5))\n",
    "    plt.subplot(1, 2, 1)\n",
    "    plt.plot(x, acc, 'b', label='Training acc')\n",
    "    plt.plot(x, val_acc, 'r', label='Validation acc')\n",
    "    plt.title('Training and validation accuracy')\n",
    "    plt.legend()\n",
    "    plt.subplot(1, 2, 2)\n",
    "    plt.plot(x, loss, 'b', label='Training loss')\n",
    "    plt.plot(x, val_loss, 'r', label='Validation loss')\n",
    "    plt.title('Training and validation loss')\n",
    "    plt.legend()\n",
    "\n",
    "%matplotlib inline\n",
    "plot_history(history)"
   ]
  },
  {
   "cell_type": "code",
   "execution_count": 14,
   "id": "78b9e2db-ecf5-492f-9dd4-8fe9ab7bca86",
   "metadata": {},
   "outputs": [
    {
     "name": "stdout",
     "output_type": "stream",
     "text": [
      "69/69 [==============================] - 1s 12ms/step\n"
     ]
    },
    {
     "data": {
      "image/png": "[encoded data removed]",
      "text/plain": [
       "<Figure size 640x480 with 2 Axes>"
      ]
     },
     "metadata": {},
     "output_type": "display_data"
    }
   ],
   "source": [
    "from sklearn.metrics import classification_report, confusion_matrix, ConfusionMatrixDisplay\n",
    "sentiment = ['Negative', 'Neutral', 'Positive']\n",
    "prediction = model.predict(X_test)\n",
    "y_pred = prediction\n",
    "cm = confusion_matrix(y_test.argmax(axis=1), y_pred.argmax(axis=1))\n",
    "\n",
    "disp = ConfusionMatrixDisplay(confusion_matrix=cm,\n",
    "                              display_labels=sentiment)\n",
    "\n",
    "disp.plot()\n",
    "plt.grid(False)\n",
    "plt.show()"
   ]
  },
  {
   "cell_type": "code",
   "execution_count": 15,
   "id": "ef70e022-c672-4bb7-bc26-5e7f1b1abc91",
   "metadata": {},
   "outputs": [
    {
     "name": "stderr",
     "output_type": "stream",
     "text": [
      "C:\\Users\\admin\\AppData\\Local\\Programs\\Python\\Python311\\Lib\\site-packages\\keras\\src\\engine\\training.py:3103: UserWarning: You are saving your model as an HDF5 file via `model.save()`. This file format is considered legacy. We recommend using instead the native Keras format, e.g. `model.save('my_model.keras')`.\n",
      "  saving_api.save_model(\n"
     ]
    },
    {
     "name": "stdout",
     "output_type": "stream",
     "text": [
      "Model has created!\n"
     ]
    }
   ],
   "source": [
    "model.save('model_lstm.h5')\n",
    "print(\"Model has created!\")"
   ]
  },
  {
   "cell_type": "markdown",
   "id": "00541235-f37e-461a-9b9c-075492871cc4",
   "metadata": {},
   "source": [
    "# Prediction"
   ]
  },
  {
   "cell_type": "code",
   "execution_count": 16,
   "id": "be27f540-2058-4b61-9230-d733c296ce81",
   "metadata": {},
   "outputs": [],
   "source": [
    "import re \n",
    "from keras.models import load_model\n",
    "import numpy as np\n",
    "import pickle\n",
    "from tensorflow.keras.preprocessing.sequence import pad_sequences\n",
    "from tensorflow.keras.preprocessing.text import Tokenizer"
   ]
  },
  {
   "cell_type": "code",
   "execution_count": 17,
   "id": "9bef2b45-3bf4-4cbe-8552-41f718d330b7",
   "metadata": {},
   "outputs": [],
   "source": [
    "import pandas as pd\n",
    "df_alay = pd.read_csv('new_kamusalay.csv', encoding='ISO-8859-1', header=None)\n",
    "df_alay = df_alay.rename(columns={0: 'alay', 1: 'formal'})"
   ]
  },
  {
   "cell_type": "code",
   "execution_count": 18,
   "id": "48f01999-1b19-4ef4-a7fb-cd1e1acd3a69",
   "metadata": {},
   "outputs": [
    {
     "name": "stderr",
     "output_type": "stream",
     "text": [
      "[nltk_data] Downloading package stopwords to\n",
      "[nltk_data]     C:\\Users\\admin\\AppData\\Roaming\\nltk_data...\n",
      "[nltk_data]   Package stopwords is already up-to-date!\n"
     ]
    }
   ],
   "source": [
    "import nltk\n",
    "nltk.download('stopwords')\n",
    "from nltk.corpus import stopwords\n",
    "list_stopwords = set(stopwords.words('indonesian'))\n",
    "\n",
    "def data_cleaning (text):\n",
    "    text = re.sub ('\\\\n','', text)\n",
    "    text = re.sub ('RT',' ', text)\n",
    "    text = re.sub ('USER', ' ', text)\n",
    "    text = re.sub ('user', ' ', text)\n",
    "    text = re.sub ('(http|https):\\/\\/s+', ' ', text)\n",
    "    text = re.sub ('[^0-9a-zA-Z]+', ' ', text)\n",
    "    text = re.sub ('x[a-z0-9]{2}', ' ', text)\n",
    "    text = re.sub (\"\\d+\", ' ', text)\n",
    "    text = re.sub ('  +', '', text)\n",
    "    return text\n",
    "\n",
    "def case_folding (text):\n",
    "    return text.lower()\n",
    "\n",
    "def alay_normalization(text):\n",
    "    res = ''\n",
    "    for item in text.split():\n",
    "        if item in df_alay['alay'].values:\n",
    "            res += df_alay[df_alay['alay'] == item]['formal'].iloc[0]\n",
    "        else:\n",
    "            res += item\n",
    "        res += ' '\n",
    "    return res\n",
    "\n",
    "def stopword_removal(text):\n",
    "    resp = ''\n",
    "    for item in text.split():\n",
    "        if item not in list_stopwords:\n",
    "            resp += item\n",
    "        resp +=' '\n",
    "    clean = re.sub('  +', ' ', resp)\n",
    "    return clean\n",
    "\n",
    "def cleansing(text):\n",
    "    text = data_cleaning(text)\n",
    "    text = case_folding(text)\n",
    "    text = alay_normalization(text)\n",
    "    text = stopword_removal(text)\n",
    "    return text"
   ]
  },
  {
   "cell_type": "code",
   "execution_count": 19,
   "id": "b0e50598-4e5b-491e-9ff1-5a7cfabe1c3a",
   "metadata": {},
   "outputs": [
    {
     "name": "stdout",
     "output_type": "stream",
     "text": [
      "1/1 [==============================] - 0s 479ms/step\n",
      "Text: selamat pagi \n",
      "Sentiment: neutral\n"
     ]
    }
   ],
   "source": [
    "input_text = \"\"\"\n",
    "selamat pagi \"\"\"\n",
    "\n",
    "sentiment = ['negative', 'neutral', 'positive']\n",
    "\n",
    "text = [cleansing(input_text)]\n",
    "predicted = tokenizer.texts_to_sequences(text)\n",
    "guess = pad_sequences(predicted, maxlen=X.shape[1])\n",
    "\n",
    "model = load_model('model_lstm.h5')\n",
    "prediction = model.predict(guess)\n",
    "polarity = np.argmax(prediction[0])\n",
    "hasil = sentiment[polarity]\n",
    "\n",
    "print(\"Text: %s\" % text[0])\n",
    "print(\"Sentiment: %s\" % sentiment[polarity])"
   ]
  },
  {
   "cell_type": "markdown",
   "id": "103fa932-0f5f-459b-8499-860f178d7ebb",
   "metadata": {},
   "source": [
    "# **Prediksi Data Tweet**"
   ]
  },
  {
   "cell_type": "code",
   "execution_count": 20,
   "id": "a54d20bc-9164-458f-89d0-24a83b9952e6",
   "metadata": {},
   "outputs": [],
   "source": [
    "data_twt = 'data.csv'\n",
    "df_tweet = pd.read_csv(data_twt, encoding='latin-1')"
   ]
  },
  {
   "cell_type": "code",
   "execution_count": 21,
   "id": "05a5488f-b662-45ce-99dd-087f43033f0f",
   "metadata": {},
   "outputs": [
    {
     "data": {
      "text/html": [
       "<div>\n",
       "<style scoped>\n",
       "    .dataframe tbody tr th:only-of-type {\n",
       "        vertical-align: middle;\n",
       "    }\n",
       "\n",
       "    .dataframe tbody tr th {\n",
       "        vertical-align: top;\n",
       "    }\n",
       "\n",
       "    .dataframe thead th {\n",
       "        text-align: right;\n",
       "    }\n",
       "</style>\n",
       "<table border=\"1\" class=\"dataframe\">\n",
       "  <thead>\n",
       "    <tr style=\"text-align: right;\">\n",
       "      <th></th>\n",
       "      <th>Tweet</th>\n",
       "    </tr>\n",
       "  </thead>\n",
       "  <tbody>\n",
       "    <tr>\n",
       "      <th>0</th>\n",
       "      <td>- disaat semua cowok berusaha melacak perhatia...</td>\n",
       "    </tr>\n",
       "    <tr>\n",
       "      <th>1</th>\n",
       "      <td>RT USER: USER siapa yang telat ngasih tau elu?...</td>\n",
       "    </tr>\n",
       "    <tr>\n",
       "      <th>2</th>\n",
       "      <td>41. Kadang aku berfikir, kenapa aku tetap perc...</td>\n",
       "    </tr>\n",
       "    <tr>\n",
       "      <th>3</th>\n",
       "      <td>USER USER AKU ITU AKU\\n\\nKU TAU MATAMU SIPIT T...</td>\n",
       "    </tr>\n",
       "    <tr>\n",
       "      <th>4</th>\n",
       "      <td>USER USER Kaum cebong kapir udah keliatan dong...</td>\n",
       "    </tr>\n",
       "  </tbody>\n",
       "</table>\n",
       "</div>"
      ],
      "text/plain": [
       "                                               Tweet\n",
       "0  - disaat semua cowok berusaha melacak perhatia...\n",
       "1  RT USER: USER siapa yang telat ngasih tau elu?...\n",
       "2  41. Kadang aku berfikir, kenapa aku tetap perc...\n",
       "3  USER USER AKU ITU AKU\\n\\nKU TAU MATAMU SIPIT T...\n",
       "4  USER USER Kaum cebong kapir udah keliatan dong..."
      ]
     },
     "execution_count": 21,
     "metadata": {},
     "output_type": "execute_result"
    }
   ],
   "source": [
    "df_predict = df_tweet[['Tweet']].copy()\n",
    "df_predict.head()"
   ]
  },
  {
   "cell_type": "code",
   "execution_count": 22,
   "id": "d8d853f4-84b3-4cc8-9678-4ccf1b0666c6",
   "metadata": {},
   "outputs": [],
   "source": [
    "sentiment = ['negative', 'neutral', 'positive']\n",
    "\n",
    "def get_sent(sent):\n",
    "    if sent==0:\n",
    "        sent='negative'\n",
    "    elif sent==1:\n",
    "        sent='neutral'\n",
    "    else: sent='positive'\n",
    "    return sent\n",
    "\n",
    "file_tokenizer = open('tokenizer.pickle', 'rb')\n",
    "file_sequencer = open('x_pad_sequences.pickle', 'rb')\n",
    "load_tokenizer = pickle.load(file_tokenizer)\n",
    "load_sequencer = pickle.load(file_sequencer)\n",
    "file_sequencer.close()\n",
    "model_lstm = load_model('model_lstm.h5')"
   ]
  },
  {
   "cell_type": "code",
   "execution_count": 23,
   "id": "60dee045-3221-4170-a6d5-bfaadbe575e5",
   "metadata": {},
   "outputs": [
    {
     "name": "stdout",
     "output_type": "stream",
     "text": [
      "412/412 [==============================] - 5s 13ms/step\n"
     ]
    }
   ],
   "source": [
    "data_pre = df_predict['Tweet']\n",
    "\n",
    "data_processed= []\n",
    "for text in data_pre:\n",
    "  text = cleansing(text)\n",
    "  data_processed.append(text)\n",
    "    \n",
    "feature = load_tokenizer.texts_to_sequences(data_processed)\n",
    "sequences= pad_sequences(feature, maxlen=load_sequencer.shape[1])\n",
    "\n",
    "prediction = model_lstm.predict(sequences)\n",
    "get_sentiment = np.argmax(prediction, axis=1)\n",
    "get_sentiment = get_sentiment.reshape(-1,1)\n",
    "\n",
    "get= []\n",
    "for text in get_sentiment:\n",
    "    sent= get_sent(text)\n",
    "    get.append(sent)"
   ]
  },
  {
   "cell_type": "code",
   "execution_count": 24,
   "id": "f5a9745f-dfe8-4254-afc1-170947d2955a",
   "metadata": {},
   "outputs": [],
   "source": [
    "df_predict['Text_Clean']= data_processed\n",
    "df_predict['Sentiment']= get"
   ]
  },
  {
   "cell_type": "code",
   "execution_count": 25,
   "id": "0abfdd4e-34f4-4339-8b14-d1ca51938aa9",
   "metadata": {},
   "outputs": [
    {
     "data": {
      "text/html": [
       "<div>\n",
       "<style scoped>\n",
       "    .dataframe tbody tr th:only-of-type {\n",
       "        vertical-align: middle;\n",
       "    }\n",
       "\n",
       "    .dataframe tbody tr th {\n",
       "        vertical-align: top;\n",
       "    }\n",
       "\n",
       "    .dataframe thead th {\n",
       "        text-align: right;\n",
       "    }\n",
       "</style>\n",
       "<table border=\"1\" class=\"dataframe\">\n",
       "  <thead>\n",
       "    <tr style=\"text-align: right;\">\n",
       "      <th></th>\n",
       "      <th>Tweet</th>\n",
       "      <th>Text_Clean</th>\n",
       "      <th>Sentiment</th>\n",
       "    </tr>\n",
       "  </thead>\n",
       "  <tbody>\n",
       "    <tr>\n",
       "      <th>0</th>\n",
       "      <td>- disaat semua cowok berusaha melacak perhatia...</td>\n",
       "      <td>cowok berusaha melacak perhatian gue lantas r...</td>\n",
       "      <td>negative</td>\n",
       "    </tr>\n",
       "    <tr>\n",
       "      <th>1</th>\n",
       "      <td>RT USER: USER siapa yang telat ngasih tau elu?...</td>\n",
       "      <td>telat tau edan sarap gue bergaul cigax jifla ...</td>\n",
       "      <td>negative</td>\n",
       "    </tr>\n",
       "    <tr>\n",
       "      <th>2</th>\n",
       "      <td>41. Kadang aku berfikir, kenapa aku tetap perc...</td>\n",
       "      <td>kadang berpikir percaya tuhan jatuh berkali ka...</td>\n",
       "      <td>positive</td>\n",
       "    </tr>\n",
       "    <tr>\n",
       "      <th>3</th>\n",
       "      <td>USER USER AKU ITU AKU\\n\\nKU TAU MATAMU SIPIT T...</td>\n",
       "      <td>ku tau matamu sipit</td>\n",
       "      <td>positive</td>\n",
       "    </tr>\n",
       "    <tr>\n",
       "      <th>4</th>\n",
       "      <td>USER USER Kaum cebong kapir udah keliatan dong...</td>\n",
       "      <td>kaum cebong kafir dongoknya dungu haha</td>\n",
       "      <td>negative</td>\n",
       "    </tr>\n",
       "  </tbody>\n",
       "</table>\n",
       "</div>"
      ],
      "text/plain": [
       "                                               Tweet  \\\n",
       "0  - disaat semua cowok berusaha melacak perhatia...   \n",
       "1  RT USER: USER siapa yang telat ngasih tau elu?...   \n",
       "2  41. Kadang aku berfikir, kenapa aku tetap perc...   \n",
       "3  USER USER AKU ITU AKU\\n\\nKU TAU MATAMU SIPIT T...   \n",
       "4  USER USER Kaum cebong kapir udah keliatan dong...   \n",
       "\n",
       "                                          Text_Clean Sentiment  \n",
       "0   cowok berusaha melacak perhatian gue lantas r...  negative  \n",
       "1   telat tau edan sarap gue bergaul cigax jifla ...  negative  \n",
       "2  kadang berpikir percaya tuhan jatuh berkali ka...  positive  \n",
       "3                               ku tau matamu sipit   positive  \n",
       "4            kaum cebong kafir dongoknya dungu haha   negative  "
      ]
     },
     "execution_count": 25,
     "metadata": {},
     "output_type": "execute_result"
    }
   ],
   "source": [
    "df_predict.head()"
   ]
  },
  {
   "cell_type": "code",
   "execution_count": 27,
   "id": "c89c8954-37ed-44e2-8a65-13a2e592d3df",
   "metadata": {},
   "outputs": [
    {
     "name": "stderr",
     "output_type": "stream",
     "text": [
      "C:\\Users\\admin\\AppData\\Local\\Temp\\ipykernel_11572\\4144761182.py:8: UserWarning: The palette list has more values (8) than needed (3), which may not be intended.\n",
      "  ax = sns.countplot(x='Sentiment', data=df_predict, palette=color_palette, hue='Sentiment', legend=False)\n"
     ]
    },
    {
     "data": {
      "image/png": "[encoded data removed]",
      "text/plain": [
       "<Figure size 800x600 with 1 Axes>"
      ]
     },
     "metadata": {},
     "output_type": "display_data"
    }
   ],
   "source": [
    "import seaborn as sns\n",
    "import matplotlib.pyplot as plt\n",
    "\n",
    "# Data frame df_predict harus sudah ada sebelumnya\n",
    "\n",
    "color_palette = sns.color_palette(\"Set2\")\n",
    "plt.figure(figsize=(8, 6), facecolor='w')  # Menambahkan properti facecolor dengan nilai 'w' (putih)\n",
    "ax = sns.countplot(x='Sentiment', data=df_predict, palette=color_palette, hue='Sentiment', legend=False)\n",
    "\n",
    "# Menambahkan label angka pada setiap bar\n",
    "for p in ax.patches:\n",
    "    ax.annotate(f'{p.get_height()}', (p.get_x() + p.get_width() / 2., p.get_height()),\n",
    "                ha='center', va='center', xytext=(0, 10), textcoords='offset points')\n",
    "\n",
    "# Menambahkan label sumbu dan judul\n",
    "plt.xlabel('Sentiment')\n",
    "plt.ylabel('Jumlah')\n",
    "plt.title('Countplot Sentiment')\n",
    "\n",
    "# Menampilkan plot\n",
    "plt.show()"
   ]
  },
  {
   "cell_type": "code",
   "execution_count": null,
   "id": "68e4915d-f18f-417f-b1dd-b6c415195d0f",
   "metadata": {},
   "outputs": [],
   "source": [
    "# Menyimpan hasil prediksi ke dalam database SQLite\n",
    "import sqlite3\n",
    "\n",
    "conn = sqlite3.connect('sentiment_predictions.db')\n",
    "\n",
    "# Sesuaikan dengan nama tabel yang sesuai dengan kebutuhan Anda.\n",
    "df_predict.to_sql('sentiment_predictions', con=conn, index=False, if_exists='replace')\n",
    "\n",
    "# Tutup koneksi setelah selesai\n",
    "conn.close()"
   ]
  }
 ],
 "metadata": {
  "kernelspec": {
   "display_name": "Python 3 (ipykernel)",
   "language": "python",
   "name": "python3"
  },
  "language_info": {
   "codemirror_mode": {
    "name": "ipython",
    "version": 3
   },
   "file_extension": ".py",
   "mimetype": "text/x-python",
   "name": "python",
   "nbconvert_exporter": "python",
   "pygments_lexer": "ipython3",
   "version": "3.11.6"
  }
 },
 "nbformat": 4,
 "nbformat_minor": 5
}
