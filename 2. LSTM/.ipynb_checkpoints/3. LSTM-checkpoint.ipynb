{
 "cells": [
  {
   "cell_type": "code",
   "execution_count": 1,
   "id": "ab5bb6c0-b923-4982-9e5b-50be851fc948",
   "metadata": {},
   "outputs": [],
   "source": [
    "import pandas as pd\n",
    "import numpy as np\n",
    "import seaborn as sns\n",
    "import matplotlib.pyplot as plt\n",
    "import sqlite3"
   ]
  },
  {
   "cell_type": "code",
   "execution_count": 3,
   "id": "b34481ec-31ca-4d88-bba1-d35452f67e0b",
   "metadata": {},
   "outputs": [
    {
     "data": {
      "text/html": [
       "<div>\n",
       "<style scoped>\n",
       "    .dataframe tbody tr th:only-of-type {\n",
       "        vertical-align: middle;\n",
       "    }\n",
       "\n",
       "    .dataframe tbody tr th {\n",
       "        vertical-align: top;\n",
       "    }\n",
       "\n",
       "    .dataframe thead th {\n",
       "        text-align: right;\n",
       "    }\n",
       "</style>\n",
       "<table border=\"1\" class=\"dataframe\">\n",
       "  <thead>\n",
       "    <tr style=\"text-align: right;\">\n",
       "      <th></th>\n",
       "      <th>text</th>\n",
       "      <th>label</th>\n",
       "    </tr>\n",
       "  </thead>\n",
       "  <tbody>\n",
       "    <tr>\n",
       "      <th>0</th>\n",
       "      <td>warung dimiliki pengusaha pabrik puluhan terke...</td>\n",
       "      <td>positive</td>\n",
       "    </tr>\n",
       "    <tr>\n",
       "      <th>1</th>\n",
       "      <td>mohon ulama lurus k212 mmbri hujjah ai diwlh s...</td>\n",
       "      <td>neutral</td>\n",
       "    </tr>\n",
       "    <tr>\n",
       "      <th>2</th>\n",
       "      <td>lokasi strategis jalan sumatra bandung nya nya...</td>\n",
       "      <td>positive</td>\n",
       "    </tr>\n",
       "    <tr>\n",
       "      <th>3</th>\n",
       "      <td>betapa bahagia nya unboxing paket barang nya b...</td>\n",
       "      <td>positive</td>\n",
       "    </tr>\n",
       "    <tr>\n",
       "      <th>4</th>\n",
       "      <td>aduh mahasiswa sombong kasih kakak kuning bela...</td>\n",
       "      <td>negative</td>\n",
       "    </tr>\n",
       "  </tbody>\n",
       "</table>\n",
       "</div>"
      ],
      "text/plain": [
       "                                                text     label\n",
       "0  warung dimiliki pengusaha pabrik puluhan terke...  positive\n",
       "1  mohon ulama lurus k212 mmbri hujjah ai diwlh s...   neutral\n",
       "2  lokasi strategis jalan sumatra bandung nya nya...  positive\n",
       "3  betapa bahagia nya unboxing paket barang nya b...  positive\n",
       "4  aduh mahasiswa sombong kasih kakak kuning bela...  negative"
      ]
     },
     "execution_count": 3,
     "metadata": {},
     "output_type": "execute_result"
    }
   ],
   "source": [
    "# Load dataset from database\n",
    "\n",
    "db = sqlite3.connect('database.db', check_same_thread = False)\n",
    "q_data = 'SELECT * FROM tabel_cleansed'\n",
    "data = pd.read_sql_query(q_data, db)\n",
    "data.head()"
   ]
  },
  {
   "cell_type": "code",
   "execution_count": 4,
   "id": "3ab99695-d26b-490a-a53f-1479b6ce5966",
   "metadata": {},
   "outputs": [
    {
     "data": {
      "text/plain": [
       "label\n",
       "positive    6383\n",
       "negative    3412\n",
       "neutral     1138\n",
       "Name: count, dtype: int64"
      ]
     },
     "execution_count": 4,
     "metadata": {},
     "output_type": "execute_result"
    }
   ],
   "source": [
    "#cek label\n",
    "\n",
    "data['label'].value_counts()"
   ]
  },
  {
   "cell_type": "markdown",
   "id": "9f85b6ac-6ea9-4f64-9097-4841e2921ee3",
   "metadata": {},
   "source": [
    "## Feature-Label Classification"
   ]
  },
  {
   "cell_type": "code",
   "execution_count": 5,
   "id": "f5ba81b0-5da6-48b8-a79e-356251cda089",
   "metadata": {},
   "outputs": [],
   "source": [
    "#sortir datanya berdasarkan tiga sentimen tadi\n",
    "\n",
    "# Group data text\n",
    "\n",
    "positif_text = data.loc[data['label']=='positive'].text.tolist()\n",
    "negatif_text = data.loc[data['label']=='negative'].text.tolist()\n",
    "neutral_text = data.loc[data['label']=='neutral'].text.tolist()\n",
    "\n",
    "# Group data label\n",
    "\n",
    "positif_label = data.loc[data['label']=='positive'].label.tolist()\n",
    "negatif_label = data.loc[data['label']=='negative'].label.tolist()\n",
    "neutral_label = data.loc[data['label']=='neutral'].label.tolist()"
   ]
  },
  {
   "cell_type": "code",
   "execution_count": 6,
   "id": "55425036-de48-4e88-9f98-97efd771b75f",
   "metadata": {},
   "outputs": [
    {
     "name": "stdout",
     "output_type": "stream",
     "text": [
      "Positive: 6383, Negative: 3412, Neutral: 1138\n",
      "Total data: 10933\n",
      "Total labels: 10933\n"
     ]
    }
   ],
   "source": [
    "# Final data check\n",
    "\n",
    "total_data = positif_text + negatif_text + neutral_text\n",
    "labels = positif_label + negatif_label + neutral_label\n",
    "\n",
    "print(\"Positive: %s, Negative: %s, Neutral: %s\" % (len(positif_text), len(negatif_text), len(neutral_text)))\n",
    "print(\"Total data: %s\" % len(total_data))\n",
    "print(\"Total labels: %s\" % len(labels))"
   ]
  },
  {
   "cell_type": "markdown",
   "id": "6971b63f-52c6-40ef-aceb-681fcc0885c8",
   "metadata": {},
   "source": [
    "## Feature Extraction"
   ]
  },
  {
   "cell_type": "code",
   "execution_count": 7,
   "id": "daa93966-b2d1-4f08-a209-0ddda4181013",
   "metadata": {},
   "outputs": [
    {
     "name": "stdout",
     "output_type": "stream",
     "text": [
      "WARNING:tensorflow:From C:\\Users\\admin\\AppData\\Local\\Programs\\Python\\Python311\\Lib\\site-packages\\keras\\src\\losses.py:2976: The name tf.losses.sparse_softmax_cross_entropy is deprecated. Please use tf.compat.v1.losses.sparse_softmax_cross_entropy instead.\n",
      "\n",
      "tokenizer.pickle has created!\n",
      "x_pad_sequences.pickle has created!\n"
     ]
    }
   ],
   "source": [
    "# Tokenizer dan pad_sequences\n",
    "import pickle\n",
    "from tensorflow.keras.preprocessing.text import Tokenizer\n",
    "from tensorflow.keras.preprocessing.sequence import pad_sequences\n",
    "from collections import defaultdict\n",
    "\n",
    "max_features = 100000\n",
    "tokenizer = Tokenizer(num_words=max_features, split=' ', lower=True)\n",
    "tokenizer.fit_on_texts(total_data)\n",
    "with open('tokenizer.pickle', 'wb') as handle:\n",
    "    pickle.dump(tokenizer, handle, protocol=pickle.HIGHEST_PROTOCOL)\n",
    "    print(\"tokenizer.pickle has created!\")\n",
    "\n",
    "#memanggil modul tokenizer\n",
    "X = tokenizer.texts_to_sequences(total_data)\n",
    "vocab_size = len(tokenizer.word_index)\n",
    "maxlen = max(len(x) for x in X)\n",
    "\n",
    "#memanggil modul pad sequence\n",
    "X = pad_sequences(X)\n",
    "with open('x_pad_sequences.pickle', 'wb') as handle:\n",
    "    pickle.dump(X, handle, protocol=pickle.HIGHEST_PROTOCOL)\n",
    "    print(\"x_pad_sequences.pickle has created!\")"
   ]
  },
  {
   "cell_type": "code",
   "execution_count": 8,
   "id": "83fb5fd9-9edd-4ef7-a7f2-330990ac2807",
   "metadata": {},
   "outputs": [
    {
     "name": "stdout",
     "output_type": "stream",
     "text": [
      "y_labels.pickle has created!\n"
     ]
    }
   ],
   "source": [
    "# Feature extraction untuk labels\n",
    "\n",
    "Y = pd.get_dummies(labels)\n",
    "Y = Y.values\n",
    "\n",
    "with open('y_labels.pickle', 'wb') as handle:\n",
    "    pickle.dump(Y, handle, protocol=pickle.HIGHEST_PROTOCOL)\n",
    "    print(\"y_labels.pickle has created!\")"
   ]
  },
  {
   "cell_type": "markdown",
   "id": "21c148b7-5060-4d6e-933c-665528c1175c",
   "metadata": {},
   "source": [
    "# LSTM"
   ]
  },
  {
   "cell_type": "markdown",
   "id": "70277bb0-71e3-4176-b745-c08a993fab4b",
   "metadata": {},
   "source": [
    "## Train-Test Data Split"
   ]
  },
  {
   "cell_type": "code",
   "execution_count": 9,
   "id": "da7dd7ec-12e6-4884-9258-9aa68c17af28",
   "metadata": {},
   "outputs": [],
   "source": [
    "import pickle\n",
    "from tensorflow.keras.preprocessing.text import Tokenizer\n",
    "from tensorflow.keras.preprocessing.sequence import pad_sequences\n",
    "from collections import defaultdict\n",
    "from sklearn.model_selection import train_test_split"
   ]
  },
  {
   "cell_type": "code",
   "execution_count": 10,
   "id": "cf62c480-c675-4c1f-8ea6-554cb85b73c3",
   "metadata": {},
   "outputs": [],
   "source": [
    "# Membagi train-test dengan pembagian 80:20\n",
    "\n",
    "file = open(\"x_pad_sequences.pickle\",'rb')\n",
    "X = pickle.load(file)\n",
    "file.close()\n",
    "\n",
    "file = open(\"y_labels.pickle\",'rb')\n",
    "Y = pickle.load(file)\n",
    "file.close()\n",
    "\n",
    "X_train, X_test, y_train, y_test = train_test_split(X, Y, test_size=0.2, random_state=42)"
   ]
  },
  {
   "cell_type": "code",
   "execution_count": 11,
   "id": "f30aa6f3-9f6d-4d00-9b47-a755e016a199",
   "metadata": {},
   "outputs": [],
   "source": [
    "# Import required libraries\n",
    "\n",
    "import pandas as pd\n",
    "import numpy as np\n",
    "import seaborn as sns\n",
    "import matplotlib.pyplot as plt\n",
    "import sqlite3\n",
    "import pickle\n",
    "from tensorflow.keras.preprocessing.text import Tokenizer\n",
    "from tensorflow.keras.preprocessing.sequence import pad_sequences\n",
    "from collections import defaultdict\n",
    "from sklearn.model_selection import train_test_split\n",
    "from tensorflow.keras import layers\n",
    "from tensorflow.keras.models import Sequential\n",
    "from tensorflow.keras.layers import Dense, Embedding, LSTM, SpatialDropout1D, SimpleRNN, Activation\n",
    "from tensorflow.keras import optimizers\n",
    "from tensorflow.keras.callbacks import EarlyStopping, TensorBoard\n",
    "from tensorflow.keras.layers import Flatten\n",
    "from tensorflow.keras import backend as K\n",
    "from sklearn import metrics\n",
    "from sklearn.metrics import classification_report\n",
    "from sklearn.metrics import accuracy_score\n",
    "from sklearn.model_selection import KFold\n",
    "from keras.models import load_model\n",
    "import re"
   ]
  },
  {
   "cell_type": "code",
   "execution_count": 12,
   "id": "15f00c9e-bd49-4be3-9a75-258433889a1c",
   "metadata": {},
   "outputs": [
    {
     "name": "stdout",
     "output_type": "stream",
     "text": [
      "WARNING:tensorflow:From C:\\Users\\admin\\AppData\\Local\\Programs\\Python\\Python311\\Lib\\site-packages\\keras\\src\\backend.py:873: The name tf.get_default_graph is deprecated. Please use tf.compat.v1.get_default_graph instead.\n",
      "\n",
      "Epoch 1/50\n",
      "WARNING:tensorflow:From C:\\Users\\admin\\AppData\\Local\\Programs\\Python\\Python311\\Lib\\site-packages\\keras\\src\\utils\\tf_utils.py:492: The name tf.ragged.RaggedTensorValue is deprecated. Please use tf.compat.v1.ragged.RaggedTensorValue instead.\n",
      "\n",
      "WARNING:tensorflow:From C:\\Users\\admin\\AppData\\Local\\Programs\\Python\\Python311\\Lib\\site-packages\\keras\\src\\engine\\base_layer_utils.py:384: The name tf.executing_eagerly_outside_functions is deprecated. Please use tf.compat.v1.executing_eagerly_outside_functions instead.\n",
      "\n",
      "274/274 [==============================] - 81s 281ms/step - loss: 0.6504 - accuracy: 0.7358 - val_loss: 0.5374 - val_accuracy: 0.7824\n",
      "Epoch 2/50\n",
      "274/274 [==============================] - 84s 306ms/step - loss: 0.4044 - accuracy: 0.8350 - val_loss: 0.4116 - val_accuracy: 0.8395\n",
      "Epoch 3/50\n",
      "274/274 [==============================] - 72s 263ms/step - loss: 0.2640 - accuracy: 0.9051 - val_loss: 0.3816 - val_accuracy: 0.8551\n",
      "Epoch 4/50\n",
      "274/274 [==============================] - 75s 274ms/step - loss: 0.1826 - accuracy: 0.9361 - val_loss: 0.4092 - val_accuracy: 0.8505\n",
      "Epoch 5/50\n",
      "274/274 [==============================] - 69s 252ms/step - loss: 0.1325 - accuracy: 0.9523 - val_loss: 0.4392 - val_accuracy: 0.8532\n",
      "Epoch 5: early stopping\n",
      "69/69 [==============================] - 4s 19ms/step\n",
      "Training ke- 1\n",
      "              precision    recall  f1-score   support\n",
      "\n",
      "           0       0.79      0.81      0.80       687\n",
      "           1       0.80      0.68      0.74       229\n",
      "           2       0.90      0.91      0.90      1271\n",
      "\n",
      "    accuracy                           0.85      2187\n",
      "   macro avg       0.83      0.80      0.81      2187\n",
      "weighted avg       0.85      0.85      0.85      2187\n",
      "\n",
      "======================================================\n",
      "Epoch 1/50\n",
      "274/274 [==============================] - 77s 261ms/step - loss: 0.6641 - accuracy: 0.7286 - val_loss: 0.5143 - val_accuracy: 0.7833\n",
      "Epoch 2/50\n",
      "274/274 [==============================] - 66s 242ms/step - loss: 0.4009 - accuracy: 0.8366 - val_loss: 0.3858 - val_accuracy: 0.8427\n",
      "Epoch 3/50\n",
      "274/274 [==============================] - 65s 237ms/step - loss: 0.2656 - accuracy: 0.9010 - val_loss: 0.3754 - val_accuracy: 0.8615\n",
      "Epoch 4/50\n",
      "274/274 [==============================] - 65s 236ms/step - loss: 0.1828 - accuracy: 0.9341 - val_loss: 0.3813 - val_accuracy: 0.8610\n",
      "Epoch 5/50\n",
      "274/274 [==============================] - 65s 236ms/step - loss: 0.1314 - accuracy: 0.9534 - val_loss: 0.4493 - val_accuracy: 0.8573\n",
      "Epoch 5: early stopping\n",
      "69/69 [==============================] - 2s 15ms/step\n",
      "Training ke- 2\n",
      "              precision    recall  f1-score   support\n",
      "\n",
      "           0       0.96      0.94      0.95       687\n",
      "           1       0.98      0.98      0.98       229\n",
      "           2       0.97      0.98      0.97      1271\n",
      "\n",
      "    accuracy                           0.97      2187\n",
      "   macro avg       0.97      0.97      0.97      2187\n",
      "weighted avg       0.97      0.97      0.97      2187\n",
      "\n",
      "======================================================\n",
      "Epoch 1/50\n",
      "274/274 [==============================] - 67s 234ms/step - loss: 0.6597 - accuracy: 0.7255 - val_loss: 0.4932 - val_accuracy: 0.8002\n",
      "Epoch 2/50\n",
      "274/274 [==============================] - 58s 212ms/step - loss: 0.3822 - accuracy: 0.8495 - val_loss: 0.3821 - val_accuracy: 0.8564\n",
      "Epoch 3/50\n",
      "274/274 [==============================] - 58s 211ms/step - loss: 0.2497 - accuracy: 0.9108 - val_loss: 0.3795 - val_accuracy: 0.8564\n",
      "Epoch 4/50\n",
      "274/274 [==============================] - 58s 213ms/step - loss: 0.1773 - accuracy: 0.9377 - val_loss: 0.3920 - val_accuracy: 0.8519\n",
      "Epoch 5/50\n",
      "274/274 [==============================] - 59s 216ms/step - loss: 0.1308 - accuracy: 0.9534 - val_loss: 0.4127 - val_accuracy: 0.8436\n",
      "Epoch 5: early stopping\n",
      "69/69 [==============================] - 1s 14ms/step\n",
      "Training ke- 3\n",
      "              precision    recall  f1-score   support\n",
      "\n",
      "           0       0.97      0.94      0.95       687\n",
      "           1       0.98      0.98      0.98       229\n",
      "           2       0.97      0.98      0.97      1271\n",
      "\n",
      "    accuracy                           0.97      2187\n",
      "   macro avg       0.97      0.97      0.97      2187\n",
      "weighted avg       0.97      0.97      0.97      2187\n",
      "\n",
      "======================================================\n",
      "Epoch 1/50\n",
      "274/274 [==============================] - 65s 223ms/step - loss: 0.6571 - accuracy: 0.7284 - val_loss: 0.5075 - val_accuracy: 0.7864\n",
      "Epoch 2/50\n",
      "274/274 [==============================] - 59s 215ms/step - loss: 0.4178 - accuracy: 0.8295 - val_loss: 0.3930 - val_accuracy: 0.8431\n",
      "Epoch 3/50\n",
      "274/274 [==============================] - 60s 219ms/step - loss: 0.2732 - accuracy: 0.9033 - val_loss: 0.3717 - val_accuracy: 0.8609\n",
      "Epoch 4/50\n",
      "274/274 [==============================] - 58s 211ms/step - loss: 0.1916 - accuracy: 0.9336 - val_loss: 0.3689 - val_accuracy: 0.8632\n",
      "Epoch 5/50\n",
      "274/274 [==============================] - 58s 211ms/step - loss: 0.1387 - accuracy: 0.9484 - val_loss: 0.4317 - val_accuracy: 0.8586\n",
      "Epoch 6/50\n",
      "274/274 [==============================] - 57s 209ms/step - loss: 0.1074 - accuracy: 0.9595 - val_loss: 0.4238 - val_accuracy: 0.8586\n",
      "Epoch 6: early stopping\n",
      "69/69 [==============================] - 1s 13ms/step\n",
      "Training ke- 4\n",
      "              precision    recall  f1-score   support\n",
      "\n",
      "           0       0.97      0.96      0.97       687\n",
      "           1       1.00      0.98      0.99       229\n",
      "           2       0.98      0.98      0.98      1271\n",
      "\n",
      "    accuracy                           0.98      2187\n",
      "   macro avg       0.98      0.98      0.98      2187\n",
      "weighted avg       0.98      0.98      0.98      2187\n",
      "\n",
      "======================================================\n",
      "Epoch 1/50\n",
      "274/274 [==============================] - 62s 218ms/step - loss: 0.6735 - accuracy: 0.7244 - val_loss: 0.5134 - val_accuracy: 0.7790\n",
      "Epoch 2/50\n",
      "274/274 [==============================] - 64s 234ms/step - loss: 0.3984 - accuracy: 0.8396 - val_loss: 0.3944 - val_accuracy: 0.8532\n",
      "Epoch 3/50\n",
      "274/274 [==============================] - 61s 224ms/step - loss: 0.2608 - accuracy: 0.9063 - val_loss: 0.3837 - val_accuracy: 0.8669\n",
      "Epoch 4/50\n",
      "274/274 [==============================] - 59s 217ms/step - loss: 0.1833 - accuracy: 0.9344 - val_loss: 0.3899 - val_accuracy: 0.8600\n",
      "Epoch 5/50\n",
      "274/274 [==============================] - 59s 214ms/step - loss: 0.1371 - accuracy: 0.9519 - val_loss: 0.4202 - val_accuracy: 0.8618\n",
      "Epoch 5: early stopping\n",
      "69/69 [==============================] - 2s 15ms/step\n",
      "Training ke- 5\n",
      "              precision    recall  f1-score   support\n",
      "\n",
      "           0       0.97      0.94      0.96       687\n",
      "           1       0.98      0.97      0.98       229\n",
      "           2       0.97      0.99      0.98      1271\n",
      "\n",
      "    accuracy                           0.97      2187\n",
      "   macro avg       0.97      0.97      0.97      2187\n",
      "weighted avg       0.97      0.97      0.97      2187\n",
      "\n",
      "======================================================\n",
      "\n",
      "\n",
      "\n",
      "Rata-rata Accuracy:  0.947\n"
     ]
    }
   ],
   "source": [
    "# Model training and cross validation\n",
    "\n",
    "kf = KFold(n_splits=5,random_state=42,shuffle=True)\n",
    "\n",
    "accuracies = []\n",
    "\n",
    "y = Y\n",
    "\n",
    "embed_dim = 100\n",
    "units = 64\n",
    "\n",
    "for iteration, data in enumerate(kf.split(X), start=1):\n",
    "\n",
    "    data_train   = X[data[0]]\n",
    "    target_train = y[data[0]]\n",
    "\n",
    "    data_test    = X[data[1]]\n",
    "    target_test  = y[data[1]]\n",
    "    \n",
    "    \n",
    "\n",
    "    model = Sequential()\n",
    "    model.add(Embedding(max_features, embed_dim, input_length=X.shape[1]))\n",
    "    model.add(LSTM(units, dropout=0.5))\n",
    "    model.add(Dense(3,activation='softmax'))\n",
    "    # model.compile(loss = 'binary_crossentropy', optimizer='adam', metrics = ['accuracy'])\n",
    "\n",
    "    adam = optimizers.Adam(learning_rate = 0.0005)\n",
    "    model.compile(loss = 'categorical_crossentropy', optimizer = adam, metrics = ['accuracy'])\n",
    "\n",
    "    es = EarlyStopping(monitor='val_loss', mode='min', verbose=1, patience=2)\n",
    "    history = model.fit(data_train, target_train, epochs=50, batch_size=32, validation_data=(data_test, target_test), verbose=1, callbacks=[es])\n",
    "\n",
    "    predictions = model.predict(X_test)\n",
    "    y_pred = predictions\n",
    "\n",
    "    \n",
    "    \n",
    "    accuracy = accuracy_score(y_test.argmax(axis=1), y_pred.argmax(axis=1))\n",
    "\n",
    "    print(\"Training ke-\", iteration)\n",
    "    print(classification_report(y_test.argmax(axis=1), y_pred.argmax(axis=1)))\n",
    "    print(\"======================================================\")\n",
    "\n",
    "    accuracies.append(accuracy)\n",
    "\n",
    "\n",
    "\n",
    "average_accuracy = np.mean(accuracies)\n",
    "\n",
    "print()\n",
    "print()\n",
    "print()\n",
    "print(\"Rata-rata Accuracy: \", round(average_accuracy,4))"
   ]
  },
  {
   "cell_type": "markdown",
   "id": "778ed926-c63b-4747-94aa-a7f554ddc8ed",
   "metadata": {},
   "source": [
    "## Evaluation"
   ]
  },
  {
   "cell_type": "code",
   "execution_count": 15,
   "id": "0101d244-89be-49b4-8a9e-d8e6fc774330",
   "metadata": {},
   "outputs": [
    {
     "data": {
      "image/png": "[encoded data removed]",
      "text/plain": [
       "<Figure size 1200x500 with 2 Axes>"
      ]
     },
     "metadata": {},
     "output_type": "display_data"
    }
   ],
   "source": [
    "#definisikan plot model data yang sudah kita training.\n",
    "plt.style.use('ggplot')\n",
    "\n",
    "def plot_history(history):\n",
    "    acc = history.history['accuracy']\n",
    "    val_acc = history.history['val_accuracy']\n",
    "    loss = history.history['loss']\n",
    "    val_loss = history.history['val_loss']\n",
    "    x = range(1, len(acc) + 1)\n",
    "\n",
    "    plt.figure(figsize=(12, 5))\n",
    "    plt.subplot(1, 2, 1)\n",
    "    plt.plot(x, acc, 'b', label='Training acc')\n",
    "    plt.plot(x, val_acc, 'r', label='Validation acc')\n",
    "    plt.title('Training and validation accuracy')\n",
    "    plt.legend()\n",
    "    plt.subplot(1, 2, 2)\n",
    "    plt.plot(x, loss, 'b', label='Training loss')\n",
    "    plt.plot(x, val_loss, 'r', label='Validation loss')\n",
    "    plt.title('Training and validation loss')\n",
    "    plt.legend()\n",
    "\n",
    "%matplotlib inline\n",
    "plot_history(history)"
   ]
  },
  {
   "cell_type": "code",
   "execution_count": 16,
   "id": "c352c06f-53b5-435b-bd94-e70e2fe96f0c",
   "metadata": {},
   "outputs": [
    {
     "name": "stderr",
     "output_type": "stream",
     "text": [
      "C:\\Users\\admin\\AppData\\Local\\Programs\\Python\\Python311\\Lib\\site-packages\\keras\\src\\engine\\training.py:3103: UserWarning: You are saving your model as an HDF5 file via `model.save()`. This file format is considered legacy. We recommend using instead the native Keras format, e.g. `model.save('my_model.keras')`.\n",
      "  saving_api.save_model(\n"
     ]
    },
    {
     "name": "stdout",
     "output_type": "stream",
     "text": [
      "Model has created!\n"
     ]
    }
   ],
   "source": [
    "# Save the model\n",
    "\n",
    "model.save('model.h5')\n",
    "print(\"Model has created!\")"
   ]
  },
  {
   "cell_type": "markdown",
   "id": "00541235-f37e-461a-9b9c-075492871cc4",
   "metadata": {},
   "source": [
    "## Prediction"
   ]
  },
  {
   "cell_type": "code",
   "execution_count": 23,
   "id": "005d3e64-e671-4d49-a8db-8332c3826629",
   "metadata": {},
   "outputs": [
    {
     "name": "stdout",
     "output_type": "stream",
     "text": [
      "1/1 [==============================] - 1s 583ms/step\n",
      "Text: dasar cina lu  \n",
      "Sentiment: negative\n"
     ]
    }
   ],
   "source": [
    "input_text = \"\"\"dasar cina lu  \"\"\"\n",
    "\n",
    "def cleansing(sent):\n",
    "    string = sent.lower()\n",
    "    string = re.sub(r'[^a-zA-Z0-9]', ' ', string)\n",
    "    return string\n",
    "\n",
    "sentiment = ['negative', 'neutral', 'positive']\n",
    "\n",
    "text = [cleansing(input_text)]\n",
    "predicted = tokenizer.texts_to_sequences(text)\n",
    "guess = pad_sequences(predicted, maxlen=X.shape[1])\n",
    "\n",
    "model = load_model('model.h5')\n",
    "prediction = model.predict(guess)\n",
    "polarity = np.argmax(prediction[0])\n",
    "hasil = sentiment[polarity]\n",
    "\n",
    "print(\"Text: %s\" % text[0])\n",
    "print(\"Sentiment: %s\" % sentiment[polarity])"
   ]
  },
  {
   "cell_type": "code",
   "execution_count": 22,
   "id": "98b628a1-89dd-4056-8bf1-2b6a82a50c1e",
   "metadata": {},
   "outputs": [
    {
     "name": "stdout",
     "output_type": "stream",
     "text": [
      "1/1 [==============================] - 1s 652ms/step\n",
      "Text: sekolahnya bagus\n",
      "Sentiment: positive\n"
     ]
    }
   ],
   "source": [
    "input_text = \"\"\"sekolahnya bagus\"\"\"\n",
    "\n",
    "def cleansing(sent):\n",
    "    string = sent.lower()\n",
    "    string = re.sub(r'[^a-zA-Z0-9]', ' ', string)\n",
    "    return string\n",
    "\n",
    "sentiment = ['negative', 'neutral', 'positive']\n",
    "\n",
    "text = [cleansing(input_text)]\n",
    "predicted = tokenizer.texts_to_sequences(text)\n",
    "guess = pad_sequences(predicted, maxlen=X.shape[1])\n",
    "\n",
    "model = load_model('model.h5')\n",
    "prediction = model.predict(guess)\n",
    "polarity = np.argmax(prediction[0])\n",
    "hasil = sentiment[polarity]\n",
    "\n",
    "print(\"Text: %s\" % text[0])\n",
    "print(\"Sentiment: %s\" % sentiment[polarity])"
   ]
  }
 ],
 "metadata": {
  "kernelspec": {
   "display_name": "Python 3 (ipykernel)",
   "language": "python",
   "name": "python3"
  },
  "language_info": {
   "codemirror_mode": {
    "name": "ipython",
    "version": 3
   },
   "file_extension": ".py",
   "mimetype": "text/x-python",
   "name": "python",
   "nbconvert_exporter": "python",
   "pygments_lexer": "ipython3",
   "version": "3.11.6"
  }
 },
 "nbformat": 4,
 "nbformat_minor": 5
}
