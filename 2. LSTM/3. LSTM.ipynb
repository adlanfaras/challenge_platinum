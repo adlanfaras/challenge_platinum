{
 "cells": [
  {
   "cell_type": "markdown",
   "id": "05700517-9c11-4cc2-a4e3-161f37e35712",
   "metadata": {},
   "source": [
    "## Load Dataset"
   ]
  },
  {
   "cell_type": "code",
   "execution_count": 1,
   "id": "798c750d-692a-40f4-9dc6-d0ed0ab84463",
   "metadata": {},
   "outputs": [],
   "source": [
    "import pandas as pd\n",
    "import re"
   ]
  },
  {
   "cell_type": "code",
   "execution_count": 2,
   "id": "613b6078-76be-4f5a-9a33-210901332dbf",
   "metadata": {},
   "outputs": [],
   "source": [
    "# Load dataset\n",
    "\n",
    "df = pd.read_csv(\"train_preprocess.tsv.txt\" ,encoding=\"latin1\",sep='\\t',header=None,names=[\"text\",\"label\"])"
   ]
  },
  {
   "cell_type": "code",
   "execution_count": 3,
   "id": "7abcf5f3-6808-4a1c-b314-5d91280bbcc3",
   "metadata": {},
   "outputs": [
    {
     "data": {
      "text/html": [
       "<div>\n",
       "<style scoped>\n",
       "    .dataframe tbody tr th:only-of-type {\n",
       "        vertical-align: middle;\n",
       "    }\n",
       "\n",
       "    .dataframe tbody tr th {\n",
       "        vertical-align: top;\n",
       "    }\n",
       "\n",
       "    .dataframe thead th {\n",
       "        text-align: right;\n",
       "    }\n",
       "</style>\n",
       "<table border=\"1\" class=\"dataframe\">\n",
       "  <thead>\n",
       "    <tr style=\"text-align: right;\">\n",
       "      <th></th>\n",
       "      <th>text</th>\n",
       "      <th>label</th>\n",
       "    </tr>\n",
       "  </thead>\n",
       "  <tbody>\n",
       "    <tr>\n",
       "      <th>0</th>\n",
       "      <td>warung ini dimiliki oleh pengusaha pabrik tahu...</td>\n",
       "      <td>positive</td>\n",
       "    </tr>\n",
       "    <tr>\n",
       "      <th>1</th>\n",
       "      <td>mohon ulama lurus dan k212 mmbri hujjah partai...</td>\n",
       "      <td>neutral</td>\n",
       "    </tr>\n",
       "    <tr>\n",
       "      <th>2</th>\n",
       "      <td>lokasi strategis di jalan sumatera bandung . t...</td>\n",
       "      <td>positive</td>\n",
       "    </tr>\n",
       "    <tr>\n",
       "      <th>3</th>\n",
       "      <td>betapa bahagia nya diri ini saat unboxing pake...</td>\n",
       "      <td>positive</td>\n",
       "    </tr>\n",
       "    <tr>\n",
       "      <th>4</th>\n",
       "      <td>duh . jadi mahasiswa jangan sombong dong . kas...</td>\n",
       "      <td>negative</td>\n",
       "    </tr>\n",
       "  </tbody>\n",
       "</table>\n",
       "</div>"
      ],
      "text/plain": [
       "                                                text     label\n",
       "0  warung ini dimiliki oleh pengusaha pabrik tahu...  positive\n",
       "1  mohon ulama lurus dan k212 mmbri hujjah partai...   neutral\n",
       "2  lokasi strategis di jalan sumatera bandung . t...  positive\n",
       "3  betapa bahagia nya diri ini saat unboxing pake...  positive\n",
       "4  duh . jadi mahasiswa jangan sombong dong . kas...  negative"
      ]
     },
     "execution_count": 3,
     "metadata": {},
     "output_type": "execute_result"
    }
   ],
   "source": [
    "df.head()"
   ]
  },
  {
   "cell_type": "code",
   "execution_count": 4,
   "id": "b24b18ba-5a5c-42ba-a864-31b441a076d9",
   "metadata": {},
   "outputs": [
    {
     "data": {
      "text/plain": [
       "(11000, 2)"
      ]
     },
     "execution_count": 4,
     "metadata": {},
     "output_type": "execute_result"
    }
   ],
   "source": [
    "df.shape"
   ]
  },
  {
   "cell_type": "code",
   "execution_count": 5,
   "id": "ee8fdf1a-d482-4981-b2f4-84b90c41093c",
   "metadata": {},
   "outputs": [
    {
     "data": {
      "text/plain": [
       "text     0\n",
       "label    0\n",
       "dtype: int64"
      ]
     },
     "execution_count": 5,
     "metadata": {},
     "output_type": "execute_result"
    }
   ],
   "source": [
    "df.isnull().sum()"
   ]
  },
  {
   "cell_type": "code",
   "execution_count": 6,
   "id": "7647fb5d-1db4-468f-8117-866317c1cad0",
   "metadata": {},
   "outputs": [
    {
     "data": {
      "text/plain": [
       "67"
      ]
     },
     "execution_count": 6,
     "metadata": {},
     "output_type": "execute_result"
    }
   ],
   "source": [
    "#Cek duplikasi data\n",
    "\n",
    "df.duplicated().sum()"
   ]
  },
  {
   "cell_type": "code",
   "execution_count": 7,
   "id": "2acee241-e5be-4214-b47a-d471563fa2b2",
   "metadata": {},
   "outputs": [],
   "source": [
    "# Hapus duplicated data\n",
    "\n",
    "df = df.drop_duplicates()"
   ]
  },
  {
   "cell_type": "code",
   "execution_count": 8,
   "id": "52951866-a28c-479e-ba1d-787c8bd968c6",
   "metadata": {},
   "outputs": [
    {
     "name": "stdout",
     "output_type": "stream",
     "text": [
      "Jumlah Duplikasi Data = 0\n",
      "Duplikasi Data Tela dihapus...\n"
     ]
    }
   ],
   "source": [
    "print('Jumlah Duplikasi Data = {}'.format(df.duplicated().sum()))\n",
    "print('Duplikasi Data Tela dihapus...')"
   ]
  },
  {
   "cell_type": "code",
   "execution_count": 9,
   "id": "ce0b65d0-33e5-4b07-b18c-689ab762c3a5",
   "metadata": {},
   "outputs": [
    {
     "data": {
      "text/plain": [
       "(10933, 2)"
      ]
     },
     "execution_count": 9,
     "metadata": {},
     "output_type": "execute_result"
    }
   ],
   "source": [
    "#cek lagi\n",
    "df.shape"
   ]
  },
  {
   "cell_type": "code",
   "execution_count": 10,
   "id": "533930d5-d248-4971-a720-a0b50f5c677d",
   "metadata": {},
   "outputs": [
    {
     "data": {
      "text/html": [
       "<div>\n",
       "<style scoped>\n",
       "    .dataframe tbody tr th:only-of-type {\n",
       "        vertical-align: middle;\n",
       "    }\n",
       "\n",
       "    .dataframe tbody tr th {\n",
       "        vertical-align: top;\n",
       "    }\n",
       "\n",
       "    .dataframe thead th {\n",
       "        text-align: right;\n",
       "    }\n",
       "</style>\n",
       "<table border=\"1\" class=\"dataframe\">\n",
       "  <thead>\n",
       "    <tr style=\"text-align: right;\">\n",
       "      <th></th>\n",
       "      <th>text</th>\n",
       "      <th>label</th>\n",
       "    </tr>\n",
       "  </thead>\n",
       "  <tbody>\n",
       "    <tr>\n",
       "      <th>0</th>\n",
       "      <td>warung ini dimiliki oleh pengusaha pabrik tahu...</td>\n",
       "      <td>positive</td>\n",
       "    </tr>\n",
       "    <tr>\n",
       "      <th>1</th>\n",
       "      <td>mohon ulama lurus dan k212 mmbri hujjah partai...</td>\n",
       "      <td>neutral</td>\n",
       "    </tr>\n",
       "    <tr>\n",
       "      <th>2</th>\n",
       "      <td>lokasi strategis di jalan sumatera bandung . t...</td>\n",
       "      <td>positive</td>\n",
       "    </tr>\n",
       "    <tr>\n",
       "      <th>3</th>\n",
       "      <td>betapa bahagia nya diri ini saat unboxing pake...</td>\n",
       "      <td>positive</td>\n",
       "    </tr>\n",
       "    <tr>\n",
       "      <th>4</th>\n",
       "      <td>duh . jadi mahasiswa jangan sombong dong . kas...</td>\n",
       "      <td>negative</td>\n",
       "    </tr>\n",
       "  </tbody>\n",
       "</table>\n",
       "</div>"
      ],
      "text/plain": [
       "                                                text     label\n",
       "0  warung ini dimiliki oleh pengusaha pabrik tahu...  positive\n",
       "1  mohon ulama lurus dan k212 mmbri hujjah partai...   neutral\n",
       "2  lokasi strategis di jalan sumatera bandung . t...  positive\n",
       "3  betapa bahagia nya diri ini saat unboxing pake...  positive\n",
       "4  duh . jadi mahasiswa jangan sombong dong . kas...  negative"
      ]
     },
     "execution_count": 10,
     "metadata": {},
     "output_type": "execute_result"
    }
   ],
   "source": [
    "df.head()"
   ]
  },
  {
   "cell_type": "markdown",
   "id": "819f4bf5-02e1-4026-9ba0-81c84209f3cf",
   "metadata": {},
   "source": [
    "- Ada 67 data yang diduplikasi dalam dataset dan sudah dihapus, Update terdiri dari 10933 baris."
   ]
  },
  {
   "cell_type": "markdown",
   "id": "3903cb98-c44a-4dab-b91d-d7e75a2cc1a0",
   "metadata": {},
   "source": [
    "## Text Processing"
   ]
  },
  {
   "cell_type": "code",
   "execution_count": 119,
   "id": "e2fa2a7e-a7ef-4042-9c36-b958e9521544",
   "metadata": {},
   "outputs": [],
   "source": [
    "df_alay = pd.read_csv('new_kamusalay.csv', encoding='ISO-8859-1', header=None)\n",
    "df_alay = df_alay.rename(columns={0: 'alay', 1: 'formal'})"
   ]
  },
  {
   "cell_type": "code",
   "execution_count": 120,
   "id": "7f060a18-c534-460b-bc02-4c2ef6404271",
   "metadata": {},
   "outputs": [
    {
     "data": {
      "text/html": [
       "<div>\n",
       "<style scoped>\n",
       "    .dataframe tbody tr th:only-of-type {\n",
       "        vertical-align: middle;\n",
       "    }\n",
       "\n",
       "    .dataframe tbody tr th {\n",
       "        vertical-align: top;\n",
       "    }\n",
       "\n",
       "    .dataframe thead th {\n",
       "        text-align: right;\n",
       "    }\n",
       "</style>\n",
       "<table border=\"1\" class=\"dataframe\">\n",
       "  <thead>\n",
       "    <tr style=\"text-align: right;\">\n",
       "      <th></th>\n",
       "      <th>alay</th>\n",
       "      <th>formal</th>\n",
       "    </tr>\n",
       "  </thead>\n",
       "  <tbody>\n",
       "    <tr>\n",
       "      <th>0</th>\n",
       "      <td>anakjakartaasikasik</td>\n",
       "      <td>anak jakarta asyik asyik</td>\n",
       "    </tr>\n",
       "    <tr>\n",
       "      <th>1</th>\n",
       "      <td>pakcikdahtua</td>\n",
       "      <td>pak cik sudah tua</td>\n",
       "    </tr>\n",
       "    <tr>\n",
       "      <th>2</th>\n",
       "      <td>pakcikmudalagi</td>\n",
       "      <td>pak cik muda lagi</td>\n",
       "    </tr>\n",
       "    <tr>\n",
       "      <th>3</th>\n",
       "      <td>t3tapjokowi</td>\n",
       "      <td>tetap jokowi</td>\n",
       "    </tr>\n",
       "    <tr>\n",
       "      <th>4</th>\n",
       "      <td>3x</td>\n",
       "      <td>tiga kali</td>\n",
       "    </tr>\n",
       "  </tbody>\n",
       "</table>\n",
       "</div>"
      ],
      "text/plain": [
       "                  alay                    formal\n",
       "0  anakjakartaasikasik  anak jakarta asyik asyik\n",
       "1         pakcikdahtua         pak cik sudah tua\n",
       "2       pakcikmudalagi         pak cik muda lagi\n",
       "3          t3tapjokowi              tetap jokowi\n",
       "4                   3x                 tiga kali"
      ]
     },
     "execution_count": 120,
     "metadata": {},
     "output_type": "execute_result"
    }
   ],
   "source": [
    "df_alay.head()"
   ]
  },
  {
   "cell_type": "code",
   "execution_count": 121,
   "id": "17731424-e491-4299-98ca-bcdb875f49c2",
   "metadata": {},
   "outputs": [
    {
     "name": "stderr",
     "output_type": "stream",
     "text": [
      "[nltk_data] Downloading package stopwords to\n",
      "[nltk_data]     C:\\Users\\admin\\AppData\\Roaming\\nltk_data...\n",
      "[nltk_data]   Package stopwords is already up-to-date!\n"
     ]
    }
   ],
   "source": [
    "import nltk\n",
    "nltk.download('stopwords')\n",
    "from nltk.corpus import stopwords\n",
    "list_stopwords = set(stopwords.words('indonesian'))\n",
    "\n",
    "def data_cleaning (text):\n",
    "    text = re.sub ('\\\\n','', text)\n",
    "    text = re.sub ('RT',' ', text)\n",
    "    text = re.sub ('USER', ' ', text)\n",
    "    text = re.sub ('(http|https):\\/\\/s+', ' ', text)\n",
    "    text = re.sub ('[^0-9a-zA-Z]+', ' ', text)\n",
    "    text = re.sub ('x[a-z0-9]{2}', ' ', text)\n",
    "    text = re.sub (\"\\d+\", ' ', text)\n",
    "    text = re.sub ('  +', '', text)\n",
    "    return text\n",
    "\n",
    "def case_folding (text):\n",
    "    return text.lower()\n",
    "\n",
    "def alay_normalization(text):\n",
    "    res = ''\n",
    "    for item in text.split():\n",
    "        if item in df_alay['alay'].values:\n",
    "            res += df_alay[df_alay['alay'] == item]['formal'].iloc[0]\n",
    "        else:\n",
    "            res += item\n",
    "        res += ' '\n",
    "    return res\n",
    "\n",
    "def stopword_removal(text):\n",
    "    resp = ''\n",
    "    for item in text.split():\n",
    "        if item not in list_stopwords:\n",
    "            resp += item\n",
    "        resp +=' '\n",
    "    clean = re.sub('  +', ' ', resp)\n",
    "    return clean\n",
    "\n",
    "def cleansing(text):\n",
    "    text = data_cleaning(text)\n",
    "    text = case_folding(text)\n",
    "    text = alay_normalization(text)\n",
    "    text = stopword_removal(text)\n",
    "    return text"
   ]
  },
  {
   "cell_type": "code",
   "execution_count": 61,
   "id": "8eba5e73-f25d-4831-a645-2107c2b05aa4",
   "metadata": {},
   "outputs": [],
   "source": [
    "# Apply cleansing\n",
    "df['text'] = df['text'].apply(cleansing)"
   ]
  },
  {
   "cell_type": "code",
   "execution_count": 62,
   "id": "22b6a6d9-0813-417e-95f6-a0387594d69c",
   "metadata": {},
   "outputs": [
    {
     "data": {
      "text/html": [
       "<div>\n",
       "<style scoped>\n",
       "    .dataframe tbody tr th:only-of-type {\n",
       "        vertical-align: middle;\n",
       "    }\n",
       "\n",
       "    .dataframe tbody tr th {\n",
       "        vertical-align: top;\n",
       "    }\n",
       "\n",
       "    .dataframe thead th {\n",
       "        text-align: right;\n",
       "    }\n",
       "</style>\n",
       "<table border=\"1\" class=\"dataframe\">\n",
       "  <thead>\n",
       "    <tr style=\"text-align: right;\">\n",
       "      <th></th>\n",
       "      <th>text</th>\n",
       "      <th>label</th>\n",
       "    </tr>\n",
       "  </thead>\n",
       "  <tbody>\n",
       "    <tr>\n",
       "      <th>0</th>\n",
       "      <td>warung dimiliki pengusaha pabrik puluhan terke...</td>\n",
       "      <td>positive</td>\n",
       "    </tr>\n",
       "    <tr>\n",
       "      <th>1</th>\n",
       "      <td>mohon ulama lurus kmmbri hujjah partai diwlh s...</td>\n",
       "      <td>neutral</td>\n",
       "    </tr>\n",
       "    <tr>\n",
       "      <th>2</th>\n",
       "      <td>lokasi strategis jalan sumatra bandung nya nya...</td>\n",
       "      <td>positive</td>\n",
       "    </tr>\n",
       "    <tr>\n",
       "      <th>3</th>\n",
       "      <td>betapa bahagia nya unbo paket barang nya bagus...</td>\n",
       "      <td>positive</td>\n",
       "    </tr>\n",
       "    <tr>\n",
       "      <th>4</th>\n",
       "      <td>aduh mahasiswa sombong kasih kartu kuning bela...</td>\n",
       "      <td>negative</td>\n",
       "    </tr>\n",
       "  </tbody>\n",
       "</table>\n",
       "</div>"
      ],
      "text/plain": [
       "                                                text     label\n",
       "0  warung dimiliki pengusaha pabrik puluhan terke...  positive\n",
       "1  mohon ulama lurus kmmbri hujjah partai diwlh s...   neutral\n",
       "2  lokasi strategis jalan sumatra bandung nya nya...  positive\n",
       "3  betapa bahagia nya unbo paket barang nya bagus...  positive\n",
       "4  aduh mahasiswa sombong kasih kartu kuning bela...  negative"
      ]
     },
     "execution_count": 62,
     "metadata": {},
     "output_type": "execute_result"
    }
   ],
   "source": [
    "df.head()"
   ]
  },
  {
   "cell_type": "code",
   "execution_count": 77,
   "id": "48091b44-2c00-497c-8413-1374a1cff8e4",
   "metadata": {},
   "outputs": [],
   "source": [
    "import sqlite3\n",
    "\n",
    "# Membuat koneksi ke database SQLite\n",
    "conn = sqlite3.connect('database.db')"
   ]
  },
  {
   "cell_type": "code",
   "execution_count": 78,
   "id": "9157baa6-f45d-4895-a1d5-4cdb25383ff6",
   "metadata": {},
   "outputs": [
    {
     "data": {
      "text/plain": [
       "10933"
      ]
     },
     "execution_count": 78,
     "metadata": {},
     "output_type": "execute_result"
    }
   ],
   "source": [
    "# Menyimpan DataFrame ke dalam tabel 'tabel_cleansed' dalam database\n",
    "df.to_sql('tabel_cleansed', con=conn, index=False, if_exists='replace')"
   ]
  },
  {
   "cell_type": "code",
   "execution_count": 79,
   "id": "6d4c9f42-226b-4bb0-92a3-87beb49aee4a",
   "metadata": {},
   "outputs": [
    {
     "name": "stdout",
     "output_type": "stream",
     "text": [
      "DataFrame yang telah di-cleansing berhasil disimpan ke dalam tabel 'tabel_cleansed' di database.\n"
     ]
    }
   ],
   "source": [
    "print(\"DataFrame yang telah di-cleansing berhasil disimpan ke dalam tabel 'tabel_cleansed' di database.\")"
   ]
  },
  {
   "cell_type": "code",
   "execution_count": 80,
   "id": "a45a2ddc-7fda-44c6-a255-a667f6d9eb0e",
   "metadata": {},
   "outputs": [],
   "source": [
    "# Close the database\n",
    "\n",
    "conn.commit()\n",
    "conn.close()"
   ]
  },
  {
   "cell_type": "code",
   "execution_count": 81,
   "id": "b34481ec-31ca-4d88-bba1-d35452f67e0b",
   "metadata": {},
   "outputs": [
    {
     "data": {
      "text/html": [
       "<div>\n",
       "<style scoped>\n",
       "    .dataframe tbody tr th:only-of-type {\n",
       "        vertical-align: middle;\n",
       "    }\n",
       "\n",
       "    .dataframe tbody tr th {\n",
       "        vertical-align: top;\n",
       "    }\n",
       "\n",
       "    .dataframe thead th {\n",
       "        text-align: right;\n",
       "    }\n",
       "</style>\n",
       "<table border=\"1\" class=\"dataframe\">\n",
       "  <thead>\n",
       "    <tr style=\"text-align: right;\">\n",
       "      <th></th>\n",
       "      <th>text</th>\n",
       "      <th>label</th>\n",
       "    </tr>\n",
       "  </thead>\n",
       "  <tbody>\n",
       "    <tr>\n",
       "      <th>0</th>\n",
       "      <td>warung dimiliki pengusaha pabrik puluhan terke...</td>\n",
       "      <td>positive</td>\n",
       "    </tr>\n",
       "    <tr>\n",
       "      <th>1</th>\n",
       "      <td>mohon ulama lurus kmmbri hujjah partai diwlh s...</td>\n",
       "      <td>neutral</td>\n",
       "    </tr>\n",
       "    <tr>\n",
       "      <th>2</th>\n",
       "      <td>lokasi strategis jalan sumatra bandung nya nya...</td>\n",
       "      <td>positive</td>\n",
       "    </tr>\n",
       "    <tr>\n",
       "      <th>3</th>\n",
       "      <td>betapa bahagia nya unbo paket barang nya bagus...</td>\n",
       "      <td>positive</td>\n",
       "    </tr>\n",
       "    <tr>\n",
       "      <th>4</th>\n",
       "      <td>aduh mahasiswa sombong kasih kartu kuning bela...</td>\n",
       "      <td>negative</td>\n",
       "    </tr>\n",
       "  </tbody>\n",
       "</table>\n",
       "</div>"
      ],
      "text/plain": [
       "                                                text     label\n",
       "0  warung dimiliki pengusaha pabrik puluhan terke...  positive\n",
       "1  mohon ulama lurus kmmbri hujjah partai diwlh s...   neutral\n",
       "2  lokasi strategis jalan sumatra bandung nya nya...  positive\n",
       "3  betapa bahagia nya unbo paket barang nya bagus...  positive\n",
       "4  aduh mahasiswa sombong kasih kartu kuning bela...  negative"
      ]
     },
     "execution_count": 81,
     "metadata": {},
     "output_type": "execute_result"
    }
   ],
   "source": [
    "# Load dataset from database\n",
    "\n",
    "db = sqlite3.connect('database.db', check_same_thread = False)\n",
    "q_data = 'SELECT * FROM tabel_cleansed'\n",
    "data = pd.read_sql_query(q_data, db)\n",
    "data.head()"
   ]
  },
  {
   "cell_type": "code",
   "execution_count": 82,
   "id": "3ab99695-d26b-490a-a53f-1479b6ce5966",
   "metadata": {},
   "outputs": [
    {
     "data": {
      "text/plain": [
       "label\n",
       "positive    6383\n",
       "negative    3412\n",
       "neutral     1138\n",
       "Name: count, dtype: int64"
      ]
     },
     "execution_count": 82,
     "metadata": {},
     "output_type": "execute_result"
    }
   ],
   "source": [
    "#cek label\n",
    "\n",
    "data['label'].value_counts()"
   ]
  },
  {
   "cell_type": "markdown",
   "id": "9f85b6ac-6ea9-4f64-9097-4841e2921ee3",
   "metadata": {},
   "source": [
    "## Feature-Label Classification"
   ]
  },
  {
   "cell_type": "code",
   "execution_count": 83,
   "id": "f5ba81b0-5da6-48b8-a79e-356251cda089",
   "metadata": {},
   "outputs": [],
   "source": [
    "#sortir datanya berdasarkan tiga sentimen tadi\n",
    "\n",
    "# Group data text\n",
    "\n",
    "positif_text = data.loc[data['label']=='positive'].text.tolist()\n",
    "negatif_text = data.loc[data['label']=='negative'].text.tolist()\n",
    "neutral_text = data.loc[data['label']=='neutral'].text.tolist()\n",
    "\n",
    "# Group data label\n",
    "\n",
    "positif_label = data.loc[data['label']=='positive'].label.tolist()\n",
    "negatif_label = data.loc[data['label']=='negative'].label.tolist()\n",
    "neutral_label = data.loc[data['label']=='neutral'].label.tolist()"
   ]
  },
  {
   "cell_type": "code",
   "execution_count": 84,
   "id": "55425036-de48-4e88-9f98-97efd771b75f",
   "metadata": {},
   "outputs": [
    {
     "name": "stdout",
     "output_type": "stream",
     "text": [
      "Positive: 6383, Negative: 3412, Neutral: 1138\n",
      "Total data: 10933\n",
      "Total labels: 10933\n"
     ]
    }
   ],
   "source": [
    "# Final data check\n",
    "\n",
    "total_data = positif_text + negatif_text + neutral_text\n",
    "labels = positif_label + negatif_label + neutral_label\n",
    "\n",
    "print(\"Positive: %s, Negative: %s, Neutral: %s\" % (len(positif_text), len(negatif_text), len(neutral_text)))\n",
    "print(\"Total data: %s\" % len(total_data))\n",
    "print(\"Total labels: %s\" % len(labels))"
   ]
  },
  {
   "cell_type": "markdown",
   "id": "6971b63f-52c6-40ef-aceb-681fcc0885c8",
   "metadata": {},
   "source": [
    "## Feature Extraction"
   ]
  },
  {
   "cell_type": "code",
   "execution_count": 85,
   "id": "c461484a-4878-47de-afaf-f50fcdcaacd7",
   "metadata": {},
   "outputs": [],
   "source": [
    "import pickle\n",
    "from tensorflow.keras.preprocessing.text import Tokenizer\n",
    "from tensorflow.keras.preprocessing.sequence import pad_sequences\n",
    "from collections import defaultdict"
   ]
  },
  {
   "cell_type": "code",
   "execution_count": 86,
   "id": "03adb94a-5112-4881-8918-5cfeff3930f1",
   "metadata": {},
   "outputs": [
    {
     "name": "stdout",
     "output_type": "stream",
     "text": [
      "tokenizer.pickle has created!\n"
     ]
    }
   ],
   "source": [
    "max_features = 100000\n",
    "tokenizer = Tokenizer(num_words=max_features, split=' ', lower=True)\n",
    "tokenizer.fit_on_texts(total_data)\n",
    "with open('tokenizer.pickle', 'wb') as handle:\n",
    "    pickle.dump(tokenizer, handle, protocol=pickle.HIGHEST_PROTOCOL)\n",
    "    print(\"tokenizer.pickle has created!\")\n"
   ]
  },
  {
   "cell_type": "code",
   "execution_count": 87,
   "id": "8e8d3731-c5ac-45ad-98a2-a4618b2f3de0",
   "metadata": {},
   "outputs": [],
   "source": [
    "#memanggil modul tokenizer\n",
    "X = tokenizer.texts_to_sequences(total_data)\n",
    "vocab_size = len(tokenizer.word_index)\n",
    "maxlen = max(len(x) for x in X)"
   ]
  },
  {
   "cell_type": "code",
   "execution_count": 88,
   "id": "daa93966-b2d1-4f08-a209-0ddda4181013",
   "metadata": {},
   "outputs": [
    {
     "name": "stdout",
     "output_type": "stream",
     "text": [
      "x_pad_sequences.pickle has created!\n"
     ]
    },
    {
     "data": {
      "text/plain": [
       "array([[    0,     0,     0, ...,   307,   265,  1736],\n",
       "       [    0,     0,     0, ...,     1,     2,     2],\n",
       "       [    0,     0,     0, ...,    18,  4400,   101],\n",
       "       ...,\n",
       "       [    0,     0,     0, ...,  1616,    65,  4999],\n",
       "       [    0,     0,     0, ...,  4154,  1011,  1846],\n",
       "       [    0,     0,     0, ..., 17040,  3535,   404]])"
      ]
     },
     "execution_count": 88,
     "metadata": {},
     "output_type": "execute_result"
    }
   ],
   "source": [
    "#memanggil modul pad sequence\n",
    "X = pad_sequences(X)\n",
    "with open('x_pad_sequences.pickle', 'wb') as handle:\n",
    "    pickle.dump(X, handle, protocol=pickle.HIGHEST_PROTOCOL)\n",
    "    print(\"x_pad_sequences.pickle has created!\")\n",
    "\n",
    "X"
   ]
  },
  {
   "cell_type": "code",
   "execution_count": 89,
   "id": "83fb5fd9-9edd-4ef7-a7f2-330990ac2807",
   "metadata": {},
   "outputs": [
    {
     "name": "stdout",
     "output_type": "stream",
     "text": [
      "y_labels.pickle has created!\n"
     ]
    }
   ],
   "source": [
    "# Feature extraction untuk labels\n",
    "\n",
    "Y = pd.get_dummies(labels)\n",
    "Y = Y.values\n",
    "\n",
    "with open('y_labels.pickle', 'wb') as handle:\n",
    "    pickle.dump(Y, handle, protocol=pickle.HIGHEST_PROTOCOL)\n",
    "    print(\"y_labels.pickle has created!\")"
   ]
  },
  {
   "cell_type": "markdown",
   "id": "8ded70fb-86b9-459b-8a74-816a477c5769",
   "metadata": {},
   "source": [
    "# Split traning and testing dataset"
   ]
  },
  {
   "cell_type": "code",
   "execution_count": 90,
   "id": "1236880a-8ec5-4e18-9f8a-1e5cb97a537a",
   "metadata": {},
   "outputs": [],
   "source": [
    "from sklearn.model_selection import train_test_split"
   ]
  },
  {
   "cell_type": "code",
   "execution_count": 91,
   "id": "087c86c2-9f0d-4900-aa7f-bc8b64623bb3",
   "metadata": {},
   "outputs": [],
   "source": [
    "file = open(\"x_pad_sequences.pickle\",'rb')\n",
    "X = pickle.load(file)\n",
    "file.close()"
   ]
  },
  {
   "cell_type": "code",
   "execution_count": 92,
   "id": "7b94a56a-5141-4726-be33-9101511e6bbe",
   "metadata": {},
   "outputs": [],
   "source": [
    "file = open(\"y_labels.pickle\",'rb')\n",
    "Y = pickle.load(file)\n",
    "file.close()"
   ]
  },
  {
   "cell_type": "code",
   "execution_count": 93,
   "id": "cf62c480-c675-4c1f-8ea6-554cb85b73c3",
   "metadata": {},
   "outputs": [],
   "source": [
    "# Membagi train-test dengan pembagian 80:20\n",
    "\n",
    "X_train, X_test, y_train, y_test = train_test_split(X, Y, test_size=0.2, random_state=42)"
   ]
  },
  {
   "cell_type": "markdown",
   "id": "51d2ce35-fb6b-4759-ab8c-7a5992ea7c2b",
   "metadata": {},
   "source": [
    "# Model Training"
   ]
  },
  {
   "cell_type": "code",
   "execution_count": 94,
   "id": "81551a62-e15e-4479-bf2b-c30fd6ad982e",
   "metadata": {},
   "outputs": [],
   "source": [
    "import numpy as np\n",
    "import tensorflow as tf\n",
    "from tensorflow.keras import layers\n",
    "from tensorflow.keras.models import Sequential\n",
    "from tensorflow.keras.layers import Dense, Embedding, LSTM, SpatialDropout1D, SimpleRNN, Activation\n",
    "from tensorflow.keras import optimizers\n",
    "from tensorflow.keras.callbacks import EarlyStopping, TensorBoard\n",
    "from tensorflow.keras.layers import Flatten\n",
    "from tensorflow.keras import backend as K"
   ]
  },
  {
   "cell_type": "code",
   "execution_count": 95,
   "id": "0f75bd83-f4c2-4561-b5fc-e7dd8e399330",
   "metadata": {},
   "outputs": [],
   "source": [
    "embed_dim = 100\n",
    "units = 64\n",
    "\n",
    "max_features = 100000"
   ]
  },
  {
   "cell_type": "code",
   "execution_count": 96,
   "id": "e2149017-b4c7-40a2-bb48-076f0b9d20e8",
   "metadata": {},
   "outputs": [
    {
     "name": "stdout",
     "output_type": "stream",
     "text": [
      "<bound method Model.summary of <keras.src.engine.sequential.Sequential object at 0x000001FF20780250>>\n"
     ]
    }
   ],
   "source": [
    "model = Sequential()\n",
    "model.add(Embedding(max_features, embed_dim, input_length=X.shape[1]))\n",
    "model.add(LSTM(units, dropout=0.5))\n",
    "model.add(Dense(3,activation='softmax'))\n",
    "   \n",
    "adam = optimizers.Adam(learning_rate = 0.0005)\n",
    "model.compile(loss = 'categorical_crossentropy', optimizer = adam, metrics = ['accuracy'])\n",
    "\n",
    "print(model.summary)"
   ]
  },
  {
   "cell_type": "code",
   "execution_count": 97,
   "id": "a0dfc3c3-bf83-4431-b214-ff8cc1800e23",
   "metadata": {},
   "outputs": [
    {
     "name": "stdout",
     "output_type": "stream",
     "text": [
      "Epoch 1/50\n",
      "274/274 [==============================] - 69s 230ms/step - loss: 0.6591 - accuracy: 0.7323 - val_loss: 0.5347 - val_accuracy: 0.7759\n",
      "Epoch 2/50\n",
      "274/274 [==============================] - 58s 211ms/step - loss: 0.4090 - accuracy: 0.8291 - val_loss: 0.4353 - val_accuracy: 0.8377\n",
      "Epoch 3/50\n",
      "274/274 [==============================] - 59s 214ms/step - loss: 0.2533 - accuracy: 0.9089 - val_loss: 0.4003 - val_accuracy: 0.8528\n",
      "Epoch 4/50\n",
      "274/274 [==============================] - 57s 210ms/step - loss: 0.1789 - accuracy: 0.9333 - val_loss: 0.4297 - val_accuracy: 0.8560\n",
      "Epoch 5/50\n",
      "274/274 [==============================] - 61s 222ms/step - loss: 0.1293 - accuracy: 0.9536 - val_loss: 0.4653 - val_accuracy: 0.8555\n",
      "Epoch 5: early stopping\n"
     ]
    }
   ],
   "source": [
    "es = EarlyStopping(monitor='val_loss', mode='min', verbose=1, patience=2)\n",
    "history = model.fit(X_train, y_train, epochs=50, batch_size=32, validation_data=(X_test, y_test), verbose=1, callbacks=[es])"
   ]
  },
  {
   "cell_type": "code",
   "execution_count": 98,
   "id": "ffb8372b-9393-4398-b318-cb7664556db2",
   "metadata": {},
   "outputs": [
    {
     "name": "stdout",
     "output_type": "stream",
     "text": [
      "Model has created!\n"
     ]
    }
   ],
   "source": [
    "# Save the model\n",
    "\n",
    "model.save('model_lstm.keras')\n",
    "print(\"Model has created!\")"
   ]
  },
  {
   "cell_type": "markdown",
   "id": "0f45b698-0121-4448-baf4-f59cf99764d2",
   "metadata": {},
   "source": [
    "# Model Evaluation"
   ]
  },
  {
   "cell_type": "code",
   "execution_count": 99,
   "id": "53ec4115-a580-4fa2-8990-8e406846a485",
   "metadata": {},
   "outputs": [],
   "source": [
    "from sklearn import metrics"
   ]
  },
  {
   "cell_type": "code",
   "execution_count": 100,
   "id": "5f13ca1f-5e41-4a71-b3fe-a656871f5716",
   "metadata": {},
   "outputs": [
    {
     "name": "stdout",
     "output_type": "stream",
     "text": [
      "69/69 [==============================] - 2s 12ms/step\n",
      "Testing selesai\n",
      "              precision    recall  f1-score   support\n",
      "\n",
      "           0       0.81      0.79      0.80       687\n",
      "           1       0.74      0.75      0.75       229\n",
      "           2       0.90      0.91      0.90      1271\n",
      "\n",
      "    accuracy                           0.86      2187\n",
      "   macro avg       0.82      0.82      0.82      2187\n",
      "weighted avg       0.85      0.86      0.86      2187\n",
      "\n"
     ]
    }
   ],
   "source": [
    "predictions = model.predict(X_test)\n",
    "y_pred = predictions\n",
    "matrix_test = metrics.classification_report(y_test.argmax(axis=1), y_pred.argmax(axis=1))\n",
    "print(\"Testing selesai\")\n",
    "print(matrix_test)"
   ]
  },
  {
   "cell_type": "markdown",
   "id": "fa936bca-b87a-4bc2-acb7-35f4f526a344",
   "metadata": {},
   "source": [
    "## K Cross Validation"
   ]
  },
  {
   "cell_type": "code",
   "execution_count": 101,
   "id": "9492e4fb-f2f8-49f7-9562-48e288e421cc",
   "metadata": {},
   "outputs": [],
   "source": [
    "from sklearn.model_selection import KFold\n",
    "from sklearn.metrics import accuracy_score\n",
    "from sklearn.metrics import classification_report\n",
    "from sklearn.model_selection import KFold"
   ]
  },
  {
   "cell_type": "code",
   "execution_count": 102,
   "id": "a335539e-a939-4dcd-81f6-6b2835c7872d",
   "metadata": {},
   "outputs": [],
   "source": [
    "kf = KFold(n_splits=5,random_state=42,shuffle=True)\n",
    "\n",
    "accuracies = []\n",
    "y = Y\n",
    "embed_dim = 100\n",
    "units = 64"
   ]
  },
  {
   "cell_type": "code",
   "execution_count": 103,
   "id": "15f00c9e-bd49-4be3-9a75-258433889a1c",
   "metadata": {},
   "outputs": [
    {
     "name": "stdout",
     "output_type": "stream",
     "text": [
      "Epoch 1/50\n",
      "274/274 [==============================] - 64s 220ms/step - loss: 0.6575 - accuracy: 0.7280 - val_loss: 0.5408 - val_accuracy: 0.7723\n",
      "Epoch 2/50\n",
      "274/274 [==============================] - 56s 203ms/step - loss: 0.4190 - accuracy: 0.8254 - val_loss: 0.4287 - val_accuracy: 0.8240\n",
      "Epoch 3/50\n",
      "274/274 [==============================] - 57s 210ms/step - loss: 0.2619 - accuracy: 0.9040 - val_loss: 0.4004 - val_accuracy: 0.8441\n",
      "Epoch 4/50\n",
      "274/274 [==============================] - 63s 230ms/step - loss: 0.1824 - accuracy: 0.9340 - val_loss: 0.4281 - val_accuracy: 0.8381\n",
      "Epoch 5/50\n",
      "274/274 [==============================] - 58s 211ms/step - loss: 0.1327 - accuracy: 0.9516 - val_loss: 0.4678 - val_accuracy: 0.8528\n",
      "Epoch 5: early stopping\n",
      "69/69 [==============================] - 2s 12ms/step\n",
      "Training ke- 1\n",
      "              precision    recall  f1-score   support\n",
      "\n",
      "           0       0.80      0.79      0.80       687\n",
      "           1       0.72      0.79      0.76       229\n",
      "           2       0.91      0.90      0.90      1271\n",
      "\n",
      "    accuracy                           0.85      2187\n",
      "   macro avg       0.81      0.83      0.82      2187\n",
      "weighted avg       0.85      0.85      0.85      2187\n",
      "\n",
      "======================================================\n",
      "Epoch 1/50\n",
      "274/274 [==============================] - 64s 221ms/step - loss: 0.6763 - accuracy: 0.7152 - val_loss: 0.5282 - val_accuracy: 0.7860\n",
      "Epoch 2/50\n",
      "274/274 [==============================] - 57s 209ms/step - loss: 0.4189 - accuracy: 0.8314 - val_loss: 0.3826 - val_accuracy: 0.8496\n",
      "Epoch 3/50\n",
      "274/274 [==============================] - 60s 219ms/step - loss: 0.2640 - accuracy: 0.9026 - val_loss: 0.3562 - val_accuracy: 0.8738\n",
      "Epoch 4/50\n",
      "274/274 [==============================] - 63s 230ms/step - loss: 0.1797 - accuracy: 0.9365 - val_loss: 0.3722 - val_accuracy: 0.8651\n",
      "Epoch 5/50\n",
      "274/274 [==============================] - 63s 231ms/step - loss: 0.1343 - accuracy: 0.9520 - val_loss: 0.4015 - val_accuracy: 0.8656\n",
      "Epoch 5: early stopping\n",
      "69/69 [==============================] - 2s 13ms/step\n",
      "Training ke- 2\n",
      "              precision    recall  f1-score   support\n",
      "\n",
      "           0       0.97      0.94      0.96       687\n",
      "           1       0.97      0.98      0.97       229\n",
      "           2       0.97      0.98      0.97      1271\n",
      "\n",
      "    accuracy                           0.97      2187\n",
      "   macro avg       0.97      0.97      0.97      2187\n",
      "weighted avg       0.97      0.97      0.97      2187\n",
      "\n",
      "======================================================\n",
      "Epoch 1/50\n",
      "274/274 [==============================] - 76s 223ms/step - loss: 0.6699 - accuracy: 0.7177 - val_loss: 0.5219 - val_accuracy: 0.7883\n",
      "Epoch 2/50\n",
      "274/274 [==============================] - 61s 223ms/step - loss: 0.3941 - accuracy: 0.8455 - val_loss: 0.4061 - val_accuracy: 0.8468\n",
      "Epoch 3/50\n",
      "274/274 [==============================] - 58s 213ms/step - loss: 0.2548 - accuracy: 0.9108 - val_loss: 0.3863 - val_accuracy: 0.8583\n",
      "Epoch 4/50\n",
      "274/274 [==============================] - 60s 218ms/step - loss: 0.1783 - accuracy: 0.9373 - val_loss: 0.4011 - val_accuracy: 0.8564\n",
      "Epoch 5/50\n",
      "274/274 [==============================] - 62s 227ms/step - loss: 0.1311 - accuracy: 0.9543 - val_loss: 0.4379 - val_accuracy: 0.8441\n",
      "Epoch 5: early stopping\n",
      "69/69 [==============================] - 3s 22ms/step\n",
      "Training ke- 3\n",
      "              precision    recall  f1-score   support\n",
      "\n",
      "           0       0.94      0.96      0.95       687\n",
      "           1       0.97      0.98      0.97       229\n",
      "           2       0.98      0.97      0.97      1271\n",
      "\n",
      "    accuracy                           0.97      2187\n",
      "   macro avg       0.96      0.97      0.97      2187\n",
      "weighted avg       0.97      0.97      0.97      2187\n",
      "\n",
      "======================================================\n",
      "Epoch 1/50\n",
      "274/274 [==============================] - 64s 217ms/step - loss: 0.6734 - accuracy: 0.7293 - val_loss: 0.5174 - val_accuracy: 0.7800\n",
      "Epoch 2/50\n",
      "274/274 [==============================] - 59s 214ms/step - loss: 0.4073 - accuracy: 0.8353 - val_loss: 0.3736 - val_accuracy: 0.8545\n",
      "Epoch 3/50\n",
      "274/274 [==============================] - 60s 218ms/step - loss: 0.2585 - accuracy: 0.9065 - val_loss: 0.3543 - val_accuracy: 0.8573\n",
      "Epoch 4/50\n",
      "274/274 [==============================] - 60s 220ms/step - loss: 0.1801 - accuracy: 0.9364 - val_loss: 0.3605 - val_accuracy: 0.8605\n",
      "Epoch 5/50\n",
      "274/274 [==============================] - 60s 220ms/step - loss: 0.1334 - accuracy: 0.9537 - val_loss: 0.4381 - val_accuracy: 0.8500\n",
      "Epoch 5: early stopping\n",
      "69/69 [==============================] - 2s 11ms/step\n",
      "Training ke- 4\n",
      "              precision    recall  f1-score   support\n",
      "\n",
      "           0       0.94      0.97      0.95       687\n",
      "           1       0.96      0.98      0.97       229\n",
      "           2       0.98      0.96      0.97      1271\n",
      "\n",
      "    accuracy                           0.97      2187\n",
      "   macro avg       0.96      0.97      0.97      2187\n",
      "weighted avg       0.97      0.97      0.97      2187\n",
      "\n",
      "======================================================\n",
      "Epoch 1/50\n",
      "274/274 [==============================] - 67s 227ms/step - loss: 0.6706 - accuracy: 0.7201 - val_loss: 0.5191 - val_accuracy: 0.7823\n",
      "Epoch 2/50\n",
      "274/274 [==============================] - 63s 230ms/step - loss: 0.4162 - accuracy: 0.8342 - val_loss: 0.4294 - val_accuracy: 0.8307\n",
      "Epoch 3/50\n",
      "274/274 [==============================] - 57s 208ms/step - loss: 0.2699 - accuracy: 0.9025 - val_loss: 0.3825 - val_accuracy: 0.8623\n",
      "Epoch 4/50\n",
      "274/274 [==============================] - 57s 210ms/step - loss: 0.1868 - accuracy: 0.9348 - val_loss: 0.4038 - val_accuracy: 0.8618\n",
      "Epoch 5/50\n",
      "274/274 [==============================] - 56s 205ms/step - loss: 0.1369 - accuracy: 0.9529 - val_loss: 0.4744 - val_accuracy: 0.8463\n",
      "Epoch 5: early stopping\n",
      "69/69 [==============================] - 2s 13ms/step\n",
      "Training ke- 5\n",
      "              precision    recall  f1-score   support\n",
      "\n",
      "           0       0.94      0.97      0.96       687\n",
      "           1       0.95      0.97      0.96       229\n",
      "           2       0.98      0.97      0.97      1271\n",
      "\n",
      "    accuracy                           0.97      2187\n",
      "   macro avg       0.96      0.97      0.96      2187\n",
      "weighted avg       0.97      0.97      0.97      2187\n",
      "\n",
      "======================================================\n",
      "\n",
      "\n",
      "\n",
      "Rata-rata Accuracy:  0.9441\n"
     ]
    }
   ],
   "source": [
    "for iteration, data in enumerate(kf.split(X), start=1):\n",
    "\n",
    "    data_train   = X[data[0]]\n",
    "    target_train = y[data[0]]\n",
    "\n",
    "    data_test    = X[data[1]]\n",
    "    target_test  = y[data[1]]\n",
    "\n",
    "    model = Sequential()\n",
    "    model.add(Embedding(max_features, embed_dim, input_length=X.shape[1]))\n",
    "    model.add(LSTM(units, dropout=0.5))\n",
    "    model.add(Dense(3,activation='softmax'))\n",
    "    \n",
    "    adam = optimizers.Adam(learning_rate = 0.0005)\n",
    "    model.compile(loss = 'categorical_crossentropy', optimizer = adam, metrics = ['accuracy'])\n",
    "\n",
    "    es = EarlyStopping(monitor='val_loss', mode='min', verbose=1, patience=2)\n",
    "    history = model.fit(data_train, target_train, epochs=50, batch_size=32, validation_data=(data_test, target_test), verbose=1, callbacks=[es])\n",
    "\n",
    "    predictions = model.predict(X_test)\n",
    "    y_pred = predictions\n",
    "\n",
    "    accuracy = accuracy_score(y_test.argmax(axis=1), y_pred.argmax(axis=1))\n",
    "\n",
    "    print(\"Training ke-\", iteration)\n",
    "    print(classification_report(y_test.argmax(axis=1), y_pred.argmax(axis=1)))\n",
    "    print(\"======================================================\")\n",
    "\n",
    "    accuracies.append(accuracy)\n",
    "\n",
    "average_accuracy = np.mean(accuracies)\n",
    "\n",
    "print()\n",
    "print()\n",
    "print()\n",
    "print(\"Rata-rata Accuracy: \", round(average_accuracy,4))"
   ]
  },
  {
   "cell_type": "markdown",
   "id": "778ed926-c63b-4747-94aa-a7f554ddc8ed",
   "metadata": {},
   "source": [
    "## Evaluation Visualization"
   ]
  },
  {
   "cell_type": "code",
   "execution_count": 104,
   "id": "0101d244-89be-49b4-8a9e-d8e6fc774330",
   "metadata": {},
   "outputs": [
    {
     "data": {
      "image/png": "[encoded data removed]",
      "text/plain": [
       "<Figure size 1200x500 with 2 Axes>"
      ]
     },
     "metadata": {},
     "output_type": "display_data"
    }
   ],
   "source": [
    "import matplotlib.pyplot as plt\n",
    "plt.style.use('ggplot')\n",
    "\n",
    "def plot_history(history):\n",
    "    acc = history.history['accuracy']\n",
    "    val_acc = history.history['val_accuracy']\n",
    "    loss = history.history['loss']\n",
    "    val_loss = history.history['val_loss']\n",
    "    x = range(1, len(acc) + 1)\n",
    "\n",
    "    plt.figure(figsize=(12, 5))\n",
    "    plt.subplot(1, 2, 1)\n",
    "    plt.plot(x, acc, 'b', label='Training acc')\n",
    "    plt.plot(x, val_acc, 'r', label='Validation acc')\n",
    "    plt.title('Training and validation accuracy')\n",
    "    plt.legend()\n",
    "    plt.subplot(1, 2, 2)\n",
    "    plt.plot(x, loss, 'b', label='Training loss')\n",
    "    plt.plot(x, val_loss, 'r', label='Validation loss')\n",
    "    plt.title('Training and validation loss')\n",
    "    plt.legend()\n",
    "\n",
    "%matplotlib inline\n",
    "plot_history(history)"
   ]
  },
  {
   "cell_type": "code",
   "execution_count": 105,
   "id": "c352c06f-53b5-435b-bd94-e70e2fe96f0c",
   "metadata": {},
   "outputs": [
    {
     "name": "stdout",
     "output_type": "stream",
     "text": [
      "Model has created!\n"
     ]
    }
   ],
   "source": [
    "# Save the model\n",
    "\n",
    "model.save('model_lstm.keras')\n",
    "print(\"Model has created!\")"
   ]
  },
  {
   "cell_type": "markdown",
   "id": "00541235-f37e-461a-9b9c-075492871cc4",
   "metadata": {},
   "source": [
    "## Prediction"
   ]
  },
  {
   "cell_type": "code",
   "execution_count": 106,
   "id": "005d3e64-e671-4d49-a8db-8332c3826629",
   "metadata": {},
   "outputs": [
    {
     "name": "stdout",
     "output_type": "stream",
     "text": [
      "1/1 [==============================] - 2s 2s/step\n",
      "Text: dasar cina \n",
      "Sentiment: negative\n"
     ]
    }
   ],
   "source": [
    "from keras.models import load_model\n",
    "\n",
    "input_text = \"\"\"dasar cina lu  \"\"\"\n",
    "\n",
    "sentiment = ['negative', 'neutral', 'positive']\n",
    "\n",
    "text = [cleansing(input_text)]\n",
    "predicted = tokenizer.texts_to_sequences(text)\n",
    "guess = pad_sequences(predicted, maxlen=X.shape[1])\n",
    "\n",
    "model = load_model('model_lstm.keras')\n",
    "prediction = model.predict(guess)\n",
    "polarity = np.argmax(prediction[0])\n",
    "hasil = sentiment[polarity]\n",
    "\n",
    "print(\"Text: %s\" % text[0])\n",
    "print(\"Sentiment: %s\" % sentiment[polarity])"
   ]
  },
  {
   "cell_type": "code",
   "execution_count": 107,
   "id": "98b628a1-89dd-4056-8bf1-2b6a82a50c1e",
   "metadata": {},
   "outputs": [
    {
     "name": "stdout",
     "output_type": "stream",
     "text": [
      "1/1 [==============================] - 2s 2s/step\n",
      "Text: sekolahnya bagus\n",
      "Sentiment: negative\n"
     ]
    }
   ],
   "source": [
    "input_text = \"\"\"sekolahnya bagus\"\"\"\n",
    "\n",
    "def cleansing(sent):\n",
    "    string = sent.lower()\n",
    "    string = re.sub(r'[^a-zA-Z0-9]', ' ', string)\n",
    "    return string\n",
    "\n",
    "sentiment = ['negative', 'neutral', 'positive']\n",
    "\n",
    "text = [cleansing(input_text)]\n",
    "predicted = tokenizer.texts_to_sequences(text)\n",
    "guess = pad_sequences(predicted, maxlen=X.shape[1])\n",
    "\n",
    "model = load_model('model_lstm.keras')\n",
    "prediction = model.predict(guess)\n",
    "polarity = np.argmax(prediction[0])\n",
    "hasil = sentiment[polarity]\n",
    "\n",
    "print(\"Text: %s\" % text[0])\n",
    "print(\"Sentiment: %s\" % sentiment[polarity])"
   ]
  },
  {
   "cell_type": "markdown",
   "id": "103fa932-0f5f-459b-8499-860f178d7ebb",
   "metadata": {},
   "source": [
    "# **Prediksi Data Tweet**"
   ]
  },
  {
   "cell_type": "code",
   "execution_count": 109,
   "id": "a54d20bc-9164-458f-89d0-24a83b9952e6",
   "metadata": {},
   "outputs": [],
   "source": [
    "data_twt = 'Data Tweet/data.csv'\n",
    "df_tweet = pd.read_csv(data_twt, encoding='latin-1')"
   ]
  },
  {
   "cell_type": "code",
   "execution_count": 110,
   "id": "05a5488f-b662-45ce-99dd-087f43033f0f",
   "metadata": {},
   "outputs": [
    {
     "data": {
      "text/html": [
       "<div>\n",
       "<style scoped>\n",
       "    .dataframe tbody tr th:only-of-type {\n",
       "        vertical-align: middle;\n",
       "    }\n",
       "\n",
       "    .dataframe tbody tr th {\n",
       "        vertical-align: top;\n",
       "    }\n",
       "\n",
       "    .dataframe thead th {\n",
       "        text-align: right;\n",
       "    }\n",
       "</style>\n",
       "<table border=\"1\" class=\"dataframe\">\n",
       "  <thead>\n",
       "    <tr style=\"text-align: right;\">\n",
       "      <th></th>\n",
       "      <th>Tweet</th>\n",
       "    </tr>\n",
       "  </thead>\n",
       "  <tbody>\n",
       "    <tr>\n",
       "      <th>0</th>\n",
       "      <td>- disaat semua cowok berusaha melacak perhatia...</td>\n",
       "    </tr>\n",
       "    <tr>\n",
       "      <th>1</th>\n",
       "      <td>RT USER: USER siapa yang telat ngasih tau elu?...</td>\n",
       "    </tr>\n",
       "    <tr>\n",
       "      <th>2</th>\n",
       "      <td>41. Kadang aku berfikir, kenapa aku tetap perc...</td>\n",
       "    </tr>\n",
       "    <tr>\n",
       "      <th>3</th>\n",
       "      <td>USER USER AKU ITU AKU\\n\\nKU TAU MATAMU SIPIT T...</td>\n",
       "    </tr>\n",
       "    <tr>\n",
       "      <th>4</th>\n",
       "      <td>USER USER Kaum cebong kapir udah keliatan dong...</td>\n",
       "    </tr>\n",
       "  </tbody>\n",
       "</table>\n",
       "</div>"
      ],
      "text/plain": [
       "                                               Tweet\n",
       "0  - disaat semua cowok berusaha melacak perhatia...\n",
       "1  RT USER: USER siapa yang telat ngasih tau elu?...\n",
       "2  41. Kadang aku berfikir, kenapa aku tetap perc...\n",
       "3  USER USER AKU ITU AKU\\n\\nKU TAU MATAMU SIPIT T...\n",
       "4  USER USER Kaum cebong kapir udah keliatan dong..."
      ]
     },
     "execution_count": 110,
     "metadata": {},
     "output_type": "execute_result"
    }
   ],
   "source": [
    "df_predict = df_tweet[['Tweet']].copy()\n",
    "df_predict.head()"
   ]
  },
  {
   "cell_type": "markdown",
   "id": "0d4c28a7-0a74-4395-a245-5535442cd9e3",
   "metadata": {},
   "source": [
    "# **Predict**"
   ]
  },
  {
   "cell_type": "code",
   "execution_count": 123,
   "id": "7e97cdf0-8d88-4564-9d92-2d5360ad3e20",
   "metadata": {},
   "outputs": [],
   "source": [
    "import re \n",
    "from keras.models import load_model\n",
    "import numpy as np\n",
    "import pickle\n",
    "from tensorflow.keras.preprocessing.sequence import pad_sequences"
   ]
  },
  {
   "cell_type": "code",
   "execution_count": 124,
   "id": "2a78fa38-9b23-4ed4-9c91-ddb382cc90e1",
   "metadata": {},
   "outputs": [],
   "source": [
    "sentiment = ['negative', 'neutral', 'positive']\n",
    "\n",
    "def get_sent(sent):\n",
    "    if sent==0:\n",
    "        sent='negative'\n",
    "    elif sent==1:\n",
    "        sent='neutral'\n",
    "    else: sent='positive'\n",
    "    return sent\n",
    "\n",
    "file_tokenizer = open('tokenizer.pickle', 'rb')\n",
    "file_sequencer = open('x_pad_sequences.pickle', 'rb')\n",
    "load_tokenizer = pickle.load(file_tokenizer)\n",
    "load_sequencer = pickle.load(file_sequencer)\n",
    "file_sequencer.close()\n",
    "model_lstm = load_model('model_lstm.keras')"
   ]
  },
  {
   "cell_type": "markdown",
   "id": "ed4244a6-b348-41d2-ab67-7b72159befe6",
   "metadata": {},
   "source": [
    "### Predict DataFrame"
   ]
  },
  {
   "cell_type": "code",
   "execution_count": 122,
   "id": "60dee045-3221-4170-a6d5-bfaadbe575e5",
   "metadata": {},
   "outputs": [
    {
     "name": "stdout",
     "output_type": "stream",
     "text": [
      "412/412 [==============================] - 7s 16ms/step\n"
     ]
    }
   ],
   "source": [
    "data_pre = df_predict['Tweet']\n",
    "\n",
    "data_processed= []\n",
    "for text in data_pre:\n",
    "  text = cleansing(text)\n",
    "  data_processed.append(text)\n",
    "    \n",
    "feature = load_tokenizer.texts_to_sequences(data_processed)\n",
    "sequences= pad_sequences(feature, maxlen=load_sequencer.shape[1])\n",
    "\n",
    "prediction = model.predict(sequences)\n",
    "get_sentiment = np.argmax(prediction, axis=1)\n",
    "get_sentiment = get_sentiment.reshape(-1,1)\n",
    "\n",
    "get= []\n",
    "for text in get_sentiment:\n",
    "    sent= get_sent(text)\n",
    "    get.append(sent)"
   ]
  },
  {
   "cell_type": "code",
   "execution_count": 125,
   "id": "f5a9745f-dfe8-4254-afc1-170947d2955a",
   "metadata": {},
   "outputs": [],
   "source": [
    "df_predict['Text_Clean']= data_processed\n",
    "df_predict['Sentiment']= get"
   ]
  },
  {
   "cell_type": "code",
   "execution_count": 126,
   "id": "0abfdd4e-34f4-4339-8b14-d1ca51938aa9",
   "metadata": {},
   "outputs": [
    {
     "data": {
      "text/html": [
       "<div>\n",
       "<style scoped>\n",
       "    .dataframe tbody tr th:only-of-type {\n",
       "        vertical-align: middle;\n",
       "    }\n",
       "\n",
       "    .dataframe tbody tr th {\n",
       "        vertical-align: top;\n",
       "    }\n",
       "\n",
       "    .dataframe thead th {\n",
       "        text-align: right;\n",
       "    }\n",
       "</style>\n",
       "<table border=\"1\" class=\"dataframe\">\n",
       "  <thead>\n",
       "    <tr style=\"text-align: right;\">\n",
       "      <th></th>\n",
       "      <th>Tweet</th>\n",
       "      <th>Text_Clean</th>\n",
       "      <th>Sentiment</th>\n",
       "    </tr>\n",
       "  </thead>\n",
       "  <tbody>\n",
       "    <tr>\n",
       "      <th>0</th>\n",
       "      <td>- disaat semua cowok berusaha melacak perhatia...</td>\n",
       "      <td>cowok berusaha melacak perhatian gue lantas r...</td>\n",
       "      <td>negative</td>\n",
       "    </tr>\n",
       "    <tr>\n",
       "      <th>1</th>\n",
       "      <td>RT USER: USER siapa yang telat ngasih tau elu?...</td>\n",
       "      <td>telat tau edan sarap gue bergaul cigax jifla ...</td>\n",
       "      <td>negative</td>\n",
       "    </tr>\n",
       "    <tr>\n",
       "      <th>2</th>\n",
       "      <td>41. Kadang aku berfikir, kenapa aku tetap perc...</td>\n",
       "      <td>kadang berpikir percaya tuhan jatuh berkali ka...</td>\n",
       "      <td>positive</td>\n",
       "    </tr>\n",
       "    <tr>\n",
       "      <th>3</th>\n",
       "      <td>USER USER AKU ITU AKU\\n\\nKU TAU MATAMU SIPIT T...</td>\n",
       "      <td>ku tau matamu sipit</td>\n",
       "      <td>neutral</td>\n",
       "    </tr>\n",
       "    <tr>\n",
       "      <th>4</th>\n",
       "      <td>USER USER Kaum cebong kapir udah keliatan dong...</td>\n",
       "      <td>kaum cebong kafir dongoknya dungu haha</td>\n",
       "      <td>negative</td>\n",
       "    </tr>\n",
       "    <tr>\n",
       "      <th>...</th>\n",
       "      <td>...</td>\n",
       "      <td>...</td>\n",
       "      <td>...</td>\n",
       "    </tr>\n",
       "    <tr>\n",
       "      <th>13164</th>\n",
       "      <td>USER jangan asal ngomong ndasmu. congor lu yg ...</td>\n",
       "      <td>berbicara ndasmu congor sekateanjyng</td>\n",
       "      <td>negative</td>\n",
       "    </tr>\n",
       "    <tr>\n",
       "      <th>13165</th>\n",
       "      <td>USER Kasur mana enak kunyuk'</td>\n",
       "      <td>kasur enak kunyuk</td>\n",
       "      <td>negative</td>\n",
       "    </tr>\n",
       "    <tr>\n",
       "      <th>13166</th>\n",
       "      <td>USER Hati hati bisu :( .g\\n\\nlagi bosan huft \\...</td>\n",
       "      <td>hati hati bisu bosan duh</td>\n",
       "      <td>negative</td>\n",
       "    </tr>\n",
       "    <tr>\n",
       "      <th>13167</th>\n",
       "      <td>USER USER USER USER Bom yang real mudah terdet...</td>\n",
       "      <td>bom real mudah terdeteksi bom terkubur dahsyat...</td>\n",
       "      <td>neutral</td>\n",
       "    </tr>\n",
       "    <tr>\n",
       "      <th>13168</th>\n",
       "      <td>USER Mana situ ngasih(\": itu cuma foto ya kuti...</td>\n",
       "      <td>situ foto ya kutil onta</td>\n",
       "      <td>negative</td>\n",
       "    </tr>\n",
       "  </tbody>\n",
       "</table>\n",
       "<p>13169 rows × 3 columns</p>\n",
       "</div>"
      ],
      "text/plain": [
       "                                                   Tweet  \\\n",
       "0      - disaat semua cowok berusaha melacak perhatia...   \n",
       "1      RT USER: USER siapa yang telat ngasih tau elu?...   \n",
       "2      41. Kadang aku berfikir, kenapa aku tetap perc...   \n",
       "3      USER USER AKU ITU AKU\\n\\nKU TAU MATAMU SIPIT T...   \n",
       "4      USER USER Kaum cebong kapir udah keliatan dong...   \n",
       "...                                                  ...   \n",
       "13164  USER jangan asal ngomong ndasmu. congor lu yg ...   \n",
       "13165                       USER Kasur mana enak kunyuk'   \n",
       "13166  USER Hati hati bisu :( .g\\n\\nlagi bosan huft \\...   \n",
       "13167  USER USER USER USER Bom yang real mudah terdet...   \n",
       "13168  USER Mana situ ngasih(\": itu cuma foto ya kuti...   \n",
       "\n",
       "                                              Text_Clean Sentiment  \n",
       "0       cowok berusaha melacak perhatian gue lantas r...  negative  \n",
       "1       telat tau edan sarap gue bergaul cigax jifla ...  negative  \n",
       "2      kadang berpikir percaya tuhan jatuh berkali ka...  positive  \n",
       "3                                   ku tau matamu sipit    neutral  \n",
       "4                kaum cebong kafir dongoknya dungu haha   negative  \n",
       "...                                                  ...       ...  \n",
       "13164              berbicara ndasmu congor sekateanjyng   negative  \n",
       "13165                                 kasur enak kunyuk   negative  \n",
       "13166                          hati hati bisu bosan duh   negative  \n",
       "13167  bom real mudah terdeteksi bom terkubur dahsyat...   neutral  \n",
       "13168                           situ foto ya kutil onta   negative  \n",
       "\n",
       "[13169 rows x 3 columns]"
      ]
     },
     "execution_count": 126,
     "metadata": {},
     "output_type": "execute_result"
    }
   ],
   "source": [
    "df_predict"
   ]
  },
  {
   "cell_type": "code",
   "execution_count": 127,
   "id": "c89c8954-37ed-44e2-8a65-13a2e592d3df",
   "metadata": {},
   "outputs": [
    {
     "name": "stderr",
     "output_type": "stream",
     "text": [
      "C:\\Users\\admin\\AppData\\Local\\Temp\\ipykernel_1000\\4013206606.py:5: FutureWarning: \n",
      "\n",
      "Passing `palette` without assigning `hue` is deprecated and will be removed in v0.14.0. Assign the `x` variable to `hue` and set `legend=False` for the same effect.\n",
      "\n",
      "  ax = sns.countplot(x='Sentiment', data=df_predict, palette=color_palette)\n",
      "C:\\Users\\admin\\AppData\\Local\\Temp\\ipykernel_1000\\4013206606.py:5: UserWarning: The palette list has more values (9) than needed (3), which may not be intended.\n",
      "  ax = sns.countplot(x='Sentiment', data=df_predict, palette=color_palette)\n"
     ]
    },
    {
     "data": {
      "text/plain": [
       "<function matplotlib.pyplot.show(close=None, block=None)>"
      ]
     },
     "execution_count": 127,
     "metadata": {},
     "output_type": "execute_result"
    },
    {
     "data": {
      "image/png": "[encoded data removed]",
      "text/plain": [
       "<Figure size 800x600 with 1 Axes>"
      ]
     },
     "metadata": {},
     "output_type": "display_data"
    }
   ],
   "source": [
    "import seaborn as sns\n",
    "\n",
    "color_palette = sns.color_palette(\"Set1\")\n",
    "plt.figure(figsize=(8, 6))\n",
    "ax = sns.countplot(x='Sentiment', data=df_predict, palette=color_palette)\n",
    "\n",
    "# Menambahkan label angka pada setiap bar\n",
    "for p in ax.patches:\n",
    "    ax.annotate(f'{p.get_height()}', (p.get_x() + p.get_width() / 2., p.get_height()),\n",
    "                ha='center', va='center', xytext=(0, 10), textcoords='offset points')\n",
    "\n",
    "# Menambahkan label sumbu dan judul\n",
    "plt.xlabel('Sentiment')\n",
    "plt.ylabel('Jumlah')\n",
    "plt.title('Countplot Sentiment')\n",
    "\n",
    "# Menampilkan plot\n",
    "plt.show"
   ]
  }
 ],
 "metadata": {
  "kernelspec": {
   "display_name": "Python 3 (ipykernel)",
   "language": "python",
   "name": "python3"
  },
  "language_info": {
   "codemirror_mode": {
    "name": "ipython",
    "version": 3
   },
   "file_extension": ".py",
   "mimetype": "text/x-python",
   "name": "python",
   "nbconvert_exporter": "python",
   "pygments_lexer": "ipython3",
   "version": "3.11.6"
  }
 },
 "nbformat": 4,
 "nbformat_minor": 5
}
