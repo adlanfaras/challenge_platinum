{
 "cells": [
  {
   "cell_type": "markdown",
   "metadata": {},
   "source": [
    "### Import and cleansing data"
   ]
  },
  {
   "cell_type": "code",
   "execution_count": 153,
   "metadata": {},
   "outputs": [],
   "source": [
    "import pandas as pd\n",
    "import re\n",
    "import pickle"
   ]
  },
  {
   "cell_type": "code",
   "execution_count": 154,
   "metadata": {},
   "outputs": [
    {
     "data": {
      "text/html": [
       "<div>\n",
       "<style scoped>\n",
       "    .dataframe tbody tr th:only-of-type {\n",
       "        vertical-align: middle;\n",
       "    }\n",
       "\n",
       "    .dataframe tbody tr th {\n",
       "        vertical-align: top;\n",
       "    }\n",
       "\n",
       "    .dataframe thead th {\n",
       "        text-align: right;\n",
       "    }\n",
       "</style>\n",
       "<table border=\"1\" class=\"dataframe\">\n",
       "  <thead>\n",
       "    <tr style=\"text-align: right;\">\n",
       "      <th></th>\n",
       "      <th>text</th>\n",
       "      <th>label</th>\n",
       "    </tr>\n",
       "  </thead>\n",
       "  <tbody>\n",
       "    <tr>\n",
       "      <th>0</th>\n",
       "      <td>warung ini dimiliki oleh pengusaha pabrik tahu...</td>\n",
       "      <td>positive</td>\n",
       "    </tr>\n",
       "    <tr>\n",
       "      <th>1</th>\n",
       "      <td>mohon ulama lurus dan k212 mmbri hujjah partai...</td>\n",
       "      <td>neutral</td>\n",
       "    </tr>\n",
       "    <tr>\n",
       "      <th>2</th>\n",
       "      <td>lokasi strategis di jalan sumatera bandung . t...</td>\n",
       "      <td>positive</td>\n",
       "    </tr>\n",
       "    <tr>\n",
       "      <th>3</th>\n",
       "      <td>betapa bahagia nya diri ini saat unboxing pake...</td>\n",
       "      <td>positive</td>\n",
       "    </tr>\n",
       "    <tr>\n",
       "      <th>4</th>\n",
       "      <td>duh . jadi mahasiswa jangan sombong dong . kas...</td>\n",
       "      <td>negative</td>\n",
       "    </tr>\n",
       "    <tr>\n",
       "      <th>...</th>\n",
       "      <td>...</td>\n",
       "      <td>...</td>\n",
       "    </tr>\n",
       "    <tr>\n",
       "      <th>10995</th>\n",
       "      <td>tidak kecewa</td>\n",
       "      <td>positive</td>\n",
       "    </tr>\n",
       "    <tr>\n",
       "      <th>10996</th>\n",
       "      <td>enak rasa masakan nya apalagi kepiting yang me...</td>\n",
       "      <td>positive</td>\n",
       "    </tr>\n",
       "    <tr>\n",
       "      <th>10997</th>\n",
       "      <td>hormati partai-partai yang telah berkoalisi</td>\n",
       "      <td>neutral</td>\n",
       "    </tr>\n",
       "    <tr>\n",
       "      <th>10998</th>\n",
       "      <td>pagi pagi di tol pasteur sudah macet parah , b...</td>\n",
       "      <td>negative</td>\n",
       "    </tr>\n",
       "    <tr>\n",
       "      <th>10999</th>\n",
       "      <td>meskipun sering belanja ke yogya di riau junct...</td>\n",
       "      <td>positive</td>\n",
       "    </tr>\n",
       "  </tbody>\n",
       "</table>\n",
       "<p>11000 rows × 2 columns</p>\n",
       "</div>"
      ],
      "text/plain": [
       "                                                    text     label\n",
       "0      warung ini dimiliki oleh pengusaha pabrik tahu...  positive\n",
       "1      mohon ulama lurus dan k212 mmbri hujjah partai...   neutral\n",
       "2      lokasi strategis di jalan sumatera bandung . t...  positive\n",
       "3      betapa bahagia nya diri ini saat unboxing pake...  positive\n",
       "4      duh . jadi mahasiswa jangan sombong dong . kas...  negative\n",
       "...                                                  ...       ...\n",
       "10995                                       tidak kecewa  positive\n",
       "10996  enak rasa masakan nya apalagi kepiting yang me...  positive\n",
       "10997        hormati partai-partai yang telah berkoalisi   neutral\n",
       "10998  pagi pagi di tol pasteur sudah macet parah , b...  negative\n",
       "10999  meskipun sering belanja ke yogya di riau junct...  positive\n",
       "\n",
       "[11000 rows x 2 columns]"
      ]
     },
     "execution_count": 154,
     "metadata": {},
     "output_type": "execute_result"
    }
   ],
   "source": [
    "df = pd.read_csv(\"train_preprocess.tsv.txt\", encoding=\"latin1\", sep='\\t', header=None, names=[\"text\", \"label\"])\n",
    "df"
   ]
  },
  {
   "cell_type": "code",
   "execution_count": 155,
   "metadata": {},
   "outputs": [
    {
     "name": "stdout",
     "output_type": "stream",
     "text": [
      "<class 'pandas.core.frame.DataFrame'>\n",
      "RangeIndex: 11000 entries, 0 to 10999\n",
      "Data columns (total 2 columns):\n",
      " #   Column  Non-Null Count  Dtype \n",
      "---  ------  --------------  ----- \n",
      " 0   text    11000 non-null  object\n",
      " 1   label   11000 non-null  object\n",
      "dtypes: object(2)\n",
      "memory usage: 172.0+ KB\n"
     ]
    }
   ],
   "source": [
    "df.info()"
   ]
  },
  {
   "cell_type": "code",
   "execution_count": 156,
   "metadata": {},
   "outputs": [
    {
     "data": {
      "text/plain": [
       "text     0\n",
       "label    0\n",
       "dtype: int64"
      ]
     },
     "execution_count": 156,
     "metadata": {},
     "output_type": "execute_result"
    }
   ],
   "source": [
    "df.isnull().sum()"
   ]
  },
  {
   "cell_type": "code",
   "execution_count": 157,
   "metadata": {},
   "outputs": [
    {
     "data": {
      "text/plain": [
       "67"
      ]
     },
     "execution_count": 157,
     "metadata": {},
     "output_type": "execute_result"
    }
   ],
   "source": [
    "df.duplicated().sum()"
   ]
  },
  {
   "cell_type": "code",
   "execution_count": 158,
   "metadata": {},
   "outputs": [
    {
     "data": {
      "text/plain": [
       "0"
      ]
     },
     "execution_count": 158,
     "metadata": {},
     "output_type": "execute_result"
    }
   ],
   "source": [
    "df = df.drop_duplicates()\n",
    "df.duplicated().sum()"
   ]
  },
  {
   "cell_type": "code",
   "execution_count": 159,
   "metadata": {},
   "outputs": [
    {
     "data": {
      "text/plain": [
       "(10933, 2)"
      ]
     },
     "execution_count": 159,
     "metadata": {},
     "output_type": "execute_result"
    }
   ],
   "source": [
    "df.shape"
   ]
  },
  {
   "cell_type": "code",
   "execution_count": 160,
   "metadata": {},
   "outputs": [
    {
     "data": {
      "text/plain": [
       "positive    6383\n",
       "negative    3412\n",
       "neutral     1138\n",
       "Name: label, dtype: int64"
      ]
     },
     "execution_count": 160,
     "metadata": {},
     "output_type": "execute_result"
    }
   ],
   "source": [
    "df.label.value_counts()"
   ]
  },
  {
   "cell_type": "code",
   "execution_count": 161,
   "metadata": {},
   "outputs": [
    {
     "name": "stderr",
     "output_type": "stream",
     "text": [
      "[nltk_data] Downloading package stopwords to\n",
      "[nltk_data]     C:\\Users\\darre\\AppData\\Roaming\\nltk_data...\n",
      "[nltk_data]   Package stopwords is already up-to-date!\n"
     ]
    }
   ],
   "source": [
    "import nltk\n",
    "from nltk.corpus import stopwords\n",
    "nltk.download('stopwords')\n",
    "list_stopwords = set(stopwords.words('indonesian'))"
   ]
  },
  {
   "cell_type": "code",
   "execution_count": 162,
   "metadata": {},
   "outputs": [
    {
     "data": {
      "text/html": [
       "<div>\n",
       "<style scoped>\n",
       "    .dataframe tbody tr th:only-of-type {\n",
       "        vertical-align: middle;\n",
       "    }\n",
       "\n",
       "    .dataframe tbody tr th {\n",
       "        vertical-align: top;\n",
       "    }\n",
       "\n",
       "    .dataframe thead th {\n",
       "        text-align: right;\n",
       "    }\n",
       "</style>\n",
       "<table border=\"1\" class=\"dataframe\">\n",
       "  <thead>\n",
       "    <tr style=\"text-align: right;\">\n",
       "      <th></th>\n",
       "      <th>alay</th>\n",
       "      <th>formal</th>\n",
       "    </tr>\n",
       "  </thead>\n",
       "  <tbody>\n",
       "    <tr>\n",
       "      <th>0</th>\n",
       "      <td>anakjakartaasikasik</td>\n",
       "      <td>anak jakarta asyik asyik</td>\n",
       "    </tr>\n",
       "    <tr>\n",
       "      <th>1</th>\n",
       "      <td>pakcikdahtua</td>\n",
       "      <td>pak cik sudah tua</td>\n",
       "    </tr>\n",
       "    <tr>\n",
       "      <th>2</th>\n",
       "      <td>pakcikmudalagi</td>\n",
       "      <td>pak cik muda lagi</td>\n",
       "    </tr>\n",
       "    <tr>\n",
       "      <th>3</th>\n",
       "      <td>t3tapjokowi</td>\n",
       "      <td>tetap jokowi</td>\n",
       "    </tr>\n",
       "    <tr>\n",
       "      <th>4</th>\n",
       "      <td>3x</td>\n",
       "      <td>tiga kali</td>\n",
       "    </tr>\n",
       "    <tr>\n",
       "      <th>...</th>\n",
       "      <td>...</td>\n",
       "      <td>...</td>\n",
       "    </tr>\n",
       "    <tr>\n",
       "      <th>15162</th>\n",
       "      <td>mendikbud</td>\n",
       "      <td>menteri pendidikan dan kebudayaan</td>\n",
       "    </tr>\n",
       "    <tr>\n",
       "      <th>15163</th>\n",
       "      <td>mendag</td>\n",
       "      <td>menteri perdagangan</td>\n",
       "    </tr>\n",
       "    <tr>\n",
       "      <th>15164</th>\n",
       "      <td>menaker</td>\n",
       "      <td>menteri tenaga kerja</td>\n",
       "    </tr>\n",
       "    <tr>\n",
       "      <th>15165</th>\n",
       "      <td>memetwit</td>\n",
       "      <td>mentwit</td>\n",
       "    </tr>\n",
       "    <tr>\n",
       "      <th>15166</th>\n",
       "      <td>megangin</td>\n",
       "      <td>memegang</td>\n",
       "    </tr>\n",
       "  </tbody>\n",
       "</table>\n",
       "<p>15167 rows × 2 columns</p>\n",
       "</div>"
      ],
      "text/plain": [
       "                      alay                             formal\n",
       "0      anakjakartaasikasik           anak jakarta asyik asyik\n",
       "1             pakcikdahtua                  pak cik sudah tua\n",
       "2           pakcikmudalagi                  pak cik muda lagi\n",
       "3              t3tapjokowi                       tetap jokowi\n",
       "4                       3x                          tiga kali\n",
       "...                    ...                                ...\n",
       "15162            mendikbud  menteri pendidikan dan kebudayaan\n",
       "15163               mendag                menteri perdagangan\n",
       "15164              menaker               menteri tenaga kerja\n",
       "15165             memetwit                            mentwit\n",
       "15166             megangin                           memegang\n",
       "\n",
       "[15167 rows x 2 columns]"
      ]
     },
     "execution_count": 162,
     "metadata": {},
     "output_type": "execute_result"
    }
   ],
   "source": [
    "daftar_alay = pd.read_csv('new_kamusalay.csv', encoding='ISO-8859-1', header=None)\n",
    "daftar_alay = daftar_alay.rename(columns={0: 'alay', 1: 'formal'})\n",
    "daftar_alay"
   ]
  },
  {
   "cell_type": "code",
   "execution_count": 163,
   "metadata": {},
   "outputs": [],
   "source": [
    "def data_cleaning (text):\n",
    "    clean1 = re.sub ('\\\\n','', text)\n",
    "    clean2 = re.sub ('RT',' ', clean1)\n",
    "    clean3 = re.sub ('USER', ' ', clean2)\n",
    "    clean4 = re.sub ('(http|https):\\/\\/s+', ' ', clean3)\n",
    "    clean5 = re.sub ('[^0-9a-zA-Z]+', ' ', clean4)\n",
    "    clean6 = re.sub ('x[a-z0-9]{2}', ' ', clean5)\n",
    "    clean7 = re.sub (\"\\d+\", ' ', clean6)\n",
    "    clean8 = re.sub ('  +', '', clean7)\n",
    "    return clean8\n",
    "\n",
    "def case_folding (text):\n",
    "    return text.lower()\n",
    "\n",
    "def alay_normalization(text):\n",
    "    res = ''\n",
    "    for item in text.split():\n",
    "        if item in daftar_alay['alay'].values:\n",
    "            res += daftar_alay[daftar_alay['alay'] == item]['formal'].iloc[0]\n",
    "        else:\n",
    "            res += item\n",
    "        res += ' '\n",
    "    return res\n",
    "\n",
    "def stopword_removal(text):\n",
    "    resp = ''\n",
    "    for item in text.split():\n",
    "        if item not in list_stopwords:\n",
    "            resp += item\n",
    "        resp +=' '\n",
    "    clean = re.sub('  +', ' ', resp)\n",
    "    return clean\n",
    "\n",
    "def cleansing(text):\n",
    "    text = data_cleaning(text)\n",
    "    text = case_folding(text)\n",
    "    text = alay_normalization(text)\n",
    "    text = stopword_removal(text)\n",
    "    return text"
   ]
  },
  {
   "cell_type": "code",
   "execution_count": 164,
   "metadata": {},
   "outputs": [
    {
     "name": "stderr",
     "output_type": "stream",
     "text": [
      "c:\\Users\\darre\\anaconda3\\envs\\datascience\\lib\\site-packages\\ipykernel_launcher.py:1: SettingWithCopyWarning: \n",
      "A value is trying to be set on a copy of a slice from a DataFrame.\n",
      "Try using .loc[row_indexer,col_indexer] = value instead\n",
      "\n",
      "See the caveats in the documentation: https://pandas.pydata.org/pandas-docs/stable/user_guide/indexing.html#returning-a-view-versus-a-copy\n",
      "  \"\"\"Entry point for launching an IPython kernel.\n"
     ]
    },
    {
     "data": {
      "text/html": [
       "<div>\n",
       "<style scoped>\n",
       "    .dataframe tbody tr th:only-of-type {\n",
       "        vertical-align: middle;\n",
       "    }\n",
       "\n",
       "    .dataframe tbody tr th {\n",
       "        vertical-align: top;\n",
       "    }\n",
       "\n",
       "    .dataframe thead th {\n",
       "        text-align: right;\n",
       "    }\n",
       "</style>\n",
       "<table border=\"1\" class=\"dataframe\">\n",
       "  <thead>\n",
       "    <tr style=\"text-align: right;\">\n",
       "      <th></th>\n",
       "      <th>text</th>\n",
       "      <th>label</th>\n",
       "    </tr>\n",
       "  </thead>\n",
       "  <tbody>\n",
       "    <tr>\n",
       "      <th>0</th>\n",
       "      <td>warung dimiliki pengusaha pabrik puluhan terke...</td>\n",
       "      <td>positive</td>\n",
       "    </tr>\n",
       "    <tr>\n",
       "      <th>1</th>\n",
       "      <td>mohon ulama lurus kmmbri hujjah partai diwlh s...</td>\n",
       "      <td>neutral</td>\n",
       "    </tr>\n",
       "    <tr>\n",
       "      <th>2</th>\n",
       "      <td>lokasi strategis jalan sumatra bandung nya nya...</td>\n",
       "      <td>positive</td>\n",
       "    </tr>\n",
       "    <tr>\n",
       "      <th>3</th>\n",
       "      <td>betapa bahagia nya unbo paket barang nya bagus...</td>\n",
       "      <td>positive</td>\n",
       "    </tr>\n",
       "    <tr>\n",
       "      <th>4</th>\n",
       "      <td>aduh mahasiswa sombong kasih kartu kuning bela...</td>\n",
       "      <td>negative</td>\n",
       "    </tr>\n",
       "    <tr>\n",
       "      <th>...</th>\n",
       "      <td>...</td>\n",
       "      <td>...</td>\n",
       "    </tr>\n",
       "    <tr>\n",
       "      <th>10993</th>\n",
       "      <td>f demokrat dorong upaya kemandirian energi nas...</td>\n",
       "      <td>neutral</td>\n",
       "    </tr>\n",
       "    <tr>\n",
       "      <th>10994</th>\n",
       "      <td>bosan</td>\n",
       "      <td>positive</td>\n",
       "    </tr>\n",
       "    <tr>\n",
       "      <th>10996</th>\n",
       "      <td>enak masakan nya kepiting menyenangkan memilih...</td>\n",
       "      <td>positive</td>\n",
       "    </tr>\n",
       "    <tr>\n",
       "      <th>10998</th>\n",
       "      <td>pagi pagi tol pasteur macet parah bikin jengkel</td>\n",
       "      <td>negative</td>\n",
       "    </tr>\n",
       "    <tr>\n",
       "      <th>10999</th>\n",
       "      <td>belanja yogyakarta riau junction kali lihat f...</td>\n",
       "      <td>positive</td>\n",
       "    </tr>\n",
       "  </tbody>\n",
       "</table>\n",
       "<p>10933 rows × 2 columns</p>\n",
       "</div>"
      ],
      "text/plain": [
       "                                                    text     label\n",
       "0      warung dimiliki pengusaha pabrik puluhan terke...  positive\n",
       "1      mohon ulama lurus kmmbri hujjah partai diwlh s...   neutral\n",
       "2      lokasi strategis jalan sumatra bandung nya nya...  positive\n",
       "3      betapa bahagia nya unbo paket barang nya bagus...  positive\n",
       "4      aduh mahasiswa sombong kasih kartu kuning bela...  negative\n",
       "...                                                  ...       ...\n",
       "10993  f demokrat dorong upaya kemandirian energi nas...   neutral\n",
       "10994                                             bosan   positive\n",
       "10996  enak masakan nya kepiting menyenangkan memilih...  positive\n",
       "10998   pagi pagi tol pasteur macet parah bikin jengkel   negative\n",
       "10999   belanja yogyakarta riau junction kali lihat f...  positive\n",
       "\n",
       "[10933 rows x 2 columns]"
      ]
     },
     "execution_count": 164,
     "metadata": {},
     "output_type": "execute_result"
    }
   ],
   "source": [
    "df['text'] = df['text'].apply(cleansing)\n",
    "df"
   ]
  },
  {
   "cell_type": "markdown",
   "metadata": {},
   "source": [
    "### Feature Extraction"
   ]
  },
  {
   "cell_type": "markdown",
   "metadata": {},
   "source": [
    "#### TFIDF Vectorizer"
   ]
  },
  {
   "cell_type": "code",
   "execution_count": 165,
   "metadata": {},
   "outputs": [],
   "source": [
    "from sklearn.feature_extraction.text import TfidfVectorizer\n",
    "\n",
    "data_preprocessed = df.text.tolist()"
   ]
  },
  {
   "cell_type": "code",
   "execution_count": 166,
   "metadata": {},
   "outputs": [
    {
     "name": "stdout",
     "output_type": "stream",
     "text": [
      "       aakan  aan  aapertizer  aas   ab  abad  abaddengan  abaddigit  abaikan  \\\n",
      "0        0.0  0.0         0.0  0.0  0.0   0.0         0.0        0.0      0.0   \n",
      "1        0.0  0.0         0.0  0.0  0.0   0.0         0.0        0.0      0.0   \n",
      "2        0.0  0.0         0.0  0.0  0.0   0.0         0.0        0.0      0.0   \n",
      "3        0.0  0.0         0.0  0.0  0.0   0.0         0.0        0.0      0.0   \n",
      "4        0.0  0.0         0.0  0.0  0.0   0.0         0.0        0.0      0.0   \n",
      "...      ...  ...         ...  ...  ...   ...         ...        ...      ...   \n",
      "10928    0.0  0.0         0.0  0.0  0.0   0.0         0.0        0.0      0.0   \n",
      "10929    0.0  0.0         0.0  0.0  0.0   0.0         0.0        0.0      0.0   \n",
      "10930    0.0  0.0         0.0  0.0  0.0   0.0         0.0        0.0      0.0   \n",
      "10931    0.0  0.0         0.0  0.0  0.0   0.0         0.0        0.0      0.0   \n",
      "10932    0.0  0.0         0.0  0.0  0.0   0.0         0.0        0.0      0.0   \n",
      "\n",
      "       abal  ...  zonpoliticon  zoo  zoom  zubir  zulfikri  zulkarnain  zup  \\\n",
      "0       0.0  ...           0.0  0.0   0.0    0.0       0.0         0.0  0.0   \n",
      "1       0.0  ...           0.0  0.0   0.0    0.0       0.0         0.0  0.0   \n",
      "2       0.0  ...           0.0  0.0   0.0    0.0       0.0         0.0  0.0   \n",
      "3       0.0  ...           0.0  0.0   0.0    0.0       0.0         0.0  0.0   \n",
      "4       0.0  ...           0.0  0.0   0.0    0.0       0.0         0.0  0.0   \n",
      "...     ...  ...           ...  ...   ...    ...       ...         ...  ...   \n",
      "10928   0.0  ...           0.0  0.0   0.0    0.0       0.0         0.0  0.0   \n",
      "10929   0.0  ...           0.0  0.0   0.0    0.0       0.0         0.0  0.0   \n",
      "10930   0.0  ...           0.0  0.0   0.0    0.0       0.0         0.0  0.0   \n",
      "10931   0.0  ...           0.0  0.0   0.0    0.0       0.0         0.0  0.0   \n",
      "10932   0.0  ...           0.0  0.0   0.0    0.0       0.0         0.0  0.0   \n",
      "\n",
      "       zupa  zuppa  zwitsal  \n",
      "0       0.0    0.0      0.0  \n",
      "1       0.0    0.0      0.0  \n",
      "2       0.0    0.0      0.0  \n",
      "3       0.0    0.0      0.0  \n",
      "4       0.0    0.0      0.0  \n",
      "...     ...    ...      ...  \n",
      "10928   0.0    0.0      0.0  \n",
      "10929   0.0    0.0      0.0  \n",
      "10930   0.0    0.0      0.0  \n",
      "10931   0.0    0.0      0.0  \n",
      "10932   0.0    0.0      0.0  \n",
      "\n",
      "[10933 rows x 17046 columns]\n",
      "Feature Extraction selesai\n"
     ]
    }
   ],
   "source": [
    "tfidf_vect = TfidfVectorizer()\n",
    "\n",
    "X = tfidf_vect.fit_transform(data_preprocessed)\n",
    "\n",
    "pickle.dump(tfidf_vect, open(\"vectorizer.pkl\", \"wb\"))\n",
    "\n",
    "tfidf_array = X.toarray()\n",
    "df_array = pd.DataFrame(data=tfidf_array, columns = tfidf_vect.get_feature_names_out())\n",
    "\n",
    "print(df_array)\n",
    "print(\"Feature Extraction selesai\")"
   ]
  },
  {
   "cell_type": "markdown",
   "metadata": {},
   "source": [
    "### Train Dataset"
   ]
  },
  {
   "cell_type": "code",
   "execution_count": 167,
   "metadata": {},
   "outputs": [],
   "source": [
    "from sklearn.model_selection import train_test_split"
   ]
  },
  {
   "cell_type": "code",
   "execution_count": 168,
   "metadata": {},
   "outputs": [],
   "source": [
    "# save output feature in variable classes\n",
    "classes = df.label\n",
    "\n",
    "# split dataset to 80% train and 20% test\n",
    "X_train, X_test, y_train, y_test = train_test_split(X, classes, test_size = 0.2)"
   ]
  },
  {
   "cell_type": "code",
   "execution_count": 169,
   "metadata": {},
   "outputs": [
    {
     "name": "stdout",
     "output_type": "stream",
     "text": [
      "(8746, 17046)\n",
      "(2187, 17046)\n",
      "(8746,)\n",
      "(2187,)\n"
     ]
    }
   ],
   "source": [
    "print(X_train.shape)\n",
    "print(X_test.shape)\n",
    "print(y_train.shape)\n",
    "print(y_test.shape)"
   ]
  },
  {
   "cell_type": "markdown",
   "metadata": {},
   "source": [
    "### Creating Neural Network Model"
   ]
  },
  {
   "cell_type": "code",
   "execution_count": 170,
   "metadata": {},
   "outputs": [],
   "source": [
    "from sklearn.neural_network import MLPClassifier"
   ]
  },
  {
   "cell_type": "code",
   "execution_count": 171,
   "metadata": {},
   "outputs": [
    {
     "name": "stdout",
     "output_type": "stream",
     "text": [
      "Finished training model\n"
     ]
    }
   ],
   "source": [
    "model = MLPClassifier(hidden_layer_sizes=(100,), max_iter=500, activation='relu', random_state=42)\n",
    "model.fit(X_train, y_train)\n",
    "\n",
    "print(\"Finished training model\")\n",
    "\n",
    "pickle.dump(model, open(\"model_NN.pkl\", \"wb\"))"
   ]
  },
  {
   "cell_type": "markdown",
   "metadata": {},
   "source": [
    "### Model Evaluation"
   ]
  },
  {
   "cell_type": "code",
   "execution_count": 172,
   "metadata": {},
   "outputs": [],
   "source": [
    "from sklearn.metrics import classification_report\n",
    "from sklearn.metrics import confusion_matrix\n",
    "import seaborn as sns\n",
    "import matplotlib.pyplot as plt"
   ]
  },
  {
   "cell_type": "code",
   "execution_count": 173,
   "metadata": {},
   "outputs": [
    {
     "name": "stdout",
     "output_type": "stream",
     "text": [
      "              precision    recall  f1-score   support\n",
      "\n",
      "    negative       0.69      0.75      0.72       653\n",
      "     neutral       0.78      0.58      0.67       233\n",
      "    positive       0.86      0.87      0.87      1301\n",
      "\n",
      "    accuracy                           0.80      2187\n",
      "   macro avg       0.78      0.73      0.75      2187\n",
      "weighted avg       0.80      0.80      0.80      2187\n",
      "\n"
     ]
    }
   ],
   "source": [
    "test = model.predict(X_test)\n",
    "\n",
    "print(classification_report(y_test, test))"
   ]
  },
  {
   "cell_type": "code",
   "execution_count": 174,
   "metadata": {},
   "outputs": [
    {
     "data": {
      "image/png": "[encoded data removed]",
      "text/plain": [
       "<Figure size 500x400 with 2 Axes>"
      ]
     },
     "metadata": {},
     "output_type": "display_data"
    }
   ],
   "source": [
    "cm = confusion_matrix(y_test, test, labels=[\"negative\", \"neutral\", \"positive\"])\n",
    "\n",
    "cm_df = pd.DataFrame(cm,\n",
    "                     index =[\"negative\", \"neutral\", \"positive\"],\n",
    "                     columns =[\"negative\", \"neutral\", \"positive\"])\n",
    "\n",
    "# Plotting the confusion matrix\n",
    "plt.figure(figsize=(5,4))\n",
    "sns.heatmap(cm_df, annot=True)\n",
    "plt.title('Confusion Matrix')\n",
    "plt.ylabel('Actual Values')\n",
    "plt.xlabel('Predicted Values')\n",
    "plt.show()"
   ]
  },
  {
   "cell_type": "code",
   "execution_count": 175,
   "metadata": {},
   "outputs": [],
   "source": [
    "from sklearn.model_selection import KFold\n",
    "from sklearn.metrics import accuracy_score, recall_score, precision_score, f1_score\n",
    "from statistics import mean, stdev"
   ]
  },
  {
   "cell_type": "code",
   "execution_count": 176,
   "metadata": {},
   "outputs": [],
   "source": [
    "X = df[[\"text\"]] # input feature\n",
    "Y = df[\"label\"] # output feature\n",
    "\n",
    "# split dataset to 80% train and 20% test\n",
    "X_train, X_test, y_train, y_test = train_test_split(X, Y, test_size = 0.2)"
   ]
  },
  {
   "cell_type": "code",
   "execution_count": 177,
   "metadata": {},
   "outputs": [],
   "source": [
    "# cross validation dengan split = 5\n",
    "kf = KFold(n_splits=5, random_state=42, shuffle=True)\n",
    "\n",
    "accuracies=[]\n",
    "\n",
    "X_train = X_train.reset_index().text\n",
    "y_train = y_train.reset_index().label"
   ]
  },
  {
   "cell_type": "code",
   "execution_count": 178,
   "metadata": {},
   "outputs": [],
   "source": [
    "def cross_validation(k, X_train, model, name):\n",
    "  accuracies = []\n",
    "  precisions = []\n",
    "  recalls = []\n",
    "  f1_scores = []\n",
    "\n",
    "  # iterate sebanyak k cross validation\n",
    "  for iteration, data in enumerate(kf.split(X_train), start=1):\n",
    "      # get data and target train\n",
    "      data_train = X_train[data[0]]\n",
    "      tfidf_vect = TfidfVectorizer()\n",
    "      data_train = tfidf_vect.fit_transform(data_train)\n",
    "\n",
    "      target_train = y_train[data[0]]\n",
    "\n",
    "      # get data and target test\n",
    "      data_test =  X_train[data[1]]\n",
    "      data_test = tfidf_vect.transform(data_test)\n",
    "\n",
    "      target_test =  y_train[data[1]]\n",
    "\n",
    "      # model training menggunakan data train\n",
    "      classifier = model\n",
    "      classifier.fit(data_train, target_train)\n",
    "\n",
    "      # prediksi data test\n",
    "      preds = classifier.predict(data_test)\n",
    "\n",
    "      # menghitung accuracy\n",
    "      accuracy = accuracy_score(target_test, preds)\n",
    "      precision = precision_score(target_test, preds, average='weighted')\n",
    "      recall = recall_score(target_test, preds, average='weighted')\n",
    "      f1 = f1_score(target_test, preds, average='weighted')\n",
    "\n",
    "      # print(\"Training ke-\", iteration)\n",
    "      # print(classification_report(target_test, preds))\n",
    "      # print(\"=================================================================\")\n",
    "\n",
    "      accuracies.append(accuracy)\n",
    "      precisions.append(precision)\n",
    "      recalls.append(recall)\n",
    "      f1_scores.append(f1)\n",
    "\n",
    "  result = {'algorithm': name,\n",
    "                'accuracy_per_iter': accuracies, 'accuracy_mean': mean(accuracies), 'accuracy_std': stdev(accuracies),\n",
    "                'recall_mean': mean(recalls),'precision_mean': mean(precisions), 'f1_mean': mean(f1_scores)}\n",
    "  return result"
   ]
  },
  {
   "cell_type": "code",
   "execution_count": 179,
   "metadata": {},
   "outputs": [
    {
     "data": {
      "text/plain": [
       "{'algorithm': 'Neural Network',\n",
       " 'accuracy_per_iter': [0.7931428571428571,\n",
       "  0.8147512864493996,\n",
       "  0.7975986277873071,\n",
       "  0.8004574042309891,\n",
       "  0.7901658090337336],\n",
       " 'accuracy_mean': 0.7992231969288573,\n",
       " 'accuracy_std': 0.009543202608587958,\n",
       " 'recall_mean': 0.7992231969288573,\n",
       " 'precision_mean': 0.7983529779636062,\n",
       " 'f1_mean': 0.7967740221598595}"
      ]
     },
     "execution_count": 179,
     "metadata": {},
     "output_type": "execute_result"
    }
   ],
   "source": [
    "result = cross_validation(5, X_train, MLPClassifier(), \"Neural Network\")\n",
    "result"
   ]
  },
  {
   "cell_type": "markdown",
   "metadata": {},
   "source": [
    "### Prediction Test"
   ]
  },
  {
   "cell_type": "code",
   "execution_count": 180,
   "metadata": {},
   "outputs": [
    {
     "name": "stdout",
     "output_type": "stream",
     "text": [
      "Sentiment: positive\n"
     ]
    }
   ],
   "source": [
    "original_text =  'SAYA SUKA MAKANAN ITU, ENAK SEKALI'\n",
    "\n",
    "# Feature Extraction\n",
    "text = tfidf_vect.transform([cleansing(original_text)])\n",
    "\n",
    "# Sentiment prediction\n",
    "result = model.predict(text)[0]\n",
    "print(\"Sentiment:\", result)"
   ]
  },
  {
   "cell_type": "code",
   "execution_count": 181,
   "metadata": {},
   "outputs": [
    {
     "name": "stdout",
     "output_type": "stream",
     "text": [
      "Sentiment: negative\n"
     ]
    }
   ],
   "source": [
    "original_text =  'MEREKA bodoh bgt sih.'\n",
    "\n",
    "# Feature Extraction\n",
    "text = tfidf_vect.transform([cleansing(original_text)])\n",
    "\n",
    "# Sentiment prediction\n",
    "result = model.predict(text)[0]\n",
    "print(\"Sentiment:\", result)"
   ]
  },
  {
   "cell_type": "markdown",
   "metadata": {},
   "source": [
    "### Predict New Data"
   ]
  },
  {
   "cell_type": "code",
   "execution_count": 182,
   "metadata": {},
   "outputs": [],
   "source": [
    "from sklearn.preprocessing import LabelEncoder\n",
    "from sklearn.model_selection import train_test_split\n",
    "from sklearn.neural_network import MLPClassifier\n",
    "import joblib"
   ]
  },
  {
   "cell_type": "code",
   "execution_count": 183,
   "metadata": {},
   "outputs": [],
   "source": [
    "# Memuat vectorizer dan model dari file\n",
    "vectorizer = joblib.load('vectorizer.pkl')\n",
    "model_nn = joblib.load('model_NN.pkl')"
   ]
  },
  {
   "cell_type": "code",
   "execution_count": 185,
   "metadata": {},
   "outputs": [],
   "source": [
    "df_predict = pd.read_csv(\"data.csv\", encoding='latin-1')"
   ]
  },
  {
   "cell_type": "code",
   "execution_count": 186,
   "metadata": {},
   "outputs": [
    {
     "data": {
      "text/html": [
       "<div>\n",
       "<style scoped>\n",
       "    .dataframe tbody tr th:only-of-type {\n",
       "        vertical-align: middle;\n",
       "    }\n",
       "\n",
       "    .dataframe tbody tr th {\n",
       "        vertical-align: top;\n",
       "    }\n",
       "\n",
       "    .dataframe thead th {\n",
       "        text-align: right;\n",
       "    }\n",
       "</style>\n",
       "<table border=\"1\" class=\"dataframe\">\n",
       "  <thead>\n",
       "    <tr style=\"text-align: right;\">\n",
       "      <th></th>\n",
       "      <th>Tweet</th>\n",
       "      <th>HS</th>\n",
       "      <th>Abusive</th>\n",
       "      <th>HS_Individual</th>\n",
       "      <th>HS_Group</th>\n",
       "      <th>HS_Religion</th>\n",
       "      <th>HS_Race</th>\n",
       "      <th>HS_Physical</th>\n",
       "      <th>HS_Gender</th>\n",
       "      <th>HS_Other</th>\n",
       "      <th>HS_Weak</th>\n",
       "      <th>HS_Moderate</th>\n",
       "      <th>HS_Strong</th>\n",
       "      <th>cleaned_tweet</th>\n",
       "    </tr>\n",
       "  </thead>\n",
       "  <tbody>\n",
       "    <tr>\n",
       "      <th>0</th>\n",
       "      <td>- disaat semua cowok berusaha melacak perhatia...</td>\n",
       "      <td>1</td>\n",
       "      <td>1</td>\n",
       "      <td>1</td>\n",
       "      <td>0</td>\n",
       "      <td>0</td>\n",
       "      <td>0</td>\n",
       "      <td>0</td>\n",
       "      <td>0</td>\n",
       "      <td>1</td>\n",
       "      <td>1</td>\n",
       "      <td>0</td>\n",
       "      <td>0</td>\n",
       "      <td>cowok berusaha melacak perhatian gue lantas r...</td>\n",
       "    </tr>\n",
       "    <tr>\n",
       "      <th>1</th>\n",
       "      <td>RT USER: USER siapa yang telat ngasih tau elu?...</td>\n",
       "      <td>0</td>\n",
       "      <td>1</td>\n",
       "      <td>0</td>\n",
       "      <td>0</td>\n",
       "      <td>0</td>\n",
       "      <td>0</td>\n",
       "      <td>0</td>\n",
       "      <td>0</td>\n",
       "      <td>0</td>\n",
       "      <td>0</td>\n",
       "      <td>0</td>\n",
       "      <td>0</td>\n",
       "      <td>telat tau edan sarap gue bergaul cigax jifla ...</td>\n",
       "    </tr>\n",
       "    <tr>\n",
       "      <th>2</th>\n",
       "      <td>41. Kadang aku berfikir, kenapa aku tetap perc...</td>\n",
       "      <td>0</td>\n",
       "      <td>0</td>\n",
       "      <td>0</td>\n",
       "      <td>0</td>\n",
       "      <td>0</td>\n",
       "      <td>0</td>\n",
       "      <td>0</td>\n",
       "      <td>0</td>\n",
       "      <td>0</td>\n",
       "      <td>0</td>\n",
       "      <td>0</td>\n",
       "      <td>0</td>\n",
       "      <td>kadang berpikir percaya tuhan jatuh berkali ka...</td>\n",
       "    </tr>\n",
       "    <tr>\n",
       "      <th>3</th>\n",
       "      <td>USER USER AKU ITU AKU\\n\\nKU TAU MATAMU SIPIT T...</td>\n",
       "      <td>0</td>\n",
       "      <td>0</td>\n",
       "      <td>0</td>\n",
       "      <td>0</td>\n",
       "      <td>0</td>\n",
       "      <td>0</td>\n",
       "      <td>0</td>\n",
       "      <td>0</td>\n",
       "      <td>0</td>\n",
       "      <td>0</td>\n",
       "      <td>0</td>\n",
       "      <td>0</td>\n",
       "      <td>ku tau matamu sipit</td>\n",
       "    </tr>\n",
       "    <tr>\n",
       "      <th>4</th>\n",
       "      <td>USER USER Kaum cebong kapir udah keliatan dong...</td>\n",
       "      <td>1</td>\n",
       "      <td>1</td>\n",
       "      <td>0</td>\n",
       "      <td>1</td>\n",
       "      <td>1</td>\n",
       "      <td>0</td>\n",
       "      <td>0</td>\n",
       "      <td>0</td>\n",
       "      <td>0</td>\n",
       "      <td>0</td>\n",
       "      <td>1</td>\n",
       "      <td>0</td>\n",
       "      <td>kaum cebong kafir dongoknya dungu haha</td>\n",
       "    </tr>\n",
       "  </tbody>\n",
       "</table>\n",
       "</div>"
      ],
      "text/plain": [
       "                                               Tweet  HS  Abusive  \\\n",
       "0  - disaat semua cowok berusaha melacak perhatia...   1        1   \n",
       "1  RT USER: USER siapa yang telat ngasih tau elu?...   0        1   \n",
       "2  41. Kadang aku berfikir, kenapa aku tetap perc...   0        0   \n",
       "3  USER USER AKU ITU AKU\\n\\nKU TAU MATAMU SIPIT T...   0        0   \n",
       "4  USER USER Kaum cebong kapir udah keliatan dong...   1        1   \n",
       "\n",
       "   HS_Individual  HS_Group  HS_Religion  HS_Race  HS_Physical  HS_Gender  \\\n",
       "0              1         0            0        0            0          0   \n",
       "1              0         0            0        0            0          0   \n",
       "2              0         0            0        0            0          0   \n",
       "3              0         0            0        0            0          0   \n",
       "4              0         1            1        0            0          0   \n",
       "\n",
       "   HS_Other  HS_Weak  HS_Moderate  HS_Strong  \\\n",
       "0         1        1            0          0   \n",
       "1         0        0            0          0   \n",
       "2         0        0            0          0   \n",
       "3         0        0            0          0   \n",
       "4         0        0            1          0   \n",
       "\n",
       "                                       cleaned_tweet  \n",
       "0   cowok berusaha melacak perhatian gue lantas r...  \n",
       "1   telat tau edan sarap gue bergaul cigax jifla ...  \n",
       "2  kadang berpikir percaya tuhan jatuh berkali ka...  \n",
       "3                               ku tau matamu sipit   \n",
       "4            kaum cebong kafir dongoknya dungu haha   "
      ]
     },
     "execution_count": 186,
     "metadata": {},
     "output_type": "execute_result"
    }
   ],
   "source": [
    "df_predict['cleaned_tweet'] = df_predict['Tweet'].apply(cleansing)\n",
    "df_predict.head()"
   ]
  },
  {
   "cell_type": "code",
   "execution_count": 187,
   "metadata": {},
   "outputs": [],
   "source": [
    "# Menggunakan vectorizer untuk mengubah teks menjadi vektor fitur\n",
    "X = vectorizer.transform(df_predict['cleaned_tweet'])\n",
    "\n",
    "# Melakukan prediksi sentimen dengan model neural network\n",
    "predictions = model_nn.predict(X)\n",
    "\n",
    "# Menambahkan kolom sentimen ke dalam DataFrame\n",
    "df_predict['sentiment'] = predictions"
   ]
  },
  {
   "cell_type": "code",
   "execution_count": 188,
   "metadata": {},
   "outputs": [
    {
     "data": {
      "text/html": [
       "<div>\n",
       "<style scoped>\n",
       "    .dataframe tbody tr th:only-of-type {\n",
       "        vertical-align: middle;\n",
       "    }\n",
       "\n",
       "    .dataframe tbody tr th {\n",
       "        vertical-align: top;\n",
       "    }\n",
       "\n",
       "    .dataframe thead th {\n",
       "        text-align: right;\n",
       "    }\n",
       "</style>\n",
       "<table border=\"1\" class=\"dataframe\">\n",
       "  <thead>\n",
       "    <tr style=\"text-align: right;\">\n",
       "      <th></th>\n",
       "      <th>Tweet</th>\n",
       "      <th>HS</th>\n",
       "      <th>Abusive</th>\n",
       "      <th>HS_Individual</th>\n",
       "      <th>HS_Group</th>\n",
       "      <th>HS_Religion</th>\n",
       "      <th>HS_Race</th>\n",
       "      <th>HS_Physical</th>\n",
       "      <th>HS_Gender</th>\n",
       "      <th>HS_Other</th>\n",
       "      <th>HS_Weak</th>\n",
       "      <th>HS_Moderate</th>\n",
       "      <th>HS_Strong</th>\n",
       "      <th>cleaned_tweet</th>\n",
       "      <th>sentiment</th>\n",
       "    </tr>\n",
       "  </thead>\n",
       "  <tbody>\n",
       "    <tr>\n",
       "      <th>0</th>\n",
       "      <td>- disaat semua cowok berusaha melacak perhatia...</td>\n",
       "      <td>1</td>\n",
       "      <td>1</td>\n",
       "      <td>1</td>\n",
       "      <td>0</td>\n",
       "      <td>0</td>\n",
       "      <td>0</td>\n",
       "      <td>0</td>\n",
       "      <td>0</td>\n",
       "      <td>1</td>\n",
       "      <td>1</td>\n",
       "      <td>0</td>\n",
       "      <td>0</td>\n",
       "      <td>cowok berusaha melacak perhatian gue lantas r...</td>\n",
       "      <td>negative</td>\n",
       "    </tr>\n",
       "    <tr>\n",
       "      <th>1</th>\n",
       "      <td>RT USER: USER siapa yang telat ngasih tau elu?...</td>\n",
       "      <td>0</td>\n",
       "      <td>1</td>\n",
       "      <td>0</td>\n",
       "      <td>0</td>\n",
       "      <td>0</td>\n",
       "      <td>0</td>\n",
       "      <td>0</td>\n",
       "      <td>0</td>\n",
       "      <td>0</td>\n",
       "      <td>0</td>\n",
       "      <td>0</td>\n",
       "      <td>0</td>\n",
       "      <td>telat tau edan sarap gue bergaul cigax jifla ...</td>\n",
       "      <td>positive</td>\n",
       "    </tr>\n",
       "    <tr>\n",
       "      <th>2</th>\n",
       "      <td>41. Kadang aku berfikir, kenapa aku tetap perc...</td>\n",
       "      <td>0</td>\n",
       "      <td>0</td>\n",
       "      <td>0</td>\n",
       "      <td>0</td>\n",
       "      <td>0</td>\n",
       "      <td>0</td>\n",
       "      <td>0</td>\n",
       "      <td>0</td>\n",
       "      <td>0</td>\n",
       "      <td>0</td>\n",
       "      <td>0</td>\n",
       "      <td>0</td>\n",
       "      <td>kadang berpikir percaya tuhan jatuh berkali ka...</td>\n",
       "      <td>positive</td>\n",
       "    </tr>\n",
       "    <tr>\n",
       "      <th>3</th>\n",
       "      <td>USER USER AKU ITU AKU\\n\\nKU TAU MATAMU SIPIT T...</td>\n",
       "      <td>0</td>\n",
       "      <td>0</td>\n",
       "      <td>0</td>\n",
       "      <td>0</td>\n",
       "      <td>0</td>\n",
       "      <td>0</td>\n",
       "      <td>0</td>\n",
       "      <td>0</td>\n",
       "      <td>0</td>\n",
       "      <td>0</td>\n",
       "      <td>0</td>\n",
       "      <td>0</td>\n",
       "      <td>ku tau matamu sipit</td>\n",
       "      <td>positive</td>\n",
       "    </tr>\n",
       "    <tr>\n",
       "      <th>4</th>\n",
       "      <td>USER USER Kaum cebong kapir udah keliatan dong...</td>\n",
       "      <td>1</td>\n",
       "      <td>1</td>\n",
       "      <td>0</td>\n",
       "      <td>1</td>\n",
       "      <td>1</td>\n",
       "      <td>0</td>\n",
       "      <td>0</td>\n",
       "      <td>0</td>\n",
       "      <td>0</td>\n",
       "      <td>0</td>\n",
       "      <td>1</td>\n",
       "      <td>0</td>\n",
       "      <td>kaum cebong kafir dongoknya dungu haha</td>\n",
       "      <td>negative</td>\n",
       "    </tr>\n",
       "    <tr>\n",
       "      <th>...</th>\n",
       "      <td>...</td>\n",
       "      <td>...</td>\n",
       "      <td>...</td>\n",
       "      <td>...</td>\n",
       "      <td>...</td>\n",
       "      <td>...</td>\n",
       "      <td>...</td>\n",
       "      <td>...</td>\n",
       "      <td>...</td>\n",
       "      <td>...</td>\n",
       "      <td>...</td>\n",
       "      <td>...</td>\n",
       "      <td>...</td>\n",
       "      <td>...</td>\n",
       "      <td>...</td>\n",
       "    </tr>\n",
       "    <tr>\n",
       "      <th>13164</th>\n",
       "      <td>USER jangan asal ngomong ndasmu. congor lu yg ...</td>\n",
       "      <td>1</td>\n",
       "      <td>1</td>\n",
       "      <td>1</td>\n",
       "      <td>0</td>\n",
       "      <td>0</td>\n",
       "      <td>0</td>\n",
       "      <td>1</td>\n",
       "      <td>0</td>\n",
       "      <td>0</td>\n",
       "      <td>1</td>\n",
       "      <td>0</td>\n",
       "      <td>0</td>\n",
       "      <td>berbicara ndasmu congor sekateanjyng</td>\n",
       "      <td>negative</td>\n",
       "    </tr>\n",
       "    <tr>\n",
       "      <th>13165</th>\n",
       "      <td>USER Kasur mana enak kunyuk'</td>\n",
       "      <td>0</td>\n",
       "      <td>1</td>\n",
       "      <td>0</td>\n",
       "      <td>0</td>\n",
       "      <td>0</td>\n",
       "      <td>0</td>\n",
       "      <td>0</td>\n",
       "      <td>0</td>\n",
       "      <td>0</td>\n",
       "      <td>0</td>\n",
       "      <td>0</td>\n",
       "      <td>0</td>\n",
       "      <td>kasur enak kunyuk</td>\n",
       "      <td>negative</td>\n",
       "    </tr>\n",
       "    <tr>\n",
       "      <th>13166</th>\n",
       "      <td>USER Hati hati bisu :( .g\\n\\nlagi bosan huft \\...</td>\n",
       "      <td>0</td>\n",
       "      <td>0</td>\n",
       "      <td>0</td>\n",
       "      <td>0</td>\n",
       "      <td>0</td>\n",
       "      <td>0</td>\n",
       "      <td>0</td>\n",
       "      <td>0</td>\n",
       "      <td>0</td>\n",
       "      <td>0</td>\n",
       "      <td>0</td>\n",
       "      <td>0</td>\n",
       "      <td>hati hati bisu bosan duh</td>\n",
       "      <td>negative</td>\n",
       "    </tr>\n",
       "    <tr>\n",
       "      <th>13167</th>\n",
       "      <td>USER USER USER USER Bom yang real mudah terdet...</td>\n",
       "      <td>0</td>\n",
       "      <td>0</td>\n",
       "      <td>0</td>\n",
       "      <td>0</td>\n",
       "      <td>0</td>\n",
       "      <td>0</td>\n",
       "      <td>0</td>\n",
       "      <td>0</td>\n",
       "      <td>0</td>\n",
       "      <td>0</td>\n",
       "      <td>0</td>\n",
       "      <td>0</td>\n",
       "      <td>bom real mudah terdeteksi bom terkubur dahsyat...</td>\n",
       "      <td>negative</td>\n",
       "    </tr>\n",
       "    <tr>\n",
       "      <th>13168</th>\n",
       "      <td>USER Mana situ ngasih(\": itu cuma foto ya kuti...</td>\n",
       "      <td>1</td>\n",
       "      <td>1</td>\n",
       "      <td>1</td>\n",
       "      <td>0</td>\n",
       "      <td>0</td>\n",
       "      <td>0</td>\n",
       "      <td>0</td>\n",
       "      <td>0</td>\n",
       "      <td>1</td>\n",
       "      <td>1</td>\n",
       "      <td>0</td>\n",
       "      <td>0</td>\n",
       "      <td>situ foto ya kutil onta</td>\n",
       "      <td>negative</td>\n",
       "    </tr>\n",
       "  </tbody>\n",
       "</table>\n",
       "<p>13169 rows × 15 columns</p>\n",
       "</div>"
      ],
      "text/plain": [
       "                                                   Tweet  HS  Abusive  \\\n",
       "0      - disaat semua cowok berusaha melacak perhatia...   1        1   \n",
       "1      RT USER: USER siapa yang telat ngasih tau elu?...   0        1   \n",
       "2      41. Kadang aku berfikir, kenapa aku tetap perc...   0        0   \n",
       "3      USER USER AKU ITU AKU\\n\\nKU TAU MATAMU SIPIT T...   0        0   \n",
       "4      USER USER Kaum cebong kapir udah keliatan dong...   1        1   \n",
       "...                                                  ...  ..      ...   \n",
       "13164  USER jangan asal ngomong ndasmu. congor lu yg ...   1        1   \n",
       "13165                       USER Kasur mana enak kunyuk'   0        1   \n",
       "13166  USER Hati hati bisu :( .g\\n\\nlagi bosan huft \\...   0        0   \n",
       "13167  USER USER USER USER Bom yang real mudah terdet...   0        0   \n",
       "13168  USER Mana situ ngasih(\": itu cuma foto ya kuti...   1        1   \n",
       "\n",
       "       HS_Individual  HS_Group  HS_Religion  HS_Race  HS_Physical  HS_Gender  \\\n",
       "0                  1         0            0        0            0          0   \n",
       "1                  0         0            0        0            0          0   \n",
       "2                  0         0            0        0            0          0   \n",
       "3                  0         0            0        0            0          0   \n",
       "4                  0         1            1        0            0          0   \n",
       "...              ...       ...          ...      ...          ...        ...   \n",
       "13164              1         0            0        0            1          0   \n",
       "13165              0         0            0        0            0          0   \n",
       "13166              0         0            0        0            0          0   \n",
       "13167              0         0            0        0            0          0   \n",
       "13168              1         0            0        0            0          0   \n",
       "\n",
       "       HS_Other  HS_Weak  HS_Moderate  HS_Strong  \\\n",
       "0             1        1            0          0   \n",
       "1             0        0            0          0   \n",
       "2             0        0            0          0   \n",
       "3             0        0            0          0   \n",
       "4             0        0            1          0   \n",
       "...         ...      ...          ...        ...   \n",
       "13164         0        1            0          0   \n",
       "13165         0        0            0          0   \n",
       "13166         0        0            0          0   \n",
       "13167         0        0            0          0   \n",
       "13168         1        1            0          0   \n",
       "\n",
       "                                           cleaned_tweet sentiment  \n",
       "0       cowok berusaha melacak perhatian gue lantas r...  negative  \n",
       "1       telat tau edan sarap gue bergaul cigax jifla ...  positive  \n",
       "2      kadang berpikir percaya tuhan jatuh berkali ka...  positive  \n",
       "3                                   ku tau matamu sipit   positive  \n",
       "4                kaum cebong kafir dongoknya dungu haha   negative  \n",
       "...                                                  ...       ...  \n",
       "13164              berbicara ndasmu congor sekateanjyng   negative  \n",
       "13165                                 kasur enak kunyuk   negative  \n",
       "13166                          hati hati bisu bosan duh   negative  \n",
       "13167  bom real mudah terdeteksi bom terkubur dahsyat...  negative  \n",
       "13168                           situ foto ya kutil onta   negative  \n",
       "\n",
       "[13169 rows x 15 columns]"
      ]
     },
     "execution_count": 188,
     "metadata": {},
     "output_type": "execute_result"
    }
   ],
   "source": [
    "df_predict"
   ]
  },
  {
   "cell_type": "markdown",
   "metadata": {},
   "source": [
    "#### Categorical Distribution"
   ]
  },
  {
   "cell_type": "code",
   "execution_count": 189,
   "metadata": {},
   "outputs": [
    {
     "data": {
      "image/png": "[encoded data removed]",
      "text/plain": [
       "<Figure size 640x480 with 1 Axes>"
      ]
     },
     "metadata": {},
     "output_type": "display_data"
    }
   ],
   "source": [
    "from matplotlib import pyplot as plt\n",
    "import seaborn as sns\n",
    "\n",
    "# Menghitung jumlah sentimen\n",
    "sentiment_counts = df_predict['sentiment'].value_counts()\n",
    "\n",
    "# Membuat plot diagram batang horizontal\n",
    "fig, ax = plt.subplots()\n",
    "sentiment_counts.plot(kind='barh', color=sns.color_palette('Dark2', n_colors=len(sentiment_counts)))\n",
    "\n",
    "# Menambahkan nilai angka pada batang diagram\n",
    "for index, value in enumerate(sentiment_counts):\n",
    "    ax.text(value, index, str(value))\n",
    "\n",
    "# Menghilangkan garis-garis di atas dan di kanan plot\n",
    "ax.spines[['top', 'right']].set_visible(False)\n",
    "\n",
    "# Menyertakan label pada sumbu dan judul\n",
    "plt.xlabel('Jumlah')\n",
    "plt.ylabel('Sentimen')\n",
    "plt.title('Distribusi Sentimen')\n",
    "\n",
    "# Menampilkan plot\n",
    "plt.show()"
   ]
  },
  {
   "cell_type": "markdown",
   "metadata": {},
   "source": [
    "### Store Results to DB"
   ]
  },
  {
   "cell_type": "code",
   "execution_count": 190,
   "metadata": {},
   "outputs": [],
   "source": [
    "# Menyimpan hasil prediksi ke dalam database SQLite\n",
    "import sqlite3\n",
    "\n",
    "conn = sqlite3.connect('sentiment_predictions.db')\n",
    "\n",
    "# Sesuaikan dengan nama tabel yang sesuai dengan kebutuhan Anda.\n",
    "df_predict.to_sql('sentiment_predictions', con=conn, index=False, if_exists='replace')\n",
    "\n",
    "# Tutup koneksi setelah selesai\n",
    "conn.close()"
   ]
  }
 ],
 "metadata": {
  "kernelspec": {
   "display_name": "datascience",
   "language": "python",
   "name": "python3"
  },
  "language_info": {
   "codemirror_mode": {
    "name": "ipython",
    "version": 3
   },
   "file_extension": ".py",
   "mimetype": "text/x-python",
   "name": "python",
   "nbconvert_exporter": "python",
   "pygments_lexer": "ipython3",
   "version": "3.7.12"
  }
 },
 "nbformat": 4,
 "nbformat_minor": 2
}
